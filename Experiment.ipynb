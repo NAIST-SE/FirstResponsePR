{
 "cells": [
  {
   "cell_type": "code",
   "execution_count": 1,
   "id": "0a4e94c4",
   "metadata": {},
   "outputs": [],
   "source": [
    "import os\n",
    "import json\n",
    "import glob\n",
    "import numpy as np\n",
    "import collections\n",
    "import seaborn as sns\n",
    "import pandas as pd\n",
    "import requests\n",
    "import time\n",
    "from tqdm.notebook import tqdm\n",
    "import multiprocessing as mp\n",
    "import random\n",
    "import matplotlib.pyplot as plt"
   ]
  },
  {
   "cell_type": "code",
   "execution_count": 2,
   "id": "e6b8baf5",
   "metadata": {},
   "outputs": [
    {
     "name": "stderr",
     "output_type": "stream",
     "text": [
      "WARNING:root:'PYARROW_IGNORE_TIMEZONE' environment variable was not set. It is required to set this environment variable to '1' in both driver and executor sides if you use pyarrow>=2.0.0. Koalas will set it for you but it does not work if there is a Spark context already launched.\n"
     ]
    }
   ],
   "source": [
    "import databricks.koalas as ks\n",
    "from pyspark.sql import SparkSession\n",
    "import pickle"
   ]
  },
  {
   "cell_type": "code",
   "execution_count": 3,
   "id": "dc8e222d",
   "metadata": {},
   "outputs": [],
   "source": [
    "spark_session = SparkSession \\\n",
    "    .builder \\\n",
    "    .appName(\"app\") \\\n",
    "    .master(\"local[50]\") \\\n",
    "    .config(\"spark.driver.memory\",\"200G\")\\\n",
    "    .getOrCreate();\n"
   ]
  },
  {
   "cell_type": "code",
   "execution_count": 4,
   "id": "3368d538",
   "metadata": {},
   "outputs": [],
   "source": [
    "data_path = ''"
   ]
  },
  {
   "cell_type": "code",
   "execution_count": 5,
   "id": "c8a7f19a",
   "metadata": {},
   "outputs": [],
   "source": [
    "filtered_dir = ''"
   ]
  },
  {
   "cell_type": "code",
   "execution_count": 6,
   "id": "a87d5335",
   "metadata": {},
   "outputs": [],
   "source": [
    "exper_dir = ''"
   ]
  },
  {
   "cell_type": "markdown",
   "id": "aecc2330",
   "metadata": {},
   "source": [
    "# List project and select only sample project"
   ]
  },
  {
   "cell_type": "code",
   "execution_count": 8,
   "id": "19fb05b5",
   "metadata": {},
   "outputs": [],
   "source": [
    "projects = ks.read_csv(os.path.join(filtered_dir,'projects/*.csv'))"
   ]
  },
  {
   "cell_type": "code",
   "execution_count": 157,
   "id": "23df7d1d",
   "metadata": {},
   "outputs": [
    {
     "data": {
      "text/plain": [
       "(30434411, 10)"
      ]
     },
     "execution_count": 157,
     "metadata": {},
     "output_type": "execute_result"
    }
   ],
   "source": [
    "projects.shape"
   ]
  },
  {
   "cell_type": "code",
   "execution_count": 80,
   "id": "02b554c6",
   "metadata": {},
   "outputs": [],
   "source": [
    "with open(os.path.join(filtered_dir,\"candidate_projects\"),'rb') as infile:\n",
    "    candidate_project = pickle.load(infile)"
   ]
  },
  {
   "cell_type": "code",
   "execution_count": 9,
   "id": "5721449a",
   "metadata": {},
   "outputs": [],
   "source": [
    "# sql = 'select id, language from {projects} where language==\"Python\" and id in {candidate_project}'\n",
    "sql = 'select id, language from {projects} where id in {candidate_project}'\n",
    "inspect_project = ks.sql(sql)\n",
    "inspect_project.to_csv(os.path.join(exper_dir,'project'))"
   ]
  },
  {
   "cell_type": "code",
   "execution_count": 458,
   "id": "3a110d0b",
   "metadata": {},
   "outputs": [],
   "source": [
    "inspect_project = ks.read_csv(os.path.join(exper_dir,'project/*.csv'))"
   ]
  },
  {
   "cell_type": "code",
   "execution_count": 459,
   "id": "41b73bb6",
   "metadata": {},
   "outputs": [],
   "source": [
    "# inspect_project = inspect_project.sample(frac=0.01, random_state=1)['id'].to_numpy()\n",
    "# inspect_project = [int(i) for i in inspect_project]\n",
    "inspect_project = [int(i) for i in inspect_project['id'].to_numpy()]"
   ]
  },
  {
   "cell_type": "markdown",
   "id": "7f7d699a",
   "metadata": {},
   "source": [
    "# Extract PR of inspect project"
   ]
  },
  {
   "cell_type": "code",
   "execution_count": 9,
   "id": "697d7660",
   "metadata": {},
   "outputs": [],
   "source": [
    "pull_requests = ks.read_csv(os.path.join(filtered_dir,'pull_requests/*.csv'))"
   ]
  },
  {
   "cell_type": "code",
   "execution_count": 14,
   "id": "781c12d7",
   "metadata": {},
   "outputs": [],
   "source": [
    "sql = 'select * from {pull_requests} pr where pr.base_repo_id in {inspect_project}'\n",
    "pull_requests = ks.sql(sql)\n",
    "pull_requests.to_csv(os.path.join(exper_dir,'inspect_pull_requests'))"
   ]
  },
  {
   "cell_type": "code",
   "execution_count": 464,
   "id": "48e6cd84",
   "metadata": {},
   "outputs": [],
   "source": [
    "pull_requests = ks.read_csv(os.path.join(exper_dir,'inspect_pull_requests/*.csv'))"
   ]
  },
  {
   "cell_type": "markdown",
   "id": "2fac4354",
   "metadata": {},
   "source": [
    "# Create bot dictionary"
   ]
  },
  {
   "cell_type": "code",
   "execution_count": 460,
   "id": "df83c403",
   "metadata": {},
   "outputs": [
    {
     "data": {
      "application/vnd.jupyter.widget-view+json": {
       "model_id": "96e040d794fd4e92a139bf785d53ccc2",
       "version_major": 2,
       "version_minor": 0
      },
      "text/plain": [
       "  0%|          | 0/72635 [00:00<?, ?it/s]"
      ]
     },
     "metadata": {},
     "output_type": "display_data"
    }
   ],
   "source": [
    "botlist = pd.DataFrame({'repo_id':[],'user_id':[]})\n",
    "bot_list_path = os.path.join(filtered_dir,'Bot_List')\n",
    "bot_list_file = os.listdir(bot_list_path)\n",
    "for project_num in tqdm(inspect_project):\n",
    "    if f'{project_num}.csv' in bot_list_file:\n",
    "        df = pd.read_csv(os.path.join(bot_list_path,f'{project_num}.csv'))\n",
    "        bots = [int(i) for i in df[df['prediction']=='Bot']['account']]\n",
    "        project_num_as_list = [project_num for i in range(len(bots))]\n",
    "        if len(bots)>0:\n",
    "            botlist = botlist.append(pd.DataFrame({'repo_id':project_num_as_list,'user_id':bots}),ignore_index=True)\n",
    "botlist = ks.from_pandas(botlist)\n",
    "botlist = botlist.astype('int')"
   ]
  },
  {
   "cell_type": "code",
   "execution_count": 463,
   "id": "32a815df",
   "metadata": {},
   "outputs": [
    {
     "data": {
      "text/plain": [
       "72635"
      ]
     },
     "execution_count": 463,
     "metadata": {},
     "output_type": "execute_result"
    }
   ],
   "source": [
    "len(inspect_project)"
   ]
  },
  {
   "cell_type": "code",
   "execution_count": 461,
   "id": "264ef054",
   "metadata": {},
   "outputs": [
    {
     "data": {
      "text/plain": [
       "3039"
      ]
     },
     "execution_count": 461,
     "metadata": {},
     "output_type": "execute_result"
    }
   ],
   "source": [
    "len(botlist)"
   ]
  },
  {
   "cell_type": "markdown",
   "id": "80e4134c",
   "metadata": {},
   "source": [
    "# Extract first contribution and non-first contribution (only closed or merged pull_request & remove pull request from bot)"
   ]
  },
  {
   "cell_type": "code",
   "execution_count": 25,
   "id": "2a35a687",
   "metadata": {},
   "outputs": [],
   "source": [
    "header_list = [\"id\",\"pull_request_id\",\"created_at\",\"action\",\"actor_id\"]\n",
    "pull_request_history = ks.read_csv(os.path.join(data_path,'pull_request_history.csv'), header=None, names=header_list)"
   ]
  },
  {
   "cell_type": "code",
   "execution_count": 26,
   "id": "f7c671b1",
   "metadata": {},
   "outputs": [],
   "source": [
    "# join pr and pr_comment table\n",
    "sql = 'select pr.base_repo_id, pr.id, prh.actor_id, prh.created_at, pr.pullreq_id from {pull_requests} pr inner join {pull_request_history} prh on pr.id == prh.pull_request_id where action ==\"opened\"'\n",
    "pull_requests = ks.sql(sql)"
   ]
  },
  {
   "cell_type": "code",
   "execution_count": 27,
   "id": "95126ac7",
   "metadata": {},
   "outputs": [],
   "source": [
    "# only closed and merged\n",
    "finished_action = ['closed','merged']\n",
    "sub_sql = '(select distinct pull_request_id from {pull_request_history} where action in {finished_action})'\n",
    "sql = 'select distinct(*) from {pull_requests} where id in %s'%(sub_sql)\n",
    "pull_requests = ks.sql(sql)"
   ]
  },
  {
   "cell_type": "code",
   "execution_count": 28,
   "id": "cd70679d",
   "metadata": {},
   "outputs": [],
   "source": [
    "# filter out bot\n",
    "sql = '''select distinct x.base_repo_id, x.id, x.actor_id, x.created_at, x.pullreq_id from\n",
    "    {pull_requests} x LEFT JOIN {botlist} y on x.base_repo_id == y.repo_id\n",
    "    where x.base_repo_id<>y.repo_id or x.actor_id<>y.user_id\n",
    "'''\n",
    "pull_requests = ks.sql(sql)"
   ]
  },
  {
   "cell_type": "code",
   "execution_count": 29,
   "id": "1aa21db6",
   "metadata": {},
   "outputs": [],
   "source": [
    "pull_requests.to_csv(os.path.join(exper_dir,'inspect_pull_requests_author_date'))"
   ]
  },
  {
   "cell_type": "code",
   "execution_count": 466,
   "id": "27439c7a",
   "metadata": {},
   "outputs": [],
   "source": [
    "pull_requests = ks.read_csv(os.path.join(exper_dir,'inspect_pull_requests_author_date/*.csv'))"
   ]
  },
  {
   "cell_type": "code",
   "execution_count": 467,
   "id": "37767d60",
   "metadata": {},
   "outputs": [
    {
     "data": {
      "text/plain": [
       "(2765917, 5)"
      ]
     },
     "execution_count": 467,
     "metadata": {},
     "output_type": "execute_result"
    }
   ],
   "source": [
    "pull_requests.shape"
   ]
  },
  {
   "cell_type": "code",
   "execution_count": 131,
   "id": "682b70e0",
   "metadata": {},
   "outputs": [
    {
     "data": {
      "text/plain": [
       "(292882, 5)"
      ]
     },
     "execution_count": 131,
     "metadata": {},
     "output_type": "execute_result"
    }
   ],
   "source": [
    "first_contribution.shape"
   ]
  },
  {
   "cell_type": "code",
   "execution_count": 135,
   "id": "63af34b9",
   "metadata": {},
   "outputs": [
    {
     "data": {
      "text/plain": [
       "(2473032, 5)"
      ]
     },
     "execution_count": 135,
     "metadata": {},
     "output_type": "execute_result"
    }
   ],
   "source": [
    "non_first_contribution.shape"
   ]
  },
  {
   "cell_type": "code",
   "execution_count": 33,
   "id": "e38e13c9",
   "metadata": {},
   "outputs": [],
   "source": [
    "# sub_sql = '(select base_repo_id, actor_id, MIN(created_at) as created_at from {pull_requests} group by base_repo_id, actor_id)'\n",
    "# sql = 'select x.base_repo_id, x.id, x.actor_id, x.created_at, x.pullreq_id from {pull_requests} x inner join %s y on x.base_repo_id == y.base_repo_id and x.actor_id == y.actor_id and x.created_at == y.created_at order by x.base_repo_id,x.actor_id,x.created_at'%(sub_sql)\n",
    "sql = 'select base_repo_id, id, actor_id, created_at, pullreq_id from {pull_requests} order by base_repo_id, actor_id, created_at'\n",
    "first_contribution = ks.sql(sql)\n",
    "first_contribution = first_contribution.drop_duplicates(subset=['base_repo_id', 'actor_id'], keep='first')\n",
    "first_contribution.to_csv(os.path.join(exper_dir,'first_contribution'))"
   ]
  },
  {
   "cell_type": "code",
   "execution_count": 7,
   "id": "3a81f0d5",
   "metadata": {},
   "outputs": [],
   "source": [
    "first_contribution = ks.read_csv(os.path.join(exper_dir,'first_contribution/*.csv'))"
   ]
  },
  {
   "cell_type": "code",
   "execution_count": null,
   "id": "1f854e55",
   "metadata": {},
   "outputs": [],
   "source": [
    "sub_sql = '(select id from {first_contribution})'\n",
    "sql = 'select * from {pull_requests} where id not in %s'%(sub_sql)\n",
    "non_first_contribution = ks.sql(sql)\n",
    "non_first_contribution.to_csv(os.path.join(exper_dir,'non_first_contribution'))"
   ]
  },
  {
   "cell_type": "code",
   "execution_count": 8,
   "id": "48b5f1e7",
   "metadata": {},
   "outputs": [],
   "source": [
    "non_first_contribution = ks.read_csv(os.path.join(exper_dir,'non_first_contribution/*.csv'))"
   ]
  },
  {
   "cell_type": "markdown",
   "id": "e98ee9a3",
   "metadata": {},
   "source": [
    "# Extract comment in PR of inspect project (remove comment from bot)"
   ]
  },
  {
   "cell_type": "code",
   "execution_count": 10,
   "id": "f381db22",
   "metadata": {},
   "outputs": [],
   "source": [
    "pull_request_comments = ks.read_csv(os.path.join(filtered_dir,'easy_read/pull_request_comments/*.csv'))"
   ]
  },
  {
   "cell_type": "code",
   "execution_count": 275,
   "id": "c15acf6e",
   "metadata": {},
   "outputs": [],
   "source": [
    "sql = 'select prc.comment_id, pr.base_repo_id, prc.pull_request_id, pr.actor_id as pr_author, prc.user_id as comment_author, prc.body, prc.created_at from {pull_request_comments} prc inner join {pull_requests} pr on prc.pull_request_id == pr.id'\n",
    "pull_request_comments = ks.sql(sql)"
   ]
  },
  {
   "cell_type": "code",
   "execution_count": null,
   "id": "599d05dd",
   "metadata": {},
   "outputs": [],
   "source": [
    "# filter out bot\n",
    "sql = '''select distinct x.comment_id, x.base_repo_id, x.pull_request_id, x.pr_author, x.comment_author, x.body, x.created_at from\n",
    "    {pull_request_comments} x LEFT JOIN {botlist} y on x.base_repo_id == y.repo_id\n",
    "    where x.base_repo_id<>y.repo_id or x.comment_author<>y.user_id\n",
    "'''\n",
    "pull_request_comments = ks.sql(sql)"
   ]
  },
  {
   "cell_type": "code",
   "execution_count": 38,
   "id": "b11f3e38",
   "metadata": {},
   "outputs": [],
   "source": [
    "# order\n",
    "sql = 'select * from {pull_request_comments} order by base_repo_id, pull_request_id, created_at'\n",
    "pull_request_comments = ks.sql(sql)"
   ]
  },
  {
   "cell_type": "code",
   "execution_count": 39,
   "id": "b70a6073",
   "metadata": {},
   "outputs": [],
   "source": [
    "pull_request_comments.to_csv(os.path.join(exper_dir,'inspect_pull_request_comments'))"
   ]
  },
  {
   "cell_type": "code",
   "execution_count": 9,
   "id": "25d7aa35",
   "metadata": {},
   "outputs": [],
   "source": [
    "pull_request_comments = ks.read_csv(os.path.join(exper_dir,'inspect_pull_request_comments'))"
   ]
  },
  {
   "cell_type": "markdown",
   "id": "f124a85f",
   "metadata": {},
   "source": [
    "# Extract First Response (author -> consider next comment)"
   ]
  },
  {
   "cell_type": "code",
   "execution_count": 10,
   "id": "f879d21a",
   "metadata": {},
   "outputs": [],
   "source": [
    "first_response = pull_request_comments[pull_request_comments['pr_author']!=pull_request_comments['comment_author']]\n",
    "first_response = first_response.drop_duplicates(subset=['base_repo_id', 'pull_request_id'], keep='first')"
   ]
  },
  {
   "cell_type": "code",
   "execution_count": 97,
   "id": "ad1ee568",
   "metadata": {},
   "outputs": [],
   "source": [
    "# sql = 'SELECT * FROM {first_response} where LENGTH(TRIM(body)) > 3'\n",
    "# first_response = ks.sql(sql)"
   ]
  },
  {
   "cell_type": "code",
   "execution_count": 98,
   "id": "f5a46adf",
   "metadata": {},
   "outputs": [],
   "source": [
    "# # for sanity check\n",
    "# first_response = first_response.sample(frac=1/24300, random_state=1)\n",
    "# first_response.to_csv(os.path.join(exper_dir,'sanitycheck_pull_request_comments')) "
   ]
  },
  {
   "cell_type": "code",
   "execution_count": 99,
   "id": "103159b7",
   "metadata": {},
   "outputs": [],
   "source": [
    "# first_response = ks.read_csv(os.path.join(exper_dir,'sanitycheck_pull_request_comments'))"
   ]
  },
  {
   "cell_type": "code",
   "execution_count": 100,
   "id": "615b1ec7",
   "metadata": {},
   "outputs": [],
   "source": [
    "# first_response.to_csv('sanity.csv',num_files=1)"
   ]
  },
  {
   "cell_type": "code",
   "execution_count": 101,
   "id": "4cc16085",
   "metadata": {},
   "outputs": [],
   "source": [
    "first_response.to_csv(os.path.join(exper_dir,'first_response'),num_files=1)\n",
    "first_response.to_csv(os.path.join(exper_dir,'first_response_tab_sep'),num_files=1, sep=\"\\t\")"
   ]
  },
  {
   "cell_type": "code",
   "execution_count": 9,
   "id": "c49bb697",
   "metadata": {},
   "outputs": [
    {
     "name": "stderr",
     "output_type": "stream",
     "text": [
      "/home/noppadol-a/anaconda3/lib/python3.8/site-packages/pyspark/sql/pandas/functions.py:389: UserWarning: In Python 3.6+ and Spark 3.0+, it is preferred to specify type hints for pandas UDF instead of specifying pandas UDF type which will be deprecated in the future releases. See SPARK-28264 for more details.\n",
      "  warnings.warn(\n"
     ]
    }
   ],
   "source": [
    "emtk_first_response = first_response.copy()\n",
    "emtk_first_response['body'] =  emtk_first_response['body'].apply(lambda x: '\"\"\"' + str(x).replace('\"','').replace(';','') + '\"\"\"')\n",
    "emtk_first_response['label'] = '-'\n",
    "emtk_first_response=emtk_first_response[['comment_id','label','body']]\n",
    "emtk_first_response=emtk_first_response.rename(columns={'comment_id': 'id','body':'text'})"
   ]
  },
  {
   "cell_type": "code",
   "execution_count": 10,
   "id": "ad9ac501",
   "metadata": {},
   "outputs": [],
   "source": [
    "emtk_first_response.to_csv(os.path.join(exper_dir,'first_response_emtk_multiplefile'), num_files=600, sep=\";\", quotechar='')\n",
    "# emtk_first_response.to_csv(os.path.join(exper_dir,'first_response_emtk'),num_files=1, sep=\";\", quotechar='')"
   ]
  },
  {
   "cell_type": "markdown",
   "id": "c79e3c2e",
   "metadata": {},
   "source": [
    "# Extract Interact after first respoonse of first time contributor"
   ]
  },
  {
   "cell_type": "code",
   "execution_count": 41,
   "id": "5ee0c593",
   "metadata": {},
   "outputs": [],
   "source": [
    "sub_sql = '(select pull_request_id, comment_author, created_at from {first_response} where pull_request_id in (select id from {first_contribution}))'\n",
    "sql = '''select distinct prc.pull_request_id \n",
    "    from {pull_request_comments} prc inner join %s fr on prc.pull_request_id == fr.pull_request_id\n",
    "    where prc.created_at > fr.created_at and prc.comment_author == pr_author\n",
    "    '''%(sub_sql)\n",
    "interact_after_first_response = ks.sql(sql)\n",
    "interact_after_first_response.to_csv(os.path.join(exper_dir,'interact_after_first_response'))"
   ]
  },
  {
   "cell_type": "code",
   "execution_count": 39,
   "id": "cb3ad8a2",
   "metadata": {},
   "outputs": [],
   "source": [
    "interact_after_first_response = ks.read_csv(os.path.join(exper_dir,'interact_after_first_response/*.csv'))"
   ]
  },
  {
   "cell_type": "markdown",
   "id": "1df897d2",
   "metadata": {},
   "source": [
    "# Visualization"
   ]
  },
  {
   "cell_type": "code",
   "execution_count": 12,
   "id": "ff99c77f",
   "metadata": {},
   "outputs": [],
   "source": [
    "import seaborn as sns"
   ]
  },
  {
   "cell_type": "code",
   "execution_count": 13,
   "id": "d4237e5b",
   "metadata": {},
   "outputs": [],
   "source": [
    "toxicity = pd.read_csv(os.path.join(exper_dir,'all_toxicity.csv'))\n",
    "toxicity.loc[toxicity['toxic']>0.5,'toxic'] = 1\n",
    "toxicity.loc[toxicity['toxic']<=0.5,'toxic'] = 0\n",
    "toxicity['type'] = ''\n",
    "toxicity.loc[toxicity['pull_request_id'].isin(first_contribution['id'].to_numpy()),'type'] = 'First-contribution'\n",
    "toxicity.loc[~toxicity['pull_request_id'].isin(first_contribution['id'].to_numpy()),'type'] = 'Non-first-contribution'"
   ]
  },
  {
   "cell_type": "code",
   "execution_count": 32,
   "id": "cd5ac3b0",
   "metadata": {},
   "outputs": [
    {
     "data": {
      "text/plain": [
       "Not-Interact    601434\n",
       "Interact         42245\n",
       "Name: type2, dtype: int64"
      ]
     },
     "execution_count": 32,
     "metadata": {},
     "output_type": "execute_result"
    }
   ],
   "source": [
    "responsiveness['type2'].value_counts()"
   ]
  },
  {
   "cell_type": "code",
   "execution_count": null,
   "id": "f60dddce",
   "metadata": {},
   "outputs": [],
   "source": [
    "toxicity[toxicity['type']=='First-contribution']['toxic'].value_counts()"
   ]
  },
  {
   "cell_type": "code",
   "execution_count": null,
   "id": "46d62253",
   "metadata": {},
   "outputs": [],
   "source": [
    "toxicity[toxicity['type']!='First-contribution']['toxic'].value_counts()"
   ]
  },
  {
   "cell_type": "code",
   "execution_count": null,
   "id": "4e2af311",
   "metadata": {},
   "outputs": [],
   "source": [
    "emotion_df[emotion_df['type']=='First-contribution']['anger'].value_counts()"
   ]
  },
  {
   "cell_type": "code",
   "execution_count": null,
   "id": "bff65bf6",
   "metadata": {},
   "outputs": [],
   "source": [
    "emotion_df[emotion_df['type']!='First-contribution']['anger'].value_counts()"
   ]
  },
  {
   "cell_type": "code",
   "execution_count": null,
   "id": "e8329212",
   "metadata": {},
   "outputs": [],
   "source": [
    "emotion_df[emotion_df['type']=='First-contribution']['fear'].value_counts()"
   ]
  },
  {
   "cell_type": "code",
   "execution_count": null,
   "id": "aaf1a26f",
   "metadata": {},
   "outputs": [],
   "source": [
    "emotion_df[emotion_df['type']!='First-contribution']['fear'].value_counts()"
   ]
  },
  {
   "cell_type": "code",
   "execution_count": null,
   "id": "9832a2ac",
   "metadata": {},
   "outputs": [],
   "source": [
    "emotion_df[emotion_df['type']=='First-contribution']['joy'].value_counts()"
   ]
  },
  {
   "cell_type": "code",
   "execution_count": null,
   "id": "c9701bf6",
   "metadata": {},
   "outputs": [],
   "source": [
    "emotion_df[emotion_df['type']!='First-contribution']['joy'].value_counts()"
   ]
  },
  {
   "cell_type": "code",
   "execution_count": null,
   "id": "da63893b",
   "metadata": {},
   "outputs": [],
   "source": [
    "emotion_df[emotion_df['type']=='First-contribution']['love'].value_counts()"
   ]
  },
  {
   "cell_type": "code",
   "execution_count": null,
   "id": "525c9668",
   "metadata": {},
   "outputs": [],
   "source": [
    "emotion_df[emotion_df['type']!='First-contribution']['love'].value_counts()"
   ]
  },
  {
   "cell_type": "code",
   "execution_count": null,
   "id": "772e002c",
   "metadata": {},
   "outputs": [],
   "source": [
    "emotion_df[emotion_df['type']=='First-contribution']['sadness'].value_counts()"
   ]
  },
  {
   "cell_type": "code",
   "execution_count": null,
   "id": "ad168d6c",
   "metadata": {},
   "outputs": [],
   "source": [
    "emotion_df[emotion_df['type']!='First-contribution']['sadness'].value_counts()"
   ]
  },
  {
   "cell_type": "code",
   "execution_count": null,
   "id": "ce87df7b",
   "metadata": {},
   "outputs": [],
   "source": [
    "emotion_df[emotion_df['type']=='First-contribution']['surprise'].value_counts()"
   ]
  },
  {
   "cell_type": "code",
   "execution_count": null,
   "id": "8c29289c",
   "metadata": {},
   "outputs": [],
   "source": [
    "emotion_df[emotion_df['type']!='First-contribution']['surprise'].value_counts()"
   ]
  },
  {
   "cell_type": "code",
   "execution_count": null,
   "id": "a6dc9110",
   "metadata": {},
   "outputs": [],
   "source": [
    "sns.countplot(x ='type',hue='toxic', data=toxicity)"
   ]
  },
  {
   "cell_type": "code",
   "execution_count": null,
   "id": "45342233",
   "metadata": {},
   "outputs": [],
   "source": [
    "sentiment = pd.read_csv(os.path.join(exper_dir,'all_response_sentiment_range.csv'),sep='\\t')\n",
    "sentiment['sentiment'] = sentiment['positive_score negative_score score'].apply(lambda x: int(x.split(' ')[2]))\n",
    "sentiment = sentiment.drop(columns=['positive_score negative_score score'])\n",
    "sentiment.loc[sentiment['pull_request_id'].isin(first_contribution['id'].to_numpy()),'type'] = 'First-contribution'\n",
    "sentiment.loc[~sentiment['pull_request_id'].isin(first_contribution['id'].to_numpy()),'type'] = 'Non-first-contribution'"
   ]
  },
  {
   "cell_type": "code",
   "execution_count": null,
   "id": "7c9d5ef6",
   "metadata": {},
   "outputs": [],
   "source": [
    "responsiveness[responsiveness['type']=='First-contribution'].shape"
   ]
  },
  {
   "cell_type": "code",
   "execution_count": null,
   "id": "c04e92dc",
   "metadata": {},
   "outputs": [],
   "source": [
    "responsiveness[responsiveness['type']!='First-contribution'].shape"
   ]
  },
  {
   "cell_type": "code",
   "execution_count": 55,
   "id": "62176a7d",
   "metadata": {},
   "outputs": [
    {
     "data": {
      "image/png": "[encoded data removed]",
      "text/plain": [
       "<Figure size 432x288 with 1 Axes>"
      ]
     },
     "metadata": {
      "needs_background": "light"
     },
     "output_type": "display_data"
    }
   ],
   "source": [
    "group1 = sentiment[sentiment['type']=='First-contribution']['sentiment'].value_counts()/len(sentiment[sentiment['type']=='First-contribution'])*100\n",
    "group2 = sentiment[sentiment['type']!='First-contribution']['sentiment'].value_counts()/len(sentiment[sentiment['type']!='First-contribution'])*100\n",
    "group1 = group1.reset_index().rename(columns={'index':'sentiment','sentiment':'First-contribution'})\n",
    "group2 = group2.reset_index().rename(columns={'index':'sentiment','sentiment':'Non-first-contribution'})\n",
    "p = sns.barplot(x='sentiment',y='value',hue='variable',data=group1.merge(group2, on='sentiment').melt(['sentiment']))\n",
    "p.set_xlabel(\"Sentiment\", fontsize=16)\n",
    "p.set_ylabel(\"Percentage\", fontsize=16)\n",
    "p.legend(title='group', fontsize=10)\n",
    "p.tick_params(axis='both', which='major', labelsize=14)\n",
    "plt.savefig('fig/R1/sentiment_R1_barplot.pdf',bbox_inches=\"tight\")"
   ]
  },
  {
   "cell_type": "code",
   "execution_count": 40,
   "id": "a9dbffc4",
   "metadata": {},
   "outputs": [
    {
     "data": {
      "image/png": "[encoded data removed]",
      "text/plain": [
       "<Figure size 432x288 with 1 Axes>"
      ]
     },
     "metadata": {},
     "output_type": "display_data"
    }
   ],
   "source": [
    "# sns.countplot(sentiment[sentiment['type']=='First-contribution']['sentiment'], color=\"r\", label=\"First-contribution\")\n",
    "# sns.countplot(sentiment[sentiment['type']=='Non-first-contribution']['sentiment'], color=\"b\", label=\"Non-first-contribution\").set(xlim=(0))\n",
    "sns.set(style=\"ticks\", font_scale=1.5)\n",
    "p = sns.countplot(x='sentiment',hue='type',data=sentiment)\n",
    "# sns.countplot(x='sentiment', data = sentiment, hue='type')\n",
    "p.set_xlabel(\"Group\")\n",
    "p.set_ylabel(\"Sentiment Score\")\n",
    "plt.savefig('fig/R1/sentiment_R1.pdf',bbox_inches=\"tight\")"
   ]
  },
  {
   "cell_type": "code",
   "execution_count": 20,
   "id": "11f7a305",
   "metadata": {},
   "outputs": [
    {
     "data": {
      "text/html": [
       "<div>\n",
       "<style scoped>\n",
       "    .dataframe tbody tr th:only-of-type {\n",
       "        vertical-align: middle;\n",
       "    }\n",
       "\n",
       "    .dataframe tbody tr th {\n",
       "        vertical-align: top;\n",
       "    }\n",
       "\n",
       "    .dataframe thead th {\n",
       "        text-align: right;\n",
       "    }\n",
       "</style>\n",
       "<table border=\"1\" class=\"dataframe\">\n",
       "  <thead>\n",
       "    <tr style=\"text-align: right;\">\n",
       "      <th></th>\n",
       "      <th>Unnamed: 0</th>\n",
       "      <th>comment_id</th>\n",
       "      <th>base_repo_id</th>\n",
       "      <th>pull_request_id</th>\n",
       "      <th>pr_author</th>\n",
       "      <th>comment_author</th>\n",
       "      <th>body</th>\n",
       "      <th>created_at</th>\n",
       "      <th>sentiment</th>\n",
       "      <th>type</th>\n",
       "      <th>type2</th>\n",
       "    </tr>\n",
       "  </thead>\n",
       "  <tbody>\n",
       "    <tr>\n",
       "      <th>0</th>\n",
       "      <td>0</td>\n",
       "      <td>5234151</td>\n",
       "      <td>6</td>\n",
       "      <td>1782580</td>\n",
       "      <td>8606</td>\n",
       "      <td>30</td>\n",
       "      <td>should also change to 'getnumberofrunningactio...</td>\n",
       "      <td>2013-07-17 01:28:32</td>\n",
       "      <td>0</td>\n",
       "      <td>Non-first-contribution</td>\n",
       "      <td></td>\n",
       "    </tr>\n",
       "    <tr>\n",
       "      <th>1</th>\n",
       "      <td>1</td>\n",
       "      <td>12076712</td>\n",
       "      <td>6</td>\n",
       "      <td>3588556</td>\n",
       "      <td>1870960</td>\n",
       "      <td>32</td>\n",
       "      <td>'vector2' and the old 'point' is a class. plea...</td>\n",
       "      <td>2014-04-28 23:46:37</td>\n",
       "      <td>0</td>\n",
       "      <td>Non-first-contribution</td>\n",
       "      <td></td>\n",
       "    </tr>\n",
       "    <tr>\n",
       "      <th>2</th>\n",
       "      <td>2</td>\n",
       "      <td>27455160</td>\n",
       "      <td>6</td>\n",
       "      <td>6889923</td>\n",
       "      <td>7543764</td>\n",
       "      <td>32</td>\n",
       "      <td>singleton in v2 branch is using ''' sharedxxx ...</td>\n",
       "      <td>2015-03-31 04:16:12</td>\n",
       "      <td>0</td>\n",
       "      <td>Non-first-contribution</td>\n",
       "      <td></td>\n",
       "    </tr>\n",
       "    <tr>\n",
       "      <th>3</th>\n",
       "      <td>3</td>\n",
       "      <td>145033457</td>\n",
       "      <td>6</td>\n",
       "      <td>29064044</td>\n",
       "      <td>2249470</td>\n",
       "      <td>30</td>\n",
       "      <td>why do it like this? 'shadowcolor.a' is alread...</td>\n",
       "      <td>2017-10-17 06:00:16</td>\n",
       "      <td>0</td>\n",
       "      <td>First-contribution</td>\n",
       "      <td></td>\n",
       "    </tr>\n",
       "    <tr>\n",
       "      <th>4</th>\n",
       "      <td>4</td>\n",
       "      <td>356375376</td>\n",
       "      <td>6</td>\n",
       "      <td>66133540</td>\n",
       "      <td>12490178</td>\n",
       "      <td>44353594</td>\n",
       "      <td>font resources for tests are missing</td>\n",
       "      <td>2019-12-11 02:20:55</td>\n",
       "      <td>0</td>\n",
       "      <td>Non-first-contribution</td>\n",
       "      <td></td>\n",
       "    </tr>\n",
       "  </tbody>\n",
       "</table>\n",
       "</div>"
      ],
      "text/plain": [
       "   Unnamed: 0  comment_id  base_repo_id  pull_request_id  pr_author  \\\n",
       "0           0     5234151             6          1782580       8606   \n",
       "1           1    12076712             6          3588556    1870960   \n",
       "2           2    27455160             6          6889923    7543764   \n",
       "3           3   145033457             6         29064044    2249470   \n",
       "4           4   356375376             6         66133540   12490178   \n",
       "\n",
       "   comment_author                                               body  \\\n",
       "0              30  should also change to 'getnumberofrunningactio...   \n",
       "1              32  'vector2' and the old 'point' is a class. plea...   \n",
       "2              32  singleton in v2 branch is using ''' sharedxxx ...   \n",
       "3              30  why do it like this? 'shadowcolor.a' is alread...   \n",
       "4        44353594               font resources for tests are missing   \n",
       "\n",
       "            created_at   sentiment                    type type2  \n",
       "0  2013-07-17 01:28:32           0  Non-first-contribution        \n",
       "1  2014-04-28 23:46:37           0  Non-first-contribution        \n",
       "2  2015-03-31 04:16:12           0  Non-first-contribution        \n",
       "3  2017-10-17 06:00:16           0      First-contribution        \n",
       "4  2019-12-11 02:20:55           0  Non-first-contribution        "
      ]
     },
     "execution_count": 20,
     "metadata": {},
     "output_type": "execute_result"
    }
   ],
   "source": [
    "sentiment.head()"
   ]
  },
  {
   "cell_type": "code",
   "execution_count": 25,
   "id": "3a01c4e8",
   "metadata": {},
   "outputs": [
    {
     "data": {
      "text/plain": [
       "0.0019087664942322056"
      ]
     },
     "execution_count": 25,
     "metadata": {},
     "output_type": "execute_result"
    }
   ],
   "source": [
    "sentiment[sentiment['type']=='First-contribution']['sentiment'].mean()"
   ]
  },
  {
   "cell_type": "code",
   "execution_count": 26,
   "id": "6b6b70ac",
   "metadata": {},
   "outputs": [
    {
     "data": {
      "text/plain": [
       "-0.009113450914582396"
      ]
     },
     "execution_count": 26,
     "metadata": {},
     "output_type": "execute_result"
    }
   ],
   "source": [
    "sentiment[sentiment['type']!='First-contribution']['sentiment'].mean()"
   ]
  },
  {
   "cell_type": "code",
   "execution_count": 239,
   "id": "fd5433b0",
   "metadata": {},
   "outputs": [
    {
     "data": {
      "text/plain": [
       " 0    36991\n",
       "-1     2217\n",
       " 1     2168\n",
       " 2      408\n",
       "-2      358\n",
       "-3       60\n",
       " 3       43\n",
       "Name: sentiment, dtype: int64"
      ]
     },
     "execution_count": 239,
     "metadata": {},
     "output_type": "execute_result"
    }
   ],
   "source": [
    "sentiment[sentiment['type2']=='Interact']['sentiment'].value_counts()"
   ]
  },
  {
   "cell_type": "code",
   "execution_count": 240,
   "id": "60690617",
   "metadata": {},
   "outputs": [
    {
     "data": {
      "text/plain": [
       "0.0"
      ]
     },
     "execution_count": 240,
     "metadata": {},
     "output_type": "execute_result"
    }
   ],
   "source": [
    "sentiment[sentiment['type2']=='Interact']['sentiment'].mean()"
   ]
  },
  {
   "cell_type": "code",
   "execution_count": 241,
   "id": "84d5396a",
   "metadata": {},
   "outputs": [
    {
     "data": {
      "text/plain": [
       "-0.00843816611631534"
      ]
     },
     "execution_count": 241,
     "metadata": {},
     "output_type": "execute_result"
    }
   ],
   "source": [
    "sentiment[sentiment['type2']!='Interact']['sentiment'].mean()"
   ]
  },
  {
   "cell_type": "code",
   "execution_count": 244,
   "id": "865ed770",
   "metadata": {},
   "outputs": [],
   "source": [
    "responsiveness['responsiveness'] = [int(math.e**i) for i in responsiveness['responsiveness']]"
   ]
  },
  {
   "cell_type": "code",
   "execution_count": 245,
   "id": "5cd19e52",
   "metadata": {},
   "outputs": [
    {
     "data": {
      "text/plain": [
       "946346.1573041481"
      ]
     },
     "execution_count": 245,
     "metadata": {},
     "output_type": "execute_result"
    }
   ],
   "source": [
    "responsiveness[responsiveness['type']=='First-contribution']['responsiveness'].mean()"
   ]
  },
  {
   "cell_type": "code",
   "execution_count": 246,
   "id": "40fcfea0",
   "metadata": {},
   "outputs": [
    {
     "data": {
      "text/plain": [
       "558416.198255178"
      ]
     },
     "execution_count": 246,
     "metadata": {},
     "output_type": "execute_result"
    }
   ],
   "source": [
    "responsiveness[responsiveness['type']!='First-contribution']['responsiveness'].mean()"
   ]
  },
  {
   "cell_type": "code",
   "execution_count": 248,
   "id": "4f5c2dd3",
   "metadata": {},
   "outputs": [
    {
     "data": {
      "text/plain": [
       "611712.7118475559"
      ]
     },
     "execution_count": 248,
     "metadata": {},
     "output_type": "execute_result"
    }
   ],
   "source": [
    "responsiveness[responsiveness['type2']=='Interact']['responsiveness'].mean()"
   ]
  },
  {
   "cell_type": "code",
   "execution_count": 249,
   "id": "627230f9",
   "metadata": {},
   "outputs": [
    {
     "data": {
      "text/plain": [
       "601289.9610347935"
      ]
     },
     "execution_count": 249,
     "metadata": {},
     "output_type": "execute_result"
    }
   ],
   "source": [
    "responsiveness[responsiveness['type2']!='Interact']['responsiveness'].mean()"
   ]
  },
  {
   "cell_type": "code",
   "execution_count": 56,
   "id": "44f2a0e2",
   "metadata": {},
   "outputs": [
    {
     "data": {
      "text/plain": [
       "<AxesSubplot:xlabel='type2', ylabel='count'>"
      ]
     },
     "execution_count": 56,
     "metadata": {},
     "output_type": "execute_result"
    },
    {
     "data": {
      "image/png": "[encoded data removed]",
      "text/plain": [
       "<Figure size 432x288 with 1 Axes>"
      ]
     },
     "metadata": {
      "needs_background": "light"
     },
     "output_type": "display_data"
    }
   ],
   "source": [
    "toxicity['type2'] = ''\n",
    "toxicity.loc[toxicity['pull_request_id'].isin(interact_after_first_response['pull_request_id'].to_numpy()),'type2'] = 'Interact'\n",
    "toxicity.loc[~toxicity['pull_request_id'].isin(interact_after_first_response['pull_request_id'].to_numpy()),'type2'] = 'Not-Interact'\n",
    "sns.countplot(x ='type2',hue='toxic', data=toxicity[toxicity['type']=='First-contribution'])"
   ]
  },
  {
   "cell_type": "code",
   "execution_count": 40,
   "id": "8cae2ace",
   "metadata": {},
   "outputs": [],
   "source": [
    "sentiment['type2'] = ''\n",
    "sentiment.loc[sentiment['pull_request_id'].isin(interact_after_first_response['pull_request_id'].to_numpy()),'type2'] = 'With Interaction'\n",
    "sentiment.loc[~sentiment['pull_request_id'].isin(interact_after_first_response['pull_request_id'].to_numpy()),'type2'] = 'Without Interaction'"
   ]
  },
  {
   "cell_type": "code",
   "execution_count": 56,
   "id": "65a50906",
   "metadata": {},
   "outputs": [
    {
     "data": {
      "image/png": "[encoded data removed]",
      "text/plain": [
       "<Figure size 432x288 with 1 Axes>"
      ]
     },
     "metadata": {
      "needs_background": "light"
     },
     "output_type": "display_data"
    }
   ],
   "source": [
    "group1 = sentiment[sentiment['type2']=='With Interaction']['sentiment'].value_counts()/len(sentiment[sentiment['type2']=='With Interaction'])*100\n",
    "group2 = sentiment[sentiment['type2']!='With Interaction']['sentiment'].value_counts()/len(sentiment[sentiment['type2']!='With Interaction'])*100\n",
    "group1 = group1.reset_index().rename(columns={'index':'sentiment','sentiment':'With Interaction'})\n",
    "group2 = group2.reset_index().rename(columns={'index':'sentiment','sentiment':'Without Interaction'})\n",
    "p = sns.barplot(x='sentiment',y='value',hue='variable',data=group1.merge(group2, on='sentiment').melt(['sentiment']), hue_order=['Without Interaction','With Interaction'])\n",
    "p.set_xlabel(\"Sentiment\", fontsize=16)\n",
    "p.set_ylabel(\"Percentage\", fontsize=16)\n",
    "p.legend(title='group', fontsize=10)\n",
    "p.tick_params(axis='both', which='major', labelsize=14)\n",
    "plt.savefig('fig/R2/sentiment_R2_barplot.pdf',bbox_inches=\"tight\")"
   ]
  },
  {
   "cell_type": "code",
   "execution_count": 38,
   "id": "f8269d55",
   "metadata": {},
   "outputs": [
    {
     "data": {
      "image/png": "[encoded data removed]",
      "text/plain": [
       "<Figure size 432x288 with 1 Axes>"
      ]
     },
     "metadata": {},
     "output_type": "display_data"
    }
   ],
   "source": [
    "p = sns.countplot(x='sentiment',hue='type2',data=sentiment[sentiment['type']=='First-contribution'],hue_order=['Without Interaction','With Interaction'])\n",
    "p.set_xlabel(\"Group\")\n",
    "p.set_ylabel(\"Sentiment Score\")\n",
    "plt.savefig('fig/R2/sentiment_R2.pdf',bbox_inches=\"tight\")"
   ]
  },
  {
   "cell_type": "code",
   "execution_count": 176,
   "id": "38dfe923",
   "metadata": {},
   "outputs": [
    {
     "data": {
      "text/plain": [
       "Interact        42245\n",
       "Not-Interact    30029\n",
       "Name: type2, dtype: int64"
      ]
     },
     "execution_count": 176,
     "metadata": {},
     "output_type": "execute_result"
    }
   ],
   "source": [
    "sentiment[sentiment['type']=='First-contribution']['type2'].value_counts()"
   ]
  },
  {
   "cell_type": "markdown",
   "id": "8985225b",
   "metadata": {},
   "source": [
    "# Calculate Responsiveness"
   ]
  },
  {
   "cell_type": "code",
   "execution_count": 59,
   "id": "ae74ed20",
   "metadata": {},
   "outputs": [],
   "source": [
    "# sql = 'select fr.comment_id, fr.pull_request_id, pr.created_at as pr_created_at, fr.created_at as fr_created_at from {first_response} fr inner join {pull_requests} pr on fr.pull_request_id == pr.id'\n",
    "# responsiveness = ks.sql(sql)\n",
    "# responsiveness['fr_created_at'] =  ks.to_datetime(responsiveness['fr_created_at'], format='%Y-%m-%d %H:%M:%S')\n",
    "# responsiveness['pr_created_at'] =  ks.to_datetime(responsiveness['pr_created_at'], format='%Y-%m-%d %H:%M:%S')\n",
    "# responsiveness['responsiveness'] = (responsiveness['fr_created_at'] - responsiveness['pr_created_at'])\n",
    "# responsiveness['type'] = ''\n",
    "# responsiveness.loc[responsiveness['pull_request_id'].isin(first_contribution['id'].to_numpy()),'type'] = 'First-contribution'\n",
    "# responsiveness.loc[~responsiveness['pull_request_id'].isin(first_contribution['id'].to_numpy()),'type'] = 'Non-first-contribution'\n",
    "# responsiveness.to_csv(os.path.join(exper_dir,'responsiveness'))"
   ]
  },
  {
   "cell_type": "code",
   "execution_count": 19,
   "id": "fc126f78",
   "metadata": {},
   "outputs": [],
   "source": [
    "responsiveness = ks.read_csv(os.path.join(exper_dir,'responsiveness/*.csv'))"
   ]
  },
  {
   "cell_type": "code",
   "execution_count": 20,
   "id": "6a67333a",
   "metadata": {},
   "outputs": [],
   "source": [
    "responsiveness = responsiveness.to_pandas()"
   ]
  },
  {
   "cell_type": "code",
   "execution_count": 26,
   "id": "dd5a3864",
   "metadata": {},
   "outputs": [
    {
     "data": {
      "image/png": "[encoded data removed]",
      "text/plain": [
       "<Figure size 432x288 with 1 Axes>"
      ]
     },
     "metadata": {
      "needs_background": "light"
     },
     "output_type": "display_data"
    }
   ],
   "source": [
    "import math\n",
    "responsiveness = responsiveness[responsiveness['responsiveness'] > 0]\n",
    "responsiveness['responsiveness'] = [math.log(i) for i in responsiveness['responsiveness']]\n",
    "p = sns.violinplot(y='responsiveness',x='type',data=responsiveness)\n",
    "p.set_xlabel(\"Group\")\n",
    "p.set_ylabel(\"Responsiveness(log)\")\n",
    "plt.savefig('fig/R1/responsiveness_R1.pdf', bbox_inches=\"tight\")"
   ]
  },
  {
   "cell_type": "code",
   "execution_count": 28,
   "id": "1cf1053c",
   "metadata": {},
   "outputs": [
    {
     "data": {
      "image/png": "[encoded data removed]",
      "text/plain": [
       "<Figure size 432x288 with 1 Axes>"
      ]
     },
     "metadata": {},
     "output_type": "display_data"
    }
   ],
   "source": [
    "sns.set(style=\"ticks\", font_scale=1.5)\n",
    "responsiveness['type2'] = ''\n",
    "responsiveness.loc[responsiveness['pull_request_id'].isin(interact_after_first_response['pull_request_id'].to_numpy()),'type2'] = 'With Interaction'\n",
    "responsiveness.loc[~responsiveness['pull_request_id'].isin(interact_after_first_response['pull_request_id'].to_numpy()),'type2'] = 'Without Interaction'\n",
    "# responsiveness['responsiveness'] = [math.log(i) for i in responsiveness['responsiveness']]\n",
    "p = sns.violinplot(y='responsiveness',x='type2',data=responsiveness[responsiveness['type']=='First-contribution'])\n",
    "p.set_xlabel(\"Group\")\n",
    "p.set_ylabel(\"Responsiveness(log)\")\n",
    "plt.savefig('fig/R2/responsiveness_R2.pdf', bbox_inches=\"tight\")"
   ]
  },
  {
   "cell_type": "code",
   "execution_count": 21,
   "id": "6afe1709",
   "metadata": {},
   "outputs": [],
   "source": [
    "from scipy.stats import shapiro, ttest_ind, mannwhitneyu, chi2_contingency\n",
    "# import pingouin as pg\n",
    "# pg.compute_effsize(x, y, eftype='hedges')\n",
    "from cliffsDelta import cliffsDelta\n",
    "import researchpy"
   ]
  },
  {
   "cell_type": "markdown",
   "id": "fdbda224",
   "metadata": {},
   "source": [
    "# Emotion"
   ]
  },
  {
   "cell_type": "code",
   "execution_count": 40,
   "id": "784c53e4",
   "metadata": {},
   "outputs": [
    {
     "data": {
      "application/vnd.jupyter.widget-view+json": {
       "model_id": "0b75544736104decba994ea6b32de5f9",
       "version_major": 2,
       "version_minor": 0
      },
      "text/plain": [
       "  0%|          | 0/6 [00:00<?, ?it/s]"
      ]
     },
     "metadata": {},
     "output_type": "display_data"
    }
   ],
   "source": [
    "dir_emotion = ['anger','fear','joy','love','sadness','surprise']\n",
    "\n",
    "emotion = {}\n",
    "\n",
    "for emo in tqdm(dir_emotion):\n",
    "    path_emo = os.path.join(exper_dir,os.path.join('emtk_prediction',emo))\n",
    "    for i in os.listdir(path_emo):\n",
    "        path_part = os.path.join(path_emo,i)\n",
    "        if emo not in emotion:\n",
    "            emotion[emo] = pd.read_csv(os.path.join(path_part,f'predictions_{emo}.csv'))\n",
    "            emotion[emo] = emotion[emo].rename(columns={'id':'comment_id','predicted':emo})\n",
    "        else:\n",
    "            emotion[emo] = emotion[emo].append(pd.read_csv(os.path.join(path_part,f'predictions_{emo}.csv')).rename(columns={'id':'comment_id','predicted':emo}))\n",
    "    "
   ]
  },
  {
   "cell_type": "code",
   "execution_count": 41,
   "id": "a3638429",
   "metadata": {},
   "outputs": [],
   "source": [
    "dir_emotion = ['fear','joy','love','sadness','surprise']\n",
    "emotion_temp = emotion\n",
    "emotion = emotion['anger']\n",
    "for emo in dir_emotion:\n",
    "    emotion[emo] = emotion_temp[emo][emo]"
   ]
  },
  {
   "cell_type": "code",
   "execution_count": 42,
   "id": "0d4b982c",
   "metadata": {},
   "outputs": [],
   "source": [
    "# dir_emotion = ['fear','joy','love','sadness','surprise']\n",
    "# emotion = pd.read_csv(os.path.join(os.path.join('emtk_prediction',exper_dir,'anger'),'predictions_anger.csv'))\n",
    "# emotion = emotion.rename(columns={'id':'comment_id','predicted':'anger'})\n",
    "# for emo in dir_emotion:\n",
    "#     temp = pd.read_csv(os.path.join(os.path.join(exper_dir,emo),f'predictions_{emo}.csv'))\n",
    "#     emotion[emo] = temp['predicted']"
   ]
  },
  {
   "cell_type": "code",
   "execution_count": 43,
   "id": "92c5c739",
   "metadata": {},
   "outputs": [],
   "source": [
    "emotion_df = emotion.set_index('comment_id').join(toxicity.set_index('comment_id'), how='inner')[['type','anger','fear','joy','love','sadness','surprise']]"
   ]
  },
  {
   "cell_type": "markdown",
   "id": "99c4bebf",
   "metadata": {},
   "source": [
    "# Clean "
   ]
  },
  {
   "cell_type": "code",
   "execution_count": 45,
   "id": "928eeb34",
   "metadata": {},
   "outputs": [],
   "source": [
    "emotion_df = emotion_df.reset_index()\n",
    "not_good = set(emotion_df[emotion_df.duplicated()]['comment_id'])\n",
    "sentiment = sentiment[~sentiment['comment_id'].isin(not_good)]\n",
    "emotion_df = emotion_df[~emotion_df['comment_id'].isin(not_good)]\n",
    "toxicity = toxicity[~toxicity['comment_id'].isin(not_good)]\n",
    "responsiveness = responsiveness[~responsiveness['comment_id'].isin(not_good)]\n",
    "responsiveness = responsiveness[~responsiveness['comment_id'].duplicated()]"
   ]
  },
  {
   "cell_type": "code",
   "execution_count": 46,
   "id": "ca07b31b",
   "metadata": {},
   "outputs": [],
   "source": [
    "good = set(sentiment['comment_id'].to_numpy()) & set(emotion_df['comment_id'].to_numpy()) & set(toxicity['comment_id'].to_numpy()) & set(responsiveness['comment_id'].to_numpy())\n",
    "good = set(list(good))\n",
    "sentiment = sentiment[sentiment['comment_id'].isin(good)]\n",
    "emotion_df = emotion_df[emotion_df['comment_id'].isin(good)]\n",
    "toxicity = toxicity[toxicity['comment_id'].isin(good)]\n",
    "responsiveness = responsiveness[responsiveness['comment_id'].isin(good)]\n",
    "\n",
    "sentiment.to_csv(os.path.join(exper_dir,'clean_sentiment.csv'))\n",
    "emotion_df.to_csv(os.path.join(exper_dir,'clean_emotion.csv'))\n",
    "toxicity.to_csv(os.path.join(exper_dir,'clean_toxicity.csv'))\n",
    "responsiveness.to_csv(os.path.join(exper_dir,'clean_responsiveness.csv'))"
   ]
  },
  {
   "cell_type": "code",
   "execution_count": 7,
   "id": "eac34311",
   "metadata": {},
   "outputs": [],
   "source": [
    "sentiment = pd.read_csv(os.path.join(exper_dir,'clean_sentiment.csv'))\n",
    "emotion_df = pd.read_csv(os.path.join(exper_dir,'clean_emotion.csv'))\n",
    "toxicity = pd.read_csv(os.path.join(exper_dir,'clean_toxicity.csv'))\n",
    "responsiveness = pd.read_csv(os.path.join(exper_dir,'clean_responsiveness.csv'))"
   ]
  },
  {
   "cell_type": "markdown",
   "id": "ade90639",
   "metadata": {},
   "source": [
    "# Pulish Dataset"
   ]
  },
  {
   "cell_type": "code",
   "execution_count": 234,
   "id": "23602c2f",
   "metadata": {},
   "outputs": [],
   "source": [
    "temp = sentiment[sentiment['type'] == 'First-contribution']\n",
    "temp = temp[temp['pull_request_id'].isin(final_feature_df['pull_request_id'])]\n",
    "final_sentiment = pd.concat([temp,sentiment[sentiment['type'] != 'First-contribution']])\n",
    "\n",
    "temp = emotion_df[emotion_df['type'] == 'First-contribution']\n",
    "temp = temp[temp['comment_id'].isin(final_feature_df['comment_id'])]\n",
    "final_emotion = pd.concat([temp,emotion_df[emotion_df['type'] != 'First-contribution']])\n",
    "\n",
    "temp = toxicity[toxicity['type'] == 'First-contribution']\n",
    "temp = temp[temp['pull_request_id'].isin(final_feature_df['pull_request_id'])]\n",
    "final_toxicity = pd.concat([temp,toxicity[toxicity['type'] != 'First-contribution']])\n",
    "\n",
    "temp = responsiveness[responsiveness['type'] == 'First-contribution']\n",
    "temp = temp[temp['pull_request_id'].isin(final_feature_df['pull_request_id'])]\n",
    "final_responsiveness = pd.concat([temp,responsiveness[responsiveness['type'] != 'First-contribution']])"
   ]
  },
  {
   "cell_type": "code",
   "execution_count": 235,
   "id": "61e17651",
   "metadata": {},
   "outputs": [],
   "source": [
    "final_sentiment = final_sentiment.set_index('comment_id').drop(columns=['Unnamed: 0','type'])\n",
    "final_emotion = final_emotion.set_index('comment_id').drop(columns=['Unnamed: 0','type'])\n",
    "final_toxicity = final_toxicity.set_index('comment_id').drop(columns=['Unnamed: 0','type','base_repo_id','pull_request_id','pr_author','comment_author','body','created_at'])\n",
    "final_responsiveness = final_responsiveness.set_index('comment_id').drop(columns=['Unnamed: 0','pull_request_id'])"
   ]
  },
  {
   "cell_type": "code",
   "execution_count": 236,
   "id": "ecf11cec",
   "metadata": {},
   "outputs": [],
   "source": [
    "dataset = final_sentiment.join(final_emotion, how=\"inner\").join(final_toxicity, how=\"inner\").join(final_responsiveness, how=\"inner\")"
   ]
  },
  {
   "cell_type": "code",
   "execution_count": 237,
   "id": "012fb70f",
   "metadata": {},
   "outputs": [],
   "source": [
    "dataset = dataset.reset_index()\n"
   ]
  },
  {
   "cell_type": "code",
   "execution_count": 251,
   "id": "b11ab017",
   "metadata": {},
   "outputs": [],
   "source": [
    "d1 = dataset[['base_repo_id','pull_request_id','pr_author','pr_created_at','fr_created_at','comment_author','body','sentiment','toxic','anger','fear','joy','love','sadness','surprise','responsiveness','type']]\n",
    "d2 = dataset[['base_repo_id','pull_request_id','pr_author','pr_created_at','fr_created_at','comment_author','body','sentiment','responsiveness','type','type2']]\n",
    "name_mapping = {'pr_author':'pull_request_author','responsiveness':'responsiveness(log)','pr_created_at':'pull_request_created_at','fr_created_at':'first_response_created_at','body':'first_response_body','comment_author':'first_response_author','comment_id':'first_response_comment_id'}\n",
    "d1 = d1.rename(columns=name_mapping)\n",
    "d2 = d2.rename(columns=name_mapping)\n",
    "d2 = d2[d2['type']=='First-contribution']\n",
    "d2 = d2.drop(columns=['type'])\n",
    "d2 = d2.rename(columns={'type2':'type'})\n",
    "d1.to_csv('d1.csv')\n",
    "d2.to_csv('d2.csv')"
   ]
  },
  {
   "cell_type": "code",
   "execution_count": 270,
   "id": "4d88f8fa",
   "metadata": {},
   "outputs": [
    {
     "data": {
      "text/html": [
       "<div>\n",
       "<style scoped>\n",
       "    .dataframe tbody tr th:only-of-type {\n",
       "        vertical-align: middle;\n",
       "    }\n",
       "\n",
       "    .dataframe tbody tr th {\n",
       "        vertical-align: top;\n",
       "    }\n",
       "\n",
       "    .dataframe thead th {\n",
       "        text-align: right;\n",
       "    }\n",
       "</style>\n",
       "<table border=\"1\" class=\"dataframe\">\n",
       "  <thead>\n",
       "    <tr style=\"text-align: right;\">\n",
       "      <th></th>\n",
       "      <th>base_repo_id</th>\n",
       "      <th>pull_request_id</th>\n",
       "      <th>pull_request_author</th>\n",
       "      <th>pull_request_created_at</th>\n",
       "      <th>first_response_created_at</th>\n",
       "      <th>first_response_author</th>\n",
       "      <th>first_response_body</th>\n",
       "      <th>sentiment</th>\n",
       "      <th>responsiveness(log)</th>\n",
       "      <th>type</th>\n",
       "    </tr>\n",
       "  </thead>\n",
       "  <tbody>\n",
       "    <tr>\n",
       "      <th>34</th>\n",
       "      <td>5219</td>\n",
       "      <td>4299834</td>\n",
       "      <td>1599653</td>\n",
       "      <td>2014-07-31 09:07:20</td>\n",
       "      <td>2014-08-07 14:41:49</td>\n",
       "      <td>23695</td>\n",
       "      <td>by processing samples in small batches, this c...</td>\n",
       "      <td>-1</td>\n",
       "      <td>13.345297</td>\n",
       "      <td>Interact</td>\n",
       "    </tr>\n",
       "    <tr>\n",
       "      <th>47</th>\n",
       "      <td>10070</td>\n",
       "      <td>1300955</td>\n",
       "      <td>220174</td>\n",
       "      <td>2013-03-31 13:21:18</td>\n",
       "      <td>2013-03-31 14:49:36</td>\n",
       "      <td>327536</td>\n",
       "      <td>you should remove the useless spaces in this line</td>\n",
       "      <td>-1</td>\n",
       "      <td>8.575085</td>\n",
       "      <td>Interact</td>\n",
       "    </tr>\n",
       "    <tr>\n",
       "      <th>61</th>\n",
       "      <td>21343</td>\n",
       "      <td>3347677</td>\n",
       "      <td>361732</td>\n",
       "      <td>2014-03-26 14:00:22</td>\n",
       "      <td>2014-03-26 15:18:18</td>\n",
       "      <td>111662</td>\n",
       "      <td>dumb -&gt; dump</td>\n",
       "      <td>-1</td>\n",
       "      <td>8.450198</td>\n",
       "      <td>Not-Interact</td>\n",
       "    </tr>\n",
       "    <tr>\n",
       "      <th>65</th>\n",
       "      <td>23203</td>\n",
       "      <td>78179043</td>\n",
       "      <td>46848376</td>\n",
       "      <td>2020-04-24 13:33:55</td>\n",
       "      <td>2020-10-21 11:23:49</td>\n",
       "      <td>5820695</td>\n",
       "      <td>for newly added methods we should add argument...</td>\n",
       "      <td>-1</td>\n",
       "      <td>16.559198</td>\n",
       "      <td>Not-Interact</td>\n",
       "    </tr>\n",
       "    <tr>\n",
       "      <th>68</th>\n",
       "      <td>27245</td>\n",
       "      <td>66524552</td>\n",
       "      <td>8462082</td>\n",
       "      <td>2019-12-09 06:36:33</td>\n",
       "      <td>2019-12-09 16:38:32</td>\n",
       "      <td>75412</td>\n",
       "      <td>applying __attribute__((packed)) to an entire ...</td>\n",
       "      <td>-1</td>\n",
       "      <td>10.494574</td>\n",
       "      <td>Interact</td>\n",
       "    </tr>\n",
       "    <tr>\n",
       "      <th>...</th>\n",
       "      <td>...</td>\n",
       "      <td>...</td>\n",
       "      <td>...</td>\n",
       "      <td>...</td>\n",
       "      <td>...</td>\n",
       "      <td>...</td>\n",
       "      <td>...</td>\n",
       "      <td>...</td>\n",
       "      <td>...</td>\n",
       "      <td>...</td>\n",
       "    </tr>\n",
       "    <tr>\n",
       "      <th>71387</th>\n",
       "      <td>53564232</td>\n",
       "      <td>106530500</td>\n",
       "      <td>702052</td>\n",
       "      <td>2020-10-09 01:53:16</td>\n",
       "      <td>2020-10-09 21:42:39</td>\n",
       "      <td>680544</td>\n",
       "      <td>does this have to write tablerows? why not als...</td>\n",
       "      <td>-1</td>\n",
       "      <td>11.175535</td>\n",
       "      <td>Interact</td>\n",
       "    </tr>\n",
       "    <tr>\n",
       "      <th>71396</th>\n",
       "      <td>60452725</td>\n",
       "      <td>36106667</td>\n",
       "      <td>41960372</td>\n",
       "      <td>2018-03-09 14:24:42</td>\n",
       "      <td>2018-03-14 09:10:34</td>\n",
       "      <td>34857376</td>\n",
       "      <td>this setting is static for ipv4. restricting i...</td>\n",
       "      <td>-1</td>\n",
       "      <td>12.931571</td>\n",
       "      <td>Not-Interact</td>\n",
       "    </tr>\n",
       "    <tr>\n",
       "      <th>71406</th>\n",
       "      <td>74035828</td>\n",
       "      <td>71979644</td>\n",
       "      <td>38348082</td>\n",
       "      <td>2020-02-26 18:09:31</td>\n",
       "      <td>2020-03-02 16:24:50</td>\n",
       "      <td>50291865</td>\n",
       "      <td>'''suggestion // messagehasbeenposted automati...</td>\n",
       "      <td>-1</td>\n",
       "      <td>12.961535</td>\n",
       "      <td>Not-Interact</td>\n",
       "    </tr>\n",
       "    <tr>\n",
       "      <th>71408</th>\n",
       "      <td>86395247</td>\n",
       "      <td>34111772</td>\n",
       "      <td>1588933</td>\n",
       "      <td>2018-01-26 18:20:51</td>\n",
       "      <td>2018-01-26 18:33:32</td>\n",
       "      <td>38952</td>\n",
       "      <td>oops</td>\n",
       "      <td>-2</td>\n",
       "      <td>6.634633</td>\n",
       "      <td>Interact</td>\n",
       "    </tr>\n",
       "    <tr>\n",
       "      <th>71414</th>\n",
       "      <td>110792294</td>\n",
       "      <td>48839180</td>\n",
       "      <td>3339587</td>\n",
       "      <td>2018-10-31 19:28:09</td>\n",
       "      <td>2018-10-31 20:53:19</td>\n",
       "      <td>1161821</td>\n",
       "      <td>i think this will introduce a nasty issue. exa...</td>\n",
       "      <td>-2</td>\n",
       "      <td>8.538955</td>\n",
       "      <td>Interact</td>\n",
       "    </tr>\n",
       "  </tbody>\n",
       "</table>\n",
       "<p>4295 rows × 10 columns</p>\n",
       "</div>"
      ],
      "text/plain": [
       "       base_repo_id  pull_request_id  pull_request_author  \\\n",
       "34             5219          4299834              1599653   \n",
       "47            10070          1300955               220174   \n",
       "61            21343          3347677               361732   \n",
       "65            23203         78179043             46848376   \n",
       "68            27245         66524552              8462082   \n",
       "...             ...              ...                  ...   \n",
       "71387      53564232        106530500               702052   \n",
       "71396      60452725         36106667             41960372   \n",
       "71406      74035828         71979644             38348082   \n",
       "71408      86395247         34111772              1588933   \n",
       "71414     110792294         48839180              3339587   \n",
       "\n",
       "      pull_request_created_at first_response_created_at  \\\n",
       "34        2014-07-31 09:07:20       2014-08-07 14:41:49   \n",
       "47        2013-03-31 13:21:18       2013-03-31 14:49:36   \n",
       "61        2014-03-26 14:00:22       2014-03-26 15:18:18   \n",
       "65        2020-04-24 13:33:55       2020-10-21 11:23:49   \n",
       "68        2019-12-09 06:36:33       2019-12-09 16:38:32   \n",
       "...                       ...                       ...   \n",
       "71387     2020-10-09 01:53:16       2020-10-09 21:42:39   \n",
       "71396     2018-03-09 14:24:42       2018-03-14 09:10:34   \n",
       "71406     2020-02-26 18:09:31       2020-03-02 16:24:50   \n",
       "71408     2018-01-26 18:20:51       2018-01-26 18:33:32   \n",
       "71414     2018-10-31 19:28:09       2018-10-31 20:53:19   \n",
       "\n",
       "       first_response_author  \\\n",
       "34                     23695   \n",
       "47                    327536   \n",
       "61                    111662   \n",
       "65                   5820695   \n",
       "68                     75412   \n",
       "...                      ...   \n",
       "71387                 680544   \n",
       "71396               34857376   \n",
       "71406               50291865   \n",
       "71408                  38952   \n",
       "71414                1161821   \n",
       "\n",
       "                                     first_response_body  sentiment  \\\n",
       "34     by processing samples in small batches, this c...         -1   \n",
       "47     you should remove the useless spaces in this line         -1   \n",
       "61                                          dumb -> dump         -1   \n",
       "65     for newly added methods we should add argument...         -1   \n",
       "68     applying __attribute__((packed)) to an entire ...         -1   \n",
       "...                                                  ...        ...   \n",
       "71387  does this have to write tablerows? why not als...         -1   \n",
       "71396  this setting is static for ipv4. restricting i...         -1   \n",
       "71406  '''suggestion // messagehasbeenposted automati...         -1   \n",
       "71408                                               oops         -2   \n",
       "71414  i think this will introduce a nasty issue. exa...         -2   \n",
       "\n",
       "       responsiveness(log)          type  \n",
       "34               13.345297      Interact  \n",
       "47                8.575085      Interact  \n",
       "61                8.450198  Not-Interact  \n",
       "65               16.559198  Not-Interact  \n",
       "68               10.494574      Interact  \n",
       "...                    ...           ...  \n",
       "71387            11.175535      Interact  \n",
       "71396            12.931571  Not-Interact  \n",
       "71406            12.961535  Not-Interact  \n",
       "71408             6.634633      Interact  \n",
       "71414             8.538955      Interact  \n",
       "\n",
       "[4295 rows x 10 columns]"
      ]
     },
     "execution_count": 270,
     "metadata": {},
     "output_type": "execute_result"
    }
   ],
   "source": [
    "d2[d2['sentiment']<0]"
   ]
  },
  {
   "cell_type": "code",
   "execution_count": 252,
   "id": "5c223c7a",
   "metadata": {},
   "outputs": [],
   "source": [
    "d4 = final_feature_df[['toxic','anger','fear','joy','love', 'sadness', 'surprise', 'sentiment',\n",
    "       'responsiveness', 'interaction', 'word_first_response', 'merged',\n",
    "       'other_project_pr', 'other_same_language_pr', 'gh_account_duration', 'project_commit', 'project_pr',\n",
    "       'language', 'pr_commit','future_contribution']]"
   ]
  },
  {
   "cell_type": "code",
   "execution_count": 254,
   "id": "66c313b1",
   "metadata": {},
   "outputs": [],
   "source": [
    "d4.to_csv('d4.csv')"
   ]
  },
  {
   "cell_type": "code",
   "execution_count": 47,
   "id": "0ebe7297",
   "metadata": {},
   "outputs": [],
   "source": [
    "sentiment = sentiment.sort_values(by=['comment_id'])\n",
    "emotion_df = emotion_df.sort_values(by=['comment_id'])\n",
    "toxicity = toxicity.sort_values(by=['comment_id'])\n",
    "responsiveness = responsiveness.sort_values(by=['comment_id'])"
   ]
  },
  {
   "cell_type": "markdown",
   "id": "96f8a4e5",
   "metadata": {},
   "source": [
    "# Sample for qualitative"
   ]
  },
  {
   "cell_type": "markdown",
   "id": "7c9b2383",
   "metadata": {},
   "source": [
    "## RQ2 Qualitative"
   ]
  },
  {
   "cell_type": "code",
   "execution_count": 116,
   "id": "12d49aed",
   "metadata": {},
   "outputs": [],
   "source": [
    "#start from 3\n",
    "temp = sentiment[sentiment['type']=='First-contribution']\n",
    "sample = temp[temp['sentiment'].isin([-4,-3,-2,-1])].sample(n=381,random_state=3)\n",
    "sample = ks.from_pandas(sample)"
   ]
  },
  {
   "cell_type": "code",
   "execution_count": 118,
   "id": "deeccb37",
   "metadata": {},
   "outputs": [
    {
     "data": {
      "text/plain": [
       "(4353, 12)"
      ]
     },
     "execution_count": 118,
     "metadata": {},
     "output_type": "execute_result"
    }
   ],
   "source": [
    "temp[temp['sentiment'].isin([-4,-3,-2,-1])].shape"
   ]
  },
  {
   "cell_type": "code",
   "execution_count": 101,
   "id": "a09ef175",
   "metadata": {},
   "outputs": [],
   "source": [
    "sql = '''SELECT p.url,pr.pullreq_id,s.body,s.sentiment  \n",
    "from {sample} s inner join {pull_requests} pr on s.pull_request_id == pr.id\n",
    "inner join {projects} p on s.base_repo_id == p.id'''\n",
    "prepared_sample = ks.sql(sql)"
   ]
  },
  {
   "cell_type": "code",
   "execution_count": 102,
   "id": "15db8908",
   "metadata": {},
   "outputs": [],
   "source": [
    "prepared_sample = prepared_sample.to_pandas()"
   ]
  },
  {
   "cell_type": "code",
   "execution_count": 103,
   "id": "ffde1058",
   "metadata": {},
   "outputs": [],
   "source": [
    "def prepare_url(url,pr_id):\n",
    "    return url.replace('api.','').replace('repos/','')+'/pull/'+str(pr_id)"
   ]
  },
  {
   "cell_type": "code",
   "execution_count": 104,
   "id": "8fb1f9e5",
   "metadata": {},
   "outputs": [],
   "source": [
    "prepared_sample['link'] = list(map(prepare_url,prepared_sample['url'],prepared_sample['pullreq_id']))"
   ]
  },
  {
   "cell_type": "code",
   "execution_count": 105,
   "id": "bc6ccee8",
   "metadata": {},
   "outputs": [],
   "source": [
    "prepared_sample.to_csv('qualitative_30_all_test.csv') "
   ]
  },
  {
   "cell_type": "markdown",
   "id": "238e38ed",
   "metadata": {},
   "source": [
    "## Sanity Check"
   ]
  },
  {
   "cell_type": "code",
   "execution_count": 57,
   "id": "1cfac02c",
   "metadata": {
    "scrolled": true
   },
   "outputs": [],
   "source": [
    "sentiment.sample(n=384,random_state=3).to_csv('sanity_sentiment.csv') "
   ]
  },
  {
   "cell_type": "code",
   "execution_count": 58,
   "id": "36c7af99",
   "metadata": {},
   "outputs": [],
   "source": [
    "emotion_df.sample(n=384,random_state=3).to_csv('sanity_emotion.csv') "
   ]
  },
  {
   "cell_type": "code",
   "execution_count": 59,
   "id": "1317fe61",
   "metadata": {},
   "outputs": [],
   "source": [
    "toxicity.sample(n=384,random_state=3).to_csv('sanity_toxicity.csv') "
   ]
  },
  {
   "cell_type": "markdown",
   "id": "10f0609a",
   "metadata": {},
   "source": [
    "# RQ1"
   ]
  },
  {
   "cell_type": "markdown",
   "id": "f3d6456f",
   "metadata": {},
   "source": [
    "## H1.1"
   ]
  },
  {
   "cell_type": "code",
   "execution_count": 147,
   "id": "11bc79ac",
   "metadata": {},
   "outputs": [
    {
     "name": "stderr",
     "output_type": "stream",
     "text": [
      "/home/noppadol-a/anaconda3/lib/python3.8/site-packages/scipy/stats/morestats.py:1760: UserWarning: p-value may not be accurate for N > 5000.\n",
      "  warnings.warn(\"p-value may not be accurate for N > 5000.\")\n"
     ]
    },
    {
     "data": {
      "text/plain": [
       "ShapiroResult(statistic=0.48982036113739014, pvalue=0.0)"
      ]
     },
     "execution_count": 147,
     "metadata": {},
     "output_type": "execute_result"
    }
   ],
   "source": [
    "shapiro(sentiment['sentiment'])"
   ]
  },
  {
   "cell_type": "code",
   "execution_count": 148,
   "id": "c521c577",
   "metadata": {},
   "outputs": [
    {
     "data": {
      "text/plain": [
       "MannwhitneyuResult(statistic=20453758507.0, pvalue=1.3376355985290023e-12)"
      ]
     },
     "execution_count": 148,
     "metadata": {},
     "output_type": "execute_result"
    }
   ],
   "source": [
    "mannwhitneyu(sentiment[sentiment['type']=='Non-first-contribution']['sentiment'],sentiment[sentiment['type']!='Non-first-contribution']['sentiment'])"
   ]
  },
  {
   "cell_type": "code",
   "execution_count": 149,
   "id": "7fed9c8e",
   "metadata": {},
   "outputs": [
    {
     "data": {
      "text/plain": [
       "(-0.009448655011467572, 'negligible')"
      ]
     },
     "execution_count": 149,
     "metadata": {},
     "output_type": "execute_result"
    }
   ],
   "source": [
    "cliffsDelta(sentiment[sentiment['type']=='Non-first-contribution']['sentiment'],sentiment[sentiment['type']!='Non-first-contribution']['sentiment'])"
   ]
  },
  {
   "cell_type": "markdown",
   "id": "8c4b4a9a",
   "metadata": {},
   "source": [
    "## H1.2"
   ]
  },
  {
   "cell_type": "code",
   "execution_count": 154,
   "id": "b7e4cb06",
   "metadata": {},
   "outputs": [
    {
     "name": "stderr",
     "output_type": "stream",
     "text": [
      "/home/noppadol-a/anaconda3/lib/python3.8/site-packages/scipy/stats/morestats.py:1760: UserWarning: p-value may not be accurate for N > 5000.\n",
      "  warnings.warn(\"p-value may not be accurate for N > 5000.\")\n"
     ]
    },
    {
     "data": {
      "text/plain": [
       "ShapiroResult(statistic=0.11131793260574341, pvalue=0.0)"
      ]
     },
     "execution_count": 154,
     "metadata": {},
     "output_type": "execute_result"
    }
   ],
   "source": [
    "shapiro(responsiveness['responsiveness'])"
   ]
  },
  {
   "cell_type": "code",
   "execution_count": 155,
   "id": "4a74ba57",
   "metadata": {},
   "outputs": [
    {
     "data": {
      "text/plain": [
       "MannwhitneyuResult(statistic=19758864951.5, pvalue=9.515177185834104e-80)"
      ]
     },
     "execution_count": 155,
     "metadata": {},
     "output_type": "execute_result"
    }
   ],
   "source": [
    "mannwhitneyu(responsiveness[responsiveness['type']=='Non-first-contribution']['responsiveness'],responsiveness[responsiveness['type']!='Non-first-contribution']['responsiveness'])"
   ]
  },
  {
   "cell_type": "code",
   "execution_count": 159,
   "id": "bd28fef3",
   "metadata": {},
   "outputs": [
    {
     "data": {
      "text/plain": [
       "(-0.04310036851407701, 'negligible')"
      ]
     },
     "execution_count": 159,
     "metadata": {},
     "output_type": "execute_result"
    }
   ],
   "source": [
    "cliffsDelta(responsiveness[responsiveness['type']=='Non-first-contribution']['responsiveness'],responsiveness[responsiveness['type']!='Non-first-contribution']['responsiveness'])"
   ]
  },
  {
   "cell_type": "markdown",
   "id": "03ca62c5",
   "metadata": {},
   "source": [
    "## H1.3"
   ]
  },
  {
   "cell_type": "code",
   "execution_count": 54,
   "id": "6869f224",
   "metadata": {},
   "outputs": [],
   "source": [
    "# chisquare(toxicity[toxicity['type']=='Non-first-contribution']['toxic'])"
   ]
  },
  {
   "cell_type": "code",
   "execution_count": 55,
   "id": "e0735790",
   "metadata": {},
   "outputs": [],
   "source": [
    "# chisquare(toxicity[toxicity['type']!='Non-first-contribution']['toxic'])"
   ]
  },
  {
   "cell_type": "code",
   "execution_count": 304,
   "id": "2d2e740a",
   "metadata": {},
   "outputs": [
    {
     "data": {
      "text/plain": [
       "(0.34138749872513724,\n",
       " 0.5590294242132554,\n",
       " 1,\n",
       " array([[5.70671024e+05, 1.49797588e+03],\n",
       "        [7.12489759e+04, 1.87024122e+02]]))"
      ]
     },
     "execution_count": 304,
     "metadata": {},
     "output_type": "execute_result"
    }
   ],
   "source": [
    "obs = np.array([[570663,1506],[71257,179]])\n",
    "chi2_contingency(obs)"
   ]
  },
  {
   "cell_type": "code",
   "execution_count": 57,
   "id": "03d8679e",
   "metadata": {},
   "outputs": [
    {
     "data": {
      "text/plain": [
       "0    569902\n",
       "1      1503\n",
       "Name: toxic, dtype: int64"
      ]
     },
     "execution_count": 57,
     "metadata": {},
     "output_type": "execute_result"
    }
   ],
   "source": [
    "toxicity[toxicity['type']=='Non-first-contribution']['toxic'].value_counts()"
   ]
  },
  {
   "cell_type": "code",
   "execution_count": 58,
   "id": "71e8ed82",
   "metadata": {},
   "outputs": [
    {
     "data": {
      "text/plain": [
       "0    72094\n",
       "1      180\n",
       "Name: toxic, dtype: int64"
      ]
     },
     "execution_count": 58,
     "metadata": {},
     "output_type": "execute_result"
    }
   ],
   "source": [
    "toxicity[toxicity['type']!='Non-first-contribution']['toxic'].value_counts()"
   ]
  },
  {
   "cell_type": "code",
   "execution_count": 135,
   "id": "e6f876d1",
   "metadata": {},
   "outputs": [
    {
     "data": {
      "text/plain": [
       "(                         toxic              \n",
       " toxic                        0     1     All\n",
       " type                                        \n",
       " First-contribution       72094   180   72274\n",
       " Non-first-contribution  569902  1503  571405\n",
       " All                     641996  1683  643679,\n",
       "                 Chi-square test  results\n",
       " 0  Pearson Chi-square ( 1.0) =    0.4811\n",
       " 1                    p-value =    0.4879\n",
       " 2               Cramer's phi =    0.0009)"
      ]
     },
     "execution_count": 135,
     "metadata": {},
     "output_type": "execute_result"
    }
   ],
   "source": [
    "researchpy.crosstab(toxicity['type'], toxicity['toxic'], test = 'chi-square') "
   ]
  },
  {
   "cell_type": "markdown",
   "id": "d1894f04",
   "metadata": {},
   "source": [
    "## H1.4"
   ]
  },
  {
   "cell_type": "code",
   "execution_count": 136,
   "id": "72ae4cc3",
   "metadata": {},
   "outputs": [
    {
     "data": {
      "text/plain": [
       "(                          fear               \n",
       " fear                        NO    YES     All\n",
       " type                                         \n",
       " First-contribution       66465   5809   72274\n",
       " Non-first-contribution  526694  44711  571405\n",
       " All                     593159  50520  643679,\n",
       "                 Chi-square test  results\n",
       " 0  Pearson Chi-square ( 1.0) =    4.0140\n",
       " 1                    p-value =    0.0451\n",
       " 2               Cramer's phi =    0.0025)"
      ]
     },
     "execution_count": 136,
     "metadata": {},
     "output_type": "execute_result"
    }
   ],
   "source": [
    "researchpy.crosstab(emotion_df['type'], emotion_df['fear'], test = 'chi-square') "
   ]
  },
  {
   "cell_type": "code",
   "execution_count": 321,
   "id": "fc805d8b",
   "metadata": {},
   "outputs": [],
   "source": [
    "# temp = emotion_df[emotion_df['type']=='First-contribution']\n",
    "# temp = temp[temp['comment_id'].isin(final_feature_df['comment_id'])]\n",
    "# temp =pd.concat([temp,emotion_df[emotion_df['type']!='First-contribution']])\n",
    "# researchpy.crosstab(temp['type'], temp['fear'], test = 'chi-square') "
   ]
  },
  {
   "cell_type": "code",
   "execution_count": 137,
   "id": "30ce31a5",
   "metadata": {},
   "outputs": [
    {
     "data": {
      "text/plain": [
       "(                         anger              \n",
       " anger                       NO   YES     All\n",
       " type                                        \n",
       " First-contribution       71302   972   72274\n",
       " Non-first-contribution  562839  8566  571405\n",
       " All                     634141  9538  643679,\n",
       "                 Chi-square test  results\n",
       " 0  Pearson Chi-square ( 1.0) =   10.4542\n",
       " 1                    p-value =    0.0012\n",
       " 2               Cramer's phi =    0.0040)"
      ]
     },
     "execution_count": 137,
     "metadata": {},
     "output_type": "execute_result"
    }
   ],
   "source": [
    "researchpy.crosstab(emotion_df['type'], emotion_df['anger'], test = 'chi-square') "
   ]
  },
  {
   "cell_type": "code",
   "execution_count": 138,
   "id": "14f4c475",
   "metadata": {},
   "outputs": [
    {
     "data": {
      "text/plain": [
       "(                           joy               \n",
       " joy                         NO    YES     All\n",
       " type                                         \n",
       " First-contribution       67112   5162   72274\n",
       " Non-first-contribution  534623  36782  571405\n",
       " All                     601735  41944  643679,\n",
       "                 Chi-square test  results\n",
       " 0  Pearson Chi-square ( 1.0) =   52.3699\n",
       " 1                    p-value =    0.0000\n",
       " 2               Cramer's phi =    0.0090)"
      ]
     },
     "execution_count": 138,
     "metadata": {},
     "output_type": "execute_result"
    }
   ],
   "source": [
    "researchpy.crosstab(emotion_df['type'], emotion_df['joy'], test = 'chi-square') "
   ]
  },
  {
   "cell_type": "code",
   "execution_count": 139,
   "id": "9ab5755c",
   "metadata": {},
   "outputs": [
    {
     "data": {
      "text/plain": [
       "(                          love               \n",
       " love                        NO    YES     All\n",
       " type                                         \n",
       " First-contribution       70849   1425   72274\n",
       " Non-first-contribution  561159  10246  571405\n",
       " All                     632008  11671  643679,\n",
       "                 Chi-square test  results\n",
       " 0  Pearson Chi-square ( 1.0) =   11.4877\n",
       " 1                    p-value =    0.0007\n",
       " 2               Cramer's phi =    0.0042)"
      ]
     },
     "execution_count": 139,
     "metadata": {},
     "output_type": "execute_result"
    }
   ],
   "source": [
    "researchpy.crosstab(emotion_df['type'], emotion_df['love'], test = 'chi-square') "
   ]
  },
  {
   "cell_type": "code",
   "execution_count": 140,
   "id": "625d79e3",
   "metadata": {},
   "outputs": [
    {
     "data": {
      "text/plain": [
       "(                       sadness               \n",
       " sadness                     NO    YES     All\n",
       " type                                         \n",
       " First-contribution       70268   2006   72274\n",
       " Non-first-contribution  554687  16718  571405\n",
       " All                     624955  18724  643679,\n",
       "                 Chi-square test  results\n",
       " 0  Pearson Chi-square ( 1.0) =    5.1264\n",
       " 1                    p-value =    0.0236\n",
       " 2               Cramer's phi =    0.0028)"
      ]
     },
     "execution_count": 140,
     "metadata": {},
     "output_type": "execute_result"
    }
   ],
   "source": [
    "researchpy.crosstab(emotion_df['type'], emotion_df['sadness'], test = 'chi-square') "
   ]
  },
  {
   "cell_type": "code",
   "execution_count": 141,
   "id": "62062b74",
   "metadata": {},
   "outputs": [
    {
     "data": {
      "text/plain": [
       "(                       surprise                \n",
       " surprise                     NO     YES     All\n",
       " type                                           \n",
       " First-contribution        62607    9667   72274\n",
       " Non-first-contribution   476001   95404  571405\n",
       " All                      538608  105071  643679,\n",
       "                 Chi-square test   results\n",
       " 0  Pearson Chi-square ( 1.0) =   518.0261\n",
       " 1                    p-value =     0.0000\n",
       " 2               Cramer's phi =     0.0284)"
      ]
     },
     "execution_count": 141,
     "metadata": {},
     "output_type": "execute_result"
    }
   ],
   "source": [
    "researchpy.crosstab(emotion_df['type'], emotion_df['surprise'], test = 'chi-square') "
   ]
  },
  {
   "cell_type": "markdown",
   "id": "4b614269",
   "metadata": {},
   "source": [
    "# RQ2"
   ]
  },
  {
   "cell_type": "markdown",
   "id": "5054d485",
   "metadata": {},
   "source": [
    "## H2.1"
   ]
  },
  {
   "cell_type": "code",
   "execution_count": 258,
   "id": "5f26fbed",
   "metadata": {},
   "outputs": [],
   "source": [
    "h2_sentiment = sentiment[sentiment['type']=='First-contribution']"
   ]
  },
  {
   "cell_type": "code",
   "execution_count": 259,
   "id": "da27e69a",
   "metadata": {},
   "outputs": [
    {
     "data": {
      "text/plain": [
       "ShapiroResult(statistic=0.47099536657333374, pvalue=0.0)"
      ]
     },
     "execution_count": 259,
     "metadata": {},
     "output_type": "execute_result"
    }
   ],
   "source": [
    "shapiro(h2_sentiment['sentiment'])"
   ]
  },
  {
   "cell_type": "code",
   "execution_count": 260,
   "id": "e05d1ada",
   "metadata": {},
   "outputs": [
    {
     "data": {
      "text/plain": [
       "MannwhitneyuResult(statistic=631811067.5, pvalue=0.11463329981018108)"
      ]
     },
     "execution_count": 260,
     "metadata": {},
     "output_type": "execute_result"
    }
   ],
   "source": [
    "mannwhitneyu(h2_sentiment[h2_sentiment['type2']=='Interact']['sentiment'],h2_sentiment[h2_sentiment['type2']!='Interact']['sentiment'])"
   ]
  },
  {
   "cell_type": "code",
   "execution_count": 261,
   "id": "59e7fd4d",
   "metadata": {},
   "outputs": [
    {
     "data": {
      "text/plain": [
       "(-0.003904356928082709, 'negligible')"
      ]
     },
     "execution_count": 261,
     "metadata": {},
     "output_type": "execute_result"
    }
   ],
   "source": [
    "cliffsDelta(h2_sentiment[h2_sentiment['type2']=='Interact']['sentiment'],h2_sentiment[h2_sentiment['type2']!='Interact']['sentiment'])"
   ]
  },
  {
   "cell_type": "markdown",
   "id": "02274971",
   "metadata": {},
   "source": [
    "## H2.2"
   ]
  },
  {
   "cell_type": "code",
   "execution_count": 262,
   "id": "d154a99f",
   "metadata": {},
   "outputs": [],
   "source": [
    "h2_responsiveness = responsiveness[responsiveness['type']=='First-contribution']"
   ]
  },
  {
   "cell_type": "code",
   "execution_count": 263,
   "id": "ac22e66e",
   "metadata": {},
   "outputs": [
    {
     "data": {
      "text/plain": [
       "ShapiroResult(statistic=0.1748577356338501, pvalue=0.0)"
      ]
     },
     "execution_count": 263,
     "metadata": {},
     "output_type": "execute_result"
    }
   ],
   "source": [
    "shapiro(h2_responsiveness['responsiveness'])"
   ]
  },
  {
   "cell_type": "code",
   "execution_count": 264,
   "id": "62cb07b3",
   "metadata": {},
   "outputs": [
    {
     "data": {
      "text/plain": [
       "MannwhitneyuResult(statistic=630616845.5, pvalue=0.18418798137698345)"
      ]
     },
     "execution_count": 264,
     "metadata": {},
     "output_type": "execute_result"
    }
   ],
   "source": [
    "mannwhitneyu(h2_responsiveness[h2_responsiveness['type2']=='Interact']['responsiveness'],h2_responsiveness[h2_responsiveness['type2']!='Interact']['responsiveness'])"
   ]
  },
  {
   "cell_type": "code",
   "execution_count": 265,
   "id": "9c86bd75",
   "metadata": {},
   "outputs": [
    {
     "data": {
      "text/plain": [
       "(-0.005787133904066327, 'negligible')"
      ]
     },
     "execution_count": 265,
     "metadata": {},
     "output_type": "execute_result"
    }
   ],
   "source": [
    "cliffsDelta(h2_responsiveness[h2_responsiveness['type2']=='Interact']['responsiveness'],h2_responsiveness[h2_responsiveness['type2']!='Interact']['responsiveness'])"
   ]
  },
  {
   "cell_type": "markdown",
   "id": "072956b8",
   "metadata": {},
   "source": [
    "# RQ3"
   ]
  },
  {
   "cell_type": "markdown",
   "id": "fe6e4dfd",
   "metadata": {},
   "source": [
    "# Feature Extraction"
   ]
  },
  {
   "cell_type": "markdown",
   "id": "8ab424c1",
   "metadata": {},
   "source": [
    "## Merge the sentiment responsiveness toxicity and emotion"
   ]
  },
  {
   "cell_type": "code",
   "execution_count": 118,
   "id": "b6dc7580",
   "metadata": {},
   "outputs": [],
   "source": [
    "toxicity_temp = toxicity[['comment_id','base_repo_id','pull_request_id','pr_author','comment_author','body','created_at','toxic','type','type2']]\n",
    "toxicity_temp = toxicity_temp[toxicity_temp['type']=='First-contribution']\n",
    "toxicity_temp = toxicity_temp.set_index('comment_id')"
   ]
  },
  {
   "cell_type": "code",
   "execution_count": 119,
   "id": "8ac1c84c",
   "metadata": {},
   "outputs": [],
   "source": [
    "emotion_df_temp = emotion_df[['comment_id','anger','fear','joy','love','sadness','surprise']]\n",
    "emotion_df_temp = emotion_df_temp.set_index('comment_id')"
   ]
  },
  {
   "cell_type": "code",
   "execution_count": 120,
   "id": "d6b627c1",
   "metadata": {},
   "outputs": [],
   "source": [
    "sentiment_temp =sentiment[['comment_id','sentiment']]\n",
    "sentiment_temp = sentiment_temp.set_index('comment_id')"
   ]
  },
  {
   "cell_type": "code",
   "execution_count": 121,
   "id": "ae75c1a2",
   "metadata": {},
   "outputs": [],
   "source": [
    "responsiveness['fr_created_at'] =  pd.to_datetime(responsiveness['fr_created_at'], format='%Y-%m-%d %H:%M:%S')\n",
    "responsiveness['pr_created_at'] =  pd.to_datetime(responsiveness['pr_created_at'], format='%Y-%m-%d %H:%M:%S')\n",
    "responsiveness['responsiveness'] = (responsiveness['fr_created_at'] - responsiveness['pr_created_at'])\n",
    "responsiveness['responsiveness'] = [i.total_seconds() for i in responsiveness['responsiveness']]\n",
    "responsiveness_temp = responsiveness[['comment_id','responsiveness']]\n",
    "responsiveness_temp = responsiveness_temp.set_index('comment_id')"
   ]
  },
  {
   "cell_type": "code",
   "execution_count": 122,
   "id": "954845f1",
   "metadata": {},
   "outputs": [],
   "source": [
    "feature_df = toxicity_temp.join(emotion_df_temp, how=\"inner\").join(sentiment_temp, how=\"inner\").join(responsiveness_temp, how=\"inner\")"
   ]
  },
  {
   "cell_type": "markdown",
   "id": "b61eab86",
   "metadata": {},
   "source": [
    "## Interaction"
   ]
  },
  {
   "cell_type": "code",
   "execution_count": 123,
   "id": "b5e7956b",
   "metadata": {},
   "outputs": [],
   "source": [
    "sql = 'select pull_request_id, count(body) from {pull_request_comments} group by pull_request_id'\n",
    "interaction = ks.sql(sql)\n",
    "interaction = interaction.to_pandas()\n",
    "interaction = interaction.set_index('pull_request_id')\n",
    "interaction = interaction.rename(columns={'count(body)': 'interaction'})"
   ]
  },
  {
   "cell_type": "code",
   "execution_count": 124,
   "id": "d0ed13f6",
   "metadata": {},
   "outputs": [],
   "source": [
    "feature_df = feature_df.reset_index().set_index('pull_request_id')"
   ]
  },
  {
   "cell_type": "code",
   "execution_count": 125,
   "id": "d77ad79d",
   "metadata": {},
   "outputs": [],
   "source": [
    "feature_df = feature_df.join(interaction, how=\"inner\")"
   ]
  },
  {
   "cell_type": "markdown",
   "id": "47767e80",
   "metadata": {},
   "source": [
    "## Words in the First Response"
   ]
  },
  {
   "cell_type": "code",
   "execution_count": 126,
   "id": "f82f69f4",
   "metadata": {},
   "outputs": [],
   "source": [
    "from nltk.tokenize import word_tokenize"
   ]
  },
  {
   "cell_type": "code",
   "execution_count": 127,
   "id": "ea011e5e",
   "metadata": {},
   "outputs": [],
   "source": [
    "feature_df['word_first_response'] = feature_df['body'].map(lambda x: len(word_tokenize(str(x))))"
   ]
  },
  {
   "cell_type": "markdown",
   "id": "79f98ee8",
   "metadata": {},
   "source": [
    "## result PR"
   ]
  },
  {
   "cell_type": "code",
   "execution_count": 117,
   "id": "8652f53d",
   "metadata": {},
   "outputs": [],
   "source": [
    "header_list = [\"id\",\"pull_request_id\",\"created_at\",\"action\",\"actor_id\"]\n",
    "pull_request_history = ks.read_csv(os.path.join(data_path,'pull_request_history.csv'), header=None, names=header_list)"
   ]
  },
  {
   "cell_type": "code",
   "execution_count": 129,
   "id": "f03b5762",
   "metadata": {},
   "outputs": [],
   "source": [
    "# finished_action = ['closed','merged']\n",
    "# sql = '''\n",
    "#     select * from {pull_request_history} where action in {finished_action}\n",
    "# '''\n",
    "# pull_request_history = ks.sql(sql)"
   ]
  },
  {
   "cell_type": "code",
   "execution_count": 130,
   "id": "9d3f0a33",
   "metadata": {},
   "outputs": [],
   "source": [
    "feature_df = feature_df.reset_index()"
   ]
  },
  {
   "cell_type": "code",
   "execution_count": 131,
   "id": "937a3775",
   "metadata": {},
   "outputs": [],
   "source": [
    "# pull_request_history = pull_request_history.sort_values(by = ['created_at']) \n",
    "# pull_request_history = pull_request_history.drop_duplicates(subset=['pull_request_id'], keep='last')\n",
    "# pull_request_history = pull_request_history[['pull_request_id','action']]\n",
    "# pull_request_history = pull_request_history.set_index('pull_request_id')\n",
    "# feature_df = feature_df.set_index('pull_request_id')\n",
    "# feature_df = pull_request_history.join(ks.from_pandas(feature_df), how=\"inner\")\n",
    "# feature_df = feature_df.to_pandas()"
   ]
  },
  {
   "cell_type": "code",
   "execution_count": 132,
   "id": "395afcc9",
   "metadata": {},
   "outputs": [],
   "source": [
    "pull_request_history = pull_request_history[pull_request_history['action']=='merged']\n",
    "success_pr = pull_request_history['pull_request_id'].unique()\n",
    "success_pr = set(success_pr.to_numpy())\n",
    "feature_df['action'] = feature_df['pull_request_id'].map(lambda x: 'merged' if x in success_pr else 'closed')"
   ]
  },
  {
   "cell_type": "code",
   "execution_count": 133,
   "id": "1ed78eb6",
   "metadata": {},
   "outputs": [],
   "source": [
    "feature_df = feature_df.rename(columns={'action':'merged'})\n",
    "feature_df['merged'] = feature_df['merged'].map({'merged':True,'closed':False})\n",
    "feature_df = feature_df.set_index('pull_request_id')"
   ]
  },
  {
   "cell_type": "markdown",
   "id": "409329b3",
   "metadata": {},
   "source": [
    "##  pull request created in other project"
   ]
  },
  {
   "cell_type": "code",
   "execution_count": 134,
   "id": "0df5b019",
   "metadata": {},
   "outputs": [],
   "source": [
    "feature_df = feature_df.reset_index()\n",
    "sub_sql = '''\n",
    "    (select f.pull_request_id,f.pr_author,f.base_repo_id,pr.created_at from \n",
    "    {feature_df} f inner join {pull_requests} pr on f.pull_request_id = pr.id)\n",
    "'''\n",
    "sql = '''\n",
    "    select f.pull_request_id, count(distinct(id)) from \n",
    "    %s f inner join {pull_requests} pr on f.pr_author = pr.actor_id\n",
    "    where f.base_repo_id <> pr.base_repo_id and f.created_at > pr.created_at\n",
    "    group by f.pull_request_id\n",
    "'''%(sub_sql)\n",
    "previous_pr = ks.sql(sql)\n",
    "previous_pr = previous_pr.set_index('pull_request_id')\n",
    "feature_df = feature_df.set_index('pull_request_id')\n",
    "feature_df = ks.from_pandas(feature_df).join(previous_pr, how=\"left\")\n",
    "feature_df = feature_df.to_pandas()"
   ]
  },
  {
   "cell_type": "code",
   "execution_count": 138,
   "id": "f4e001e8",
   "metadata": {},
   "outputs": [],
   "source": [
    "feature_df = feature_df.rename(columns={'count(DISTINCT id)':'other_project_pr'})\n",
    "feature_df['other_project_pr'] = feature_df['other_project_pr'].fillna(value=0)"
   ]
  },
  {
   "cell_type": "markdown",
   "id": "efbc3e24",
   "metadata": {},
   "source": [
    "##  pull request created in other project using same langauge"
   ]
  },
  {
   "cell_type": "code",
   "execution_count": 190,
   "id": "653a04a3",
   "metadata": {},
   "outputs": [],
   "source": [
    "feature_df = feature_df.reset_index()\n",
    "sub_sub_sql = '''\n",
    "    (select f.pull_request_id,f.pr_author,f.base_repo_id,pr.created_at from \n",
    "    {feature_df} f inner join {pull_requests} pr on f.pull_request_id = pr.id)\n",
    "'''\n",
    "sub_sql1 = '''\n",
    "    (select * from \n",
    "    %s f inner join {inspect_project} p on f.base_repo_id = p.id)\n",
    "'''%(sub_sub_sql)\n",
    "sub_sql2 = '''\n",
    "    (select base_repo_id,pr.id,actor_id,created_at,pullreq_id,p.language from \n",
    "    {pull_requests} pr inner join {inspect_project} p on pr.base_repo_id = p.id)\n",
    "'''\n",
    "sql ='''\n",
    "    select f.pull_request_id, count(distinct(pr.id)) from \n",
    "    %s f inner join %s pr on f.pr_author = pr.actor_id\n",
    "    where f.base_repo_id <> pr.base_repo_id and f.created_at > pr.created_at and f.language == pr.language\n",
    "    group by f.pull_request_id\n",
    "'''%(sub_sql1,sub_sql2)\n",
    "previous_same_language_pr = ks.sql(sql)\n",
    "previous_same_language_pr = previous_same_language_pr.set_index('pull_request_id')\n",
    "feature_df = feature_df.set_index('pull_request_id')\n",
    "feature_df = ks.from_pandas(feature_df).join(previous_same_language_pr, how=\"left\")\n",
    "feature_df = feature_df.to_pandas()\n",
    "feature_df = feature_df.rename(columns={'count(DISTINCT id)':'other_same_language_pr'})\n",
    "feature_df['other_same_language_pr'] = feature_df['other_same_language_pr'].fillna(value=0)"
   ]
  },
  {
   "cell_type": "markdown",
   "id": "10bc07fb",
   "metadata": {},
   "source": [
    "##  How long the Github Account have been created (INT)"
   ]
  },
  {
   "cell_type": "code",
   "execution_count": 119,
   "id": "bff6a9e3",
   "metadata": {},
   "outputs": [],
   "source": [
    "header_list = [\"id\",\"login\",\"company\",\"created_at\",\"type\",\"fake\",\"deleted\",\"long\",\"lat\",\"country_code\",\"state\",\"city\",\"location\"]\n",
    "users = ks.read_csv(os.path.join(data_path,'users.csv'), header=None, names=header_list)\n",
    "users = users[['created_at','id']]"
   ]
  },
  {
   "cell_type": "code",
   "execution_count": 240,
   "id": "090f64e3",
   "metadata": {},
   "outputs": [],
   "source": [
    "feature_df = feature_df.reset_index()\n",
    "sub_sql = '''\n",
    "    (select f.pull_request_id,f.pr_author,f.base_repo_id,pr.created_at from \n",
    "    {feature_df} f inner join {pull_requests} pr on f.pull_request_id = pr.id)\n",
    "'''\n",
    "sql ='''\n",
    "    select f.pull_request_id,f.created_at as pr_created_at,u.created_at as u_created_at from\n",
    "    %s f inner join {users} u on f.pr_author = u.id \n",
    "'''%(sub_sql)\n",
    "gh_account_duration = ks.sql(sql)\n",
    "gh_account_duration = gh_account_duration.to_pandas()"
   ]
  },
  {
   "cell_type": "code",
   "execution_count": 241,
   "id": "53358db2",
   "metadata": {},
   "outputs": [],
   "source": [
    "gh_account_duration['pr_created_at'] =  pd.to_datetime(gh_account_duration['pr_created_at'], format='%Y-%m-%d %H:%M:%S')\n",
    "gh_account_duration['u_created_at'] =  pd.to_datetime(gh_account_duration['u_created_at'], format='%Y-%m-%d %H:%M:%S')\n",
    "gh_account_duration['gh_account_duration'] = (gh_account_duration['pr_created_at'] - gh_account_duration['u_created_at'])\n",
    "gh_account_duration['gh_account_duration'] = gh_account_duration['gh_account_duration'].map(lambda x: 0 if x.total_seconds()<0 else x.total_seconds())\n",
    "gh_account_duration = gh_account_duration.set_index('pull_request_id')\n",
    "feature_df = feature_df.set_index('pull_request_id')\n",
    "feature_df = feature_df.join(gh_account_duration, how=\"inner\")\n"
   ]
  },
  {
   "cell_type": "markdown",
   "id": "967e3078",
   "metadata": {},
   "source": [
    "## Number of Commit of project at the time of pull request created "
   ]
  },
  {
   "cell_type": "code",
   "execution_count": 245,
   "id": "fbdadb1a",
   "metadata": {},
   "outputs": [],
   "source": [
    "header_list = [\"id\",\"sha\",\"author_id\",\"committer_id\",\"project_id\",\"created_at\"]\n",
    "commits = ks.read_csv(os.path.join(data_path,'commits.csv'), header=None, names=header_list)"
   ]
  },
  {
   "cell_type": "code",
   "execution_count": 247,
   "id": "2b5152fd",
   "metadata": {},
   "outputs": [],
   "source": [
    "feature_df = feature_df.reset_index()\n",
    "sub_sql = '''\n",
    "    (select f.pull_request_id,f.pr_author,f.base_repo_id,pr.created_at from \n",
    "    {feature_df} f inner join {pull_requests} pr on f.pull_request_id = pr.id)\n",
    "'''\n",
    "sql ='''\n",
    "    select f.pull_request_id,count(distinct c.id) as project_commit from\n",
    "    %s f inner join {commits} c on f.base_repo_id = c.project_id  where f.created_at>c.created_at\n",
    "    group by f.pull_request_id\n",
    "'''%(sub_sql)\n",
    "project_commit = ks.sql(sql)\n",
    "project_commit = project_commit.to_pandas()\n",
    "project_commit = project_commit.set_index('pull_request_id')\n",
    "feature_df = feature_df.set_index('pull_request_id')\n",
    "feature_df = feature_df.join(project_commit, how=\"left\")\n",
    "feature_df['project_commit'] = feature_df['project_commit'].fillna(value=0)"
   ]
  },
  {
   "cell_type": "markdown",
   "id": "63d06655",
   "metadata": {},
   "source": [
    "## Number of Pull request at the time of pull request created"
   ]
  },
  {
   "cell_type": "code",
   "execution_count": 248,
   "id": "2453e60b",
   "metadata": {},
   "outputs": [],
   "source": [
    "feature_df = feature_df.reset_index()\n",
    "sub_sql = '''\n",
    "    (select f.pull_request_id,f.pr_author,f.base_repo_id,pr.created_at from \n",
    "    {feature_df} f inner join {pull_requests} pr on f.pull_request_id = pr.id)\n",
    "'''\n",
    "sql = '''\n",
    "    select f.pull_request_id, count(distinct(pr.id)) as project_pr from \n",
    "    %s f inner join {pull_requests} pr on f.base_repo_id = pr.base_repo_id\n",
    "    where f.created_at > pr.created_at\n",
    "    group by f.pull_request_id\n",
    "'''%(sub_sql)\n",
    "project_pr = ks.sql(sql)\n",
    "project_pr = project_pr.to_pandas()\n",
    "project_pr = project_pr.set_index('pull_request_id')\n",
    "feature_df = feature_df.set_index('pull_request_id')\n",
    "feature_df = feature_df.join(project_pr, how=\"left\")\n",
    "feature_df['project_pr'] = feature_df['project_pr'].fillna(value=0)"
   ]
  },
  {
   "cell_type": "markdown",
   "id": "0f562133",
   "metadata": {},
   "source": [
    "## Programming Languages"
   ]
  },
  {
   "cell_type": "code",
   "execution_count": 249,
   "id": "f56612df",
   "metadata": {},
   "outputs": [],
   "source": [
    "feature_df = feature_df.reset_index()\n",
    "sql = '''\n",
    "    select f.pull_request_id,p.language from \n",
    "    {feature_df} f inner join {inspect_project} p on f.base_repo_id = p.id\n",
    "'''\n",
    "language = ks.sql(sql)\n",
    "language = language.to_pandas()\n",
    "language = language.set_index('pull_request_id')\n",
    "feature_df = feature_df.set_index('pull_request_id')\n",
    "feature_df = feature_df.join(language, how=\"inner\")"
   ]
  },
  {
   "cell_type": "markdown",
   "id": "b7803575",
   "metadata": {},
   "source": [
    "## Number of Commit in pr"
   ]
  },
  {
   "cell_type": "code",
   "execution_count": 250,
   "id": "29c4a0c9",
   "metadata": {},
   "outputs": [],
   "source": [
    "header_list = [\"pull_request_id\",\"commit_id\"]\n",
    "pull_request_commits = ks.read_csv(os.path.join(data_path,'pull_request_commits.csv'), header=None, names=header_list)"
   ]
  },
  {
   "cell_type": "code",
   "execution_count": 251,
   "id": "e2bcf624",
   "metadata": {},
   "outputs": [],
   "source": [
    "feature_df = feature_df.reset_index()\n",
    "sql = '''\n",
    "    select pull_request_id, count(commit_id) as pr_commit from\n",
    "    {pull_request_commits} group by pull_request_id\n",
    "'''\n",
    "pr_commit = ks.sql(sql)\n",
    "pr_commit = pr_commit.set_index('pull_request_id')\n",
    "feature_df = feature_df.set_index('pull_request_id')\n",
    "feature_df = ks.from_pandas(feature_df).join(pr_commit, how=\"left\")\n",
    "feature_df = feature_df.to_pandas()\n",
    "feature_df['pr_commit'] = feature_df['pr_commit'].fillna(value=0)"
   ]
  },
  {
   "cell_type": "markdown",
   "id": "4ca59c55",
   "metadata": {},
   "source": [
    "## Continue contributed or not"
   ]
  },
  {
   "cell_type": "code",
   "execution_count": 298,
   "id": "16ebfc4c",
   "metadata": {},
   "outputs": [],
   "source": [
    "# feature_df = feature_df.reset_index()\n",
    "# sql = '''\n",
    "#     select f.pull_request_id,pr.created_at as pr_created_at from \n",
    "#     {feature_df} f inner join {pull_requests} pr on f.pull_request_id = pr.id\n",
    "# '''\n",
    "# pr_created_time=ks.sql(sql)\n",
    "# pr_created_time = pr_created_time.to_pandas()\n",
    "# feature_df = feature_df.set_index('pull_request_id')\n",
    "# pr_created_time = pr_created_time.set_index('pull_request_id')\n",
    "# feature_df = feature_df.join(pr_created_time, how=\"inner\")"
   ]
  },
  {
   "cell_type": "code",
   "execution_count": 270,
   "id": "ed95fc38",
   "metadata": {},
   "outputs": [],
   "source": [
    "feature_df = feature_df.drop_duplicates(subset = ['comment_id'],keep='last')"
   ]
  },
  {
   "cell_type": "code",
   "execution_count": 299,
   "id": "eccb9acc",
   "metadata": {},
   "outputs": [
    {
     "data": {
      "text/html": [
       "<div>\n",
       "<style scoped>\n",
       "    .dataframe tbody tr th:only-of-type {\n",
       "        vertical-align: middle;\n",
       "    }\n",
       "\n",
       "    .dataframe tbody tr th {\n",
       "        vertical-align: top;\n",
       "    }\n",
       "\n",
       "    .dataframe thead th {\n",
       "        text-align: right;\n",
       "    }\n",
       "</style>\n",
       "<table border=\"1\" class=\"dataframe\">\n",
       "  <thead>\n",
       "    <tr style=\"text-align: right;\">\n",
       "      <th></th>\n",
       "      <th>pull_request_id</th>\n",
       "      <th>comment_id</th>\n",
       "      <th>base_repo_id</th>\n",
       "      <th>pr_author</th>\n",
       "      <th>comment_author</th>\n",
       "      <th>body</th>\n",
       "      <th>created_at</th>\n",
       "      <th>toxic</th>\n",
       "      <th>type</th>\n",
       "      <th>type2</th>\n",
       "      <th>...</th>\n",
       "      <th>merged</th>\n",
       "      <th>other_project_pr</th>\n",
       "      <th>other_same_language_pr</th>\n",
       "      <th>pr_created_at</th>\n",
       "      <th>u_created_at</th>\n",
       "      <th>gh_account_duration</th>\n",
       "      <th>project_commit</th>\n",
       "      <th>project_pr</th>\n",
       "      <th>language</th>\n",
       "      <th>pr_commit</th>\n",
       "    </tr>\n",
       "  </thead>\n",
       "  <tbody>\n",
       "    <tr>\n",
       "      <th>0</th>\n",
       "      <td>203455</td>\n",
       "      <td>743369</td>\n",
       "      <td>634</td>\n",
       "      <td>178630</td>\n",
       "      <td>859</td>\n",
       "      <td>this is useless. the base class can be found b...</td>\n",
       "      <td>2012-04-27 05:54:55</td>\n",
       "      <td>0</td>\n",
       "      <td>First-contribution</td>\n",
       "      <td>Not-Interact</td>\n",
       "      <td>...</td>\n",
       "      <td>False</td>\n",
       "      <td>1.0</td>\n",
       "      <td>1.0</td>\n",
       "      <td>2012-02-01 22:06:45</td>\n",
       "      <td>2010-02-20 14:22:31</td>\n",
       "      <td>61458254.0</td>\n",
       "      <td>1971.0</td>\n",
       "      <td>2263.0</td>\n",
       "      <td>PHP</td>\n",
       "      <td>1.0</td>\n",
       "    </tr>\n",
       "  </tbody>\n",
       "</table>\n",
       "<p>1 rows × 30 columns</p>\n",
       "</div>"
      ],
      "text/plain": [
       "   pull_request_id  comment_id  base_repo_id  pr_author  comment_author  \\\n",
       "0           203455      743369           634     178630             859   \n",
       "\n",
       "                                                body           created_at  \\\n",
       "0  this is useless. the base class can be found b...  2012-04-27 05:54:55   \n",
       "\n",
       "   toxic                type         type2  ... merged other_project_pr  \\\n",
       "0      0  First-contribution  Not-Interact  ...  False              1.0   \n",
       "\n",
       "  other_same_language_pr       pr_created_at        u_created_at  \\\n",
       "0                    1.0 2012-02-01 22:06:45 2010-02-20 14:22:31   \n",
       "\n",
       "  gh_account_duration  project_commit  project_pr  language  pr_commit  \n",
       "0          61458254.0          1971.0      2263.0       PHP        1.0  \n",
       "\n",
       "[1 rows x 30 columns]"
      ]
     },
     "execution_count": 299,
     "metadata": {},
     "output_type": "execute_result"
    }
   ],
   "source": [
    "feature_df.head(1)"
   ]
  },
  {
   "cell_type": "code",
   "execution_count": 302,
   "id": "a5a92d00",
   "metadata": {},
   "outputs": [],
   "source": [
    "# feature_df = feature_df.reset_index()\n",
    "sql = '''\n",
    "    select pull_request_id,count(distinct nfc.id) as future_contribution, min(nfc.created_at) as next_contribution_created_at\n",
    "    from {feature_df} f inner join {non_first_contribution} nfc on f.pr_author = nfc.actor_id\n",
    "    where f.base_repo_id == nfc.base_repo_id and f.pr_created_at < nfc.created_at\n",
    "    group by pull_request_id\n",
    "'''\n",
    "future_contribution = ks.sql(sql)\n",
    "future_contribution = future_contribution.to_pandas()\n",
    "feature_df = feature_df.set_index('pull_request_id')\n",
    "future_contribution = future_contribution.set_index('pull_request_id')\n",
    "feature_df = feature_df.join(future_contribution, how=\"left\")\n",
    "feature_df['future_contribution'] = feature_df['future_contribution'].fillna(value=0)\n",
    "feature_df['next_contribution_created_at'] = feature_df['next_contribution_created_at'].fillna(value=0)"
   ]
  },
  {
   "cell_type": "code",
   "execution_count": 318,
   "id": "30ed9d0d",
   "metadata": {},
   "outputs": [
    {
     "name": "stderr",
     "output_type": "stream",
     "text": [
      "<ipython-input-318-510d010bd8f1>:2: SettingWithCopyWarning: \n",
      "A value is trying to be set on a copy of a slice from a DataFrame.\n",
      "Try using .loc[row_indexer,col_indexer] = value instead\n",
      "\n",
      "See the caveats in the documentation: https://pandas.pydata.org/pandas-docs/stable/user_guide/indexing.html#returning-a-view-versus-a-copy\n",
      "  calculated_waiting_duration['pr_created_at'] =  pd.to_datetime(calculated_waiting_duration['pr_created_at'], format='%Y-%m-%d %H:%M:%S')\n",
      "<ipython-input-318-510d010bd8f1>:3: SettingWithCopyWarning: \n",
      "A value is trying to be set on a copy of a slice from a DataFrame.\n",
      "Try using .loc[row_indexer,col_indexer] = value instead\n",
      "\n",
      "See the caveats in the documentation: https://pandas.pydata.org/pandas-docs/stable/user_guide/indexing.html#returning-a-view-versus-a-copy\n",
      "  calculated_waiting_duration['next_contribution_created_at'] =  pd.to_datetime(calculated_waiting_duration['next_contribution_created_at'], format='%Y-%m-%d %H:%M:%S')\n",
      "<ipython-input-318-510d010bd8f1>:4: SettingWithCopyWarning: \n",
      "A value is trying to be set on a copy of a slice from a DataFrame.\n",
      "Try using .loc[row_indexer,col_indexer] = value instead\n",
      "\n",
      "See the caveats in the documentation: https://pandas.pydata.org/pandas-docs/stable/user_guide/indexing.html#returning-a-view-versus-a-copy\n",
      "  calculated_waiting_duration['duration_next_contribution'] = (calculated_waiting_duration['next_contribution_created_at'] - calculated_waiting_duration['pr_created_at'])\n",
      "<ipython-input-318-510d010bd8f1>:5: SettingWithCopyWarning: \n",
      "A value is trying to be set on a copy of a slice from a DataFrame.\n",
      "Try using .loc[row_indexer,col_indexer] = value instead\n",
      "\n",
      "See the caveats in the documentation: https://pandas.pydata.org/pandas-docs/stable/user_guide/indexing.html#returning-a-view-versus-a-copy\n",
      "  calculated_waiting_duration['duration_next_contribution'] = calculated_waiting_duration['duration_next_contribution'].map(lambda x: 0 if x.total_seconds()<0 else x.total_seconds())\n"
     ]
    }
   ],
   "source": [
    "calculated_waiting_duration = feature_df[feature_df['next_contribution_created_at']!=0]\n",
    "calculated_waiting_duration['pr_created_at'] =  pd.to_datetime(calculated_waiting_duration['pr_created_at'], format='%Y-%m-%d %H:%M:%S')\n",
    "calculated_waiting_duration['next_contribution_created_at'] =  pd.to_datetime(calculated_waiting_duration['next_contribution_created_at'], format='%Y-%m-%d %H:%M:%S')\n",
    "calculated_waiting_duration['duration_next_contribution'] = (calculated_waiting_duration['next_contribution_created_at'] - calculated_waiting_duration['pr_created_at'])\n",
    "calculated_waiting_duration['duration_next_contribution'] = calculated_waiting_duration['duration_next_contribution'].map(lambda x: 0 if x.total_seconds()<0 else x.total_seconds())\n",
    "calculated_waiting_duration = calculated_waiting_duration[['duration_next_contribution']]"
   ]
  },
  {
   "cell_type": "code",
   "execution_count": 320,
   "id": "0b31f0b1",
   "metadata": {},
   "outputs": [],
   "source": [
    "feature_df = feature_df.join(calculated_waiting_duration, how=\"left\")\n",
    "feature_df['duration_next_contribution'] = feature_df['duration_next_contribution'].fillna(value=0)"
   ]
  },
  {
   "cell_type": "code",
   "execution_count": 386,
   "id": "e4d71476",
   "metadata": {},
   "outputs": [],
   "source": [
    "max_duration_next_contribution = feature_df['duration_next_contribution'].max()"
   ]
  },
  {
   "cell_type": "code",
   "execution_count": 337,
   "id": "fa41a9ea",
   "metadata": {},
   "outputs": [],
   "source": [
    "newest_pr = pd.to_datetime(pull_requests['created_at'].max(), format='%Y-%m-%d %H:%M:%S')"
   ]
  },
  {
   "cell_type": "code",
   "execution_count": 342,
   "id": "e023a4e7",
   "metadata": {},
   "outputs": [],
   "source": [
    "feature_df['duration_until_newest_pr'] = feature_df['pr_created_at'].map(lambda x: (newest_pr-x).total_seconds())"
   ]
  },
  {
   "cell_type": "code",
   "execution_count": 389,
   "id": "d95e07a0",
   "metadata": {
    "scrolled": true
   },
   "outputs": [],
   "source": [
    "not_valid_assumption_future_contrib = feature_df[feature_df['duration_until_newest_pr']>max_duration_next_contribution]\n",
    "not_valid_assumption_future_contrib = not_valid_assumption_future_contrib[not_valid_assumption_future_contrib['future_contribution']==0]\n",
    "not_valid_assumption_future_contrib = set(not_valid_assumption_future_contrib.reset_index()['pull_request_id'])"
   ]
  },
  {
   "cell_type": "code",
   "execution_count": 392,
   "id": "694264e1",
   "metadata": {},
   "outputs": [],
   "source": [
    "feature_df = feature_df.reset_index()\n",
    "final_feature_df = feature_df[~feature_df['pull_request_id'].isin(not_valid_assumption_future_contrib)]"
   ]
  },
  {
   "cell_type": "code",
   "execution_count": 395,
   "id": "e3d750f4",
   "metadata": {},
   "outputs": [],
   "source": [
    "final_feature_df.to_csv(os.path.join(exper_dir,'final_feature_df.csv'))"
   ]
  },
  {
   "cell_type": "markdown",
   "id": "0d0b6cd1",
   "metadata": {},
   "source": [
    "## preprocess data"
   ]
  },
  {
   "cell_type": "code",
   "execution_count": 142,
   "id": "0d427c23",
   "metadata": {},
   "outputs": [
    {
     "data": {
      "text/plain": [
       "(71436, 35)"
      ]
     },
     "execution_count": 142,
     "metadata": {},
     "output_type": "execute_result"
    }
   ],
   "source": [
    "final_feature_df.shape"
   ]
  },
  {
   "cell_type": "code",
   "execution_count": 140,
   "id": "01ba3daa",
   "metadata": {},
   "outputs": [],
   "source": [
    "final_feature_df = pd.read_csv(os.path.join(exper_dir,'final_feature_df.csv'))\n",
    "# final_feature_df = pd.read_csv(os.path.join(exper_dir,'final_feature_df.csv'))\n",
    "# final_feature_df2 = pd.read_csv(os.path.join(exper_dir,'final_feature_df_non_response.csv'))\n",
    "# final_feature_df = pd.concat([final_feature_df,final_feature_df2])"
   ]
  },
  {
   "cell_type": "code",
   "execution_count": 100,
   "id": "139605cd",
   "metadata": {},
   "outputs": [],
   "source": [
    "df_x = final_feature_df[['toxic','anger','fear','joy','love', 'sadness', 'surprise', 'sentiment',\n",
    "       'responsiveness', 'interaction', 'word_first_response', 'merged',\n",
    "       'other_project_pr', 'other_same_language_pr', 'gh_account_duration', 'project_commit', 'project_pr',\n",
    "       'language', 'pr_commit','future_contribution']]\n"
   ]
  },
  {
   "cell_type": "code",
   "execution_count": 141,
   "id": "8e2880b1",
   "metadata": {},
   "outputs": [
    {
     "data": {
      "text/html": [
       "<div>\n",
       "<style scoped>\n",
       "    .dataframe tbody tr th:only-of-type {\n",
       "        vertical-align: middle;\n",
       "    }\n",
       "\n",
       "    .dataframe tbody tr th {\n",
       "        vertical-align: top;\n",
       "    }\n",
       "\n",
       "    .dataframe thead th {\n",
       "        text-align: right;\n",
       "    }\n",
       "</style>\n",
       "<table border=\"1\" class=\"dataframe\">\n",
       "  <thead>\n",
       "    <tr style=\"text-align: right;\">\n",
       "      <th></th>\n",
       "      <th>Unnamed: 0</th>\n",
       "      <th>pull_request_id</th>\n",
       "      <th>comment_id</th>\n",
       "      <th>base_repo_id</th>\n",
       "      <th>pr_author</th>\n",
       "      <th>comment_author</th>\n",
       "      <th>body</th>\n",
       "      <th>created_at</th>\n",
       "      <th>toxic</th>\n",
       "      <th>type</th>\n",
       "      <th>...</th>\n",
       "      <th>u_created_at</th>\n",
       "      <th>gh_account_duration</th>\n",
       "      <th>project_commit</th>\n",
       "      <th>project_pr</th>\n",
       "      <th>language</th>\n",
       "      <th>pr_commit</th>\n",
       "      <th>future_contribution</th>\n",
       "      <th>next_contribution_created_at</th>\n",
       "      <th>duration_next_contribution</th>\n",
       "      <th>duration_until_newest_pr</th>\n",
       "    </tr>\n",
       "  </thead>\n",
       "  <tbody>\n",
       "    <tr>\n",
       "      <th>0</th>\n",
       "      <td>5</td>\n",
       "      <td>1566059</td>\n",
       "      <td>5277842</td>\n",
       "      <td>3137</td>\n",
       "      <td>127448</td>\n",
       "      <td>14531</td>\n",
       "      <td>could you remove extra spaces near 'class=' ?</td>\n",
       "      <td>2013-07-18 18:10:49</td>\n",
       "      <td>0</td>\n",
       "      <td>First-contribution</td>\n",
       "      <td>...</td>\n",
       "      <td>2009-02-19 23:28:39</td>\n",
       "      <td>135536092.0</td>\n",
       "      <td>3055.0</td>\n",
       "      <td>1504.0</td>\n",
       "      <td>JavaScript</td>\n",
       "      <td>5.0</td>\n",
       "      <td>2.0</td>\n",
       "      <td>2013-06-11 21:03:02</td>\n",
       "      <td>362371.0</td>\n",
       "      <td>244449680.0</td>\n",
       "    </tr>\n",
       "    <tr>\n",
       "      <th>1</th>\n",
       "      <td>7</td>\n",
       "      <td>2116265</td>\n",
       "      <td>6502411</td>\n",
       "      <td>4751</td>\n",
       "      <td>1854341</td>\n",
       "      <td>22249</td>\n",
       "      <td>this method always just returns?</td>\n",
       "      <td>2013-09-21 10:21:40</td>\n",
       "      <td>0</td>\n",
       "      <td>First-contribution</td>\n",
       "      <td>...</td>\n",
       "      <td>2013-04-26 08:19:12</td>\n",
       "      <td>12710000.0</td>\n",
       "      <td>12633.0</td>\n",
       "      <td>353.0</td>\n",
       "      <td>Java</td>\n",
       "      <td>4.0</td>\n",
       "      <td>0.0</td>\n",
       "      <td>0</td>\n",
       "      <td>0.0</td>\n",
       "      <td>235397539.0</td>\n",
       "    </tr>\n",
       "    <tr>\n",
       "      <th>2</th>\n",
       "      <td>8</td>\n",
       "      <td>2398219</td>\n",
       "      <td>7467055</td>\n",
       "      <td>1593177</td>\n",
       "      <td>45582</td>\n",
       "      <td>859</td>\n",
       "      <td>shoudln't you return ''unknown error ($code)''...</td>\n",
       "      <td>2013-11-06 14:43:55</td>\n",
       "      <td>0</td>\n",
       "      <td>First-contribution</td>\n",
       "      <td>...</td>\n",
       "      <td>2009-04-25 03:05:40</td>\n",
       "      <td>143119669.0</td>\n",
       "      <td>129.0</td>\n",
       "      <td>91.0</td>\n",
       "      <td>PHP</td>\n",
       "      <td>5.0</td>\n",
       "      <td>0.0</td>\n",
       "      <td>0</td>\n",
       "      <td>0.0</td>\n",
       "      <td>231323482.0</td>\n",
       "    </tr>\n",
       "    <tr>\n",
       "      <th>3</th>\n",
       "      <td>9</td>\n",
       "      <td>2399118</td>\n",
       "      <td>7489525</td>\n",
       "      <td>1920336</td>\n",
       "      <td>2213792</td>\n",
       "      <td>1433320</td>\n",
       "      <td>will the links be added to the api documentati...</td>\n",
       "      <td>2013-11-07 07:22:09</td>\n",
       "      <td>0</td>\n",
       "      <td>First-contribution</td>\n",
       "      <td>...</td>\n",
       "      <td>2013-05-22 10:20:56</td>\n",
       "      <td>14537118.0</td>\n",
       "      <td>1614.0</td>\n",
       "      <td>705.0</td>\n",
       "      <td>Java</td>\n",
       "      <td>2.0</td>\n",
       "      <td>8.0</td>\n",
       "      <td>2013-11-13 15:49:31</td>\n",
       "      <td>602597.0</td>\n",
       "      <td>231316717.0</td>\n",
       "    </tr>\n",
       "    <tr>\n",
       "      <th>4</th>\n",
       "      <td>10</td>\n",
       "      <td>2740864</td>\n",
       "      <td>8720200</td>\n",
       "      <td>3140649</td>\n",
       "      <td>495254</td>\n",
       "      <td>1721717</td>\n",
       "      <td>we should probably try to have similar gpl hea...</td>\n",
       "      <td>2014-01-08 09:41:55</td>\n",
       "      <td>0</td>\n",
       "      <td>First-contribution</td>\n",
       "      <td>...</td>\n",
       "      <td>2011-01-07 06:52:44</td>\n",
       "      <td>94789812.0</td>\n",
       "      <td>95.0</td>\n",
       "      <td>76.0</td>\n",
       "      <td>C++</td>\n",
       "      <td>20.0</td>\n",
       "      <td>6.0</td>\n",
       "      <td>2014-01-28 08:18:18</td>\n",
       "      <td>1724122.0</td>\n",
       "      <td>225898915.0</td>\n",
       "    </tr>\n",
       "    <tr>\n",
       "      <th>...</th>\n",
       "      <td>...</td>\n",
       "      <td>...</td>\n",
       "      <td>...</td>\n",
       "      <td>...</td>\n",
       "      <td>...</td>\n",
       "      <td>...</td>\n",
       "      <td>...</td>\n",
       "      <td>...</td>\n",
       "      <td>...</td>\n",
       "      <td>...</td>\n",
       "      <td>...</td>\n",
       "      <td>...</td>\n",
       "      <td>...</td>\n",
       "      <td>...</td>\n",
       "      <td>...</td>\n",
       "      <td>...</td>\n",
       "      <td>...</td>\n",
       "      <td>...</td>\n",
       "      <td>...</td>\n",
       "      <td>...</td>\n",
       "      <td>...</td>\n",
       "    </tr>\n",
       "    <tr>\n",
       "      <th>71431</th>\n",
       "      <td>72269</td>\n",
       "      <td>122367359</td>\n",
       "      <td>574412546</td>\n",
       "      <td>157406382</td>\n",
       "      <td>49259846</td>\n",
       "      <td>56763017</td>\n",
       "      <td>as soon as you preserve values of power, scale...</td>\n",
       "      <td>2021-02-11 11:01:53</td>\n",
       "      <td>0</td>\n",
       "      <td>First-contribution</td>\n",
       "      <td>...</td>\n",
       "      <td>2012-03-09 00:59:21</td>\n",
       "      <td>281636386.0</td>\n",
       "      <td>11959.0</td>\n",
       "      <td>3115.0</td>\n",
       "      <td>C++</td>\n",
       "      <td>2.0</td>\n",
       "      <td>0.0</td>\n",
       "      <td>0</td>\n",
       "      <td>0.0</td>\n",
       "      <td>2180744.0</td>\n",
       "    </tr>\n",
       "    <tr>\n",
       "      <th>71432</th>\n",
       "      <td>72270</td>\n",
       "      <td>122726361</td>\n",
       "      <td>575635901</td>\n",
       "      <td>634</td>\n",
       "      <td>49831930</td>\n",
       "      <td>190340</td>\n",
       "      <td>'''suggestion * add support for 'x-ses-source-...</td>\n",
       "      <td>2021-02-13 07:48:12</td>\n",
       "      <td>0</td>\n",
       "      <td>First-contribution</td>\n",
       "      <td>...</td>\n",
       "      <td>2010-04-11 15:24:28</td>\n",
       "      <td>342181762.0</td>\n",
       "      <td>39368.0</td>\n",
       "      <td>21946.0</td>\n",
       "      <td>PHP</td>\n",
       "      <td>3.0</td>\n",
       "      <td>1.0</td>\n",
       "      <td>2021-02-14 22:53:04</td>\n",
       "      <td>161954.0</td>\n",
       "      <td>1890661.0</td>\n",
       "    </tr>\n",
       "    <tr>\n",
       "      <th>71433</th>\n",
       "      <td>72271</td>\n",
       "      <td>123408824</td>\n",
       "      <td>579213902</td>\n",
       "      <td>131467158</td>\n",
       "      <td>56618464</td>\n",
       "      <td>37786045</td>\n",
       "      <td>gyeolgug outputvieweseoyi culryeog mungureul w...</td>\n",
       "      <td>2021-02-19 14:13:14</td>\n",
       "      <td>0</td>\n",
       "      <td>First-contribution</td>\n",
       "      <td>...</td>\n",
       "      <td>2019-04-05 10:10:13</td>\n",
       "      <td>59175976.0</td>\n",
       "      <td>2621.0</td>\n",
       "      <td>227.0</td>\n",
       "      <td>Java</td>\n",
       "      <td>67.0</td>\n",
       "      <td>1.0</td>\n",
       "      <td>2021-02-25 10:48:31</td>\n",
       "      <td>615122.0</td>\n",
       "      <td>1436902.0</td>\n",
       "    </tr>\n",
       "    <tr>\n",
       "      <th>71434</th>\n",
       "      <td>72272</td>\n",
       "      <td>124698382</td>\n",
       "      <td>585243631</td>\n",
       "      <td>55664673</td>\n",
       "      <td>63953498</td>\n",
       "      <td>12042841</td>\n",
       "      <td>'''suggestion '''</td>\n",
       "      <td>2021-03-02 04:30:42</td>\n",
       "      <td>0</td>\n",
       "      <td>First-contribution</td>\n",
       "      <td>...</td>\n",
       "      <td>2020-09-18 23:11:06</td>\n",
       "      <td>14163261.0</td>\n",
       "      <td>27895.0</td>\n",
       "      <td>7525.0</td>\n",
       "      <td>C</td>\n",
       "      <td>11.0</td>\n",
       "      <td>0.0</td>\n",
       "      <td>0</td>\n",
       "      <td>0.0</td>\n",
       "      <td>437964.0</td>\n",
       "    </tr>\n",
       "    <tr>\n",
       "      <th>71435</th>\n",
       "      <td>72273</td>\n",
       "      <td>125393394</td>\n",
       "      <td>588904592</td>\n",
       "      <td>84149</td>\n",
       "      <td>1332165</td>\n",
       "      <td>126663</td>\n",
       "      <td>sd_bus_request_name ?</td>\n",
       "      <td>2021-03-06 16:58:38</td>\n",
       "      <td>0</td>\n",
       "      <td>First-contribution</td>\n",
       "      <td>...</td>\n",
       "      <td>2011-01-29 18:38:02</td>\n",
       "      <td>318723294.0</td>\n",
       "      <td>33414.0</td>\n",
       "      <td>9989.0</td>\n",
       "      <td>C</td>\n",
       "      <td>2.0</td>\n",
       "      <td>0.0</td>\n",
       "      <td>0</td>\n",
       "      <td>0.0</td>\n",
       "      <td>22315.0</td>\n",
       "    </tr>\n",
       "  </tbody>\n",
       "</table>\n",
       "<p>71436 rows × 35 columns</p>\n",
       "</div>"
      ],
      "text/plain": [
       "       Unnamed: 0  pull_request_id  comment_id  base_repo_id  pr_author  \\\n",
       "0               5          1566059     5277842          3137     127448   \n",
       "1               7          2116265     6502411          4751    1854341   \n",
       "2               8          2398219     7467055       1593177      45582   \n",
       "3               9          2399118     7489525       1920336    2213792   \n",
       "4              10          2740864     8720200       3140649     495254   \n",
       "...           ...              ...         ...           ...        ...   \n",
       "71431       72269        122367359   574412546     157406382   49259846   \n",
       "71432       72270        122726361   575635901           634   49831930   \n",
       "71433       72271        123408824   579213902     131467158   56618464   \n",
       "71434       72272        124698382   585243631      55664673   63953498   \n",
       "71435       72273        125393394   588904592         84149    1332165   \n",
       "\n",
       "       comment_author                                               body  \\\n",
       "0               14531      could you remove extra spaces near 'class=' ?   \n",
       "1               22249                   this method always just returns?   \n",
       "2                 859  shoudln't you return ''unknown error ($code)''...   \n",
       "3             1433320  will the links be added to the api documentati...   \n",
       "4             1721717  we should probably try to have similar gpl hea...   \n",
       "...               ...                                                ...   \n",
       "71431        56763017  as soon as you preserve values of power, scale...   \n",
       "71432          190340  '''suggestion * add support for 'x-ses-source-...   \n",
       "71433        37786045  gyeolgug outputvieweseoyi culryeog mungureul w...   \n",
       "71434        12042841                                  '''suggestion '''   \n",
       "71435          126663                              sd_bus_request_name ?   \n",
       "\n",
       "                created_at  toxic                type  ...  \\\n",
       "0      2013-07-18 18:10:49      0  First-contribution  ...   \n",
       "1      2013-09-21 10:21:40      0  First-contribution  ...   \n",
       "2      2013-11-06 14:43:55      0  First-contribution  ...   \n",
       "3      2013-11-07 07:22:09      0  First-contribution  ...   \n",
       "4      2014-01-08 09:41:55      0  First-contribution  ...   \n",
       "...                    ...    ...                 ...  ...   \n",
       "71431  2021-02-11 11:01:53      0  First-contribution  ...   \n",
       "71432  2021-02-13 07:48:12      0  First-contribution  ...   \n",
       "71433  2021-02-19 14:13:14      0  First-contribution  ...   \n",
       "71434  2021-03-02 04:30:42      0  First-contribution  ...   \n",
       "71435  2021-03-06 16:58:38      0  First-contribution  ...   \n",
       "\n",
       "              u_created_at gh_account_duration project_commit project_pr  \\\n",
       "0      2009-02-19 23:28:39         135536092.0         3055.0     1504.0   \n",
       "1      2013-04-26 08:19:12          12710000.0        12633.0      353.0   \n",
       "2      2009-04-25 03:05:40         143119669.0          129.0       91.0   \n",
       "3      2013-05-22 10:20:56          14537118.0         1614.0      705.0   \n",
       "4      2011-01-07 06:52:44          94789812.0           95.0       76.0   \n",
       "...                    ...                 ...            ...        ...   \n",
       "71431  2012-03-09 00:59:21         281636386.0        11959.0     3115.0   \n",
       "71432  2010-04-11 15:24:28         342181762.0        39368.0    21946.0   \n",
       "71433  2019-04-05 10:10:13          59175976.0         2621.0      227.0   \n",
       "71434  2020-09-18 23:11:06          14163261.0        27895.0     7525.0   \n",
       "71435  2011-01-29 18:38:02         318723294.0        33414.0     9989.0   \n",
       "\n",
       "         language pr_commit future_contribution  next_contribution_created_at  \\\n",
       "0      JavaScript       5.0                 2.0           2013-06-11 21:03:02   \n",
       "1            Java       4.0                 0.0                             0   \n",
       "2             PHP       5.0                 0.0                             0   \n",
       "3            Java       2.0                 8.0           2013-11-13 15:49:31   \n",
       "4             C++      20.0                 6.0           2014-01-28 08:18:18   \n",
       "...           ...       ...                 ...                           ...   \n",
       "71431         C++       2.0                 0.0                             0   \n",
       "71432         PHP       3.0                 1.0           2021-02-14 22:53:04   \n",
       "71433        Java      67.0                 1.0           2021-02-25 10:48:31   \n",
       "71434           C      11.0                 0.0                             0   \n",
       "71435           C       2.0                 0.0                             0   \n",
       "\n",
       "       duration_next_contribution  duration_until_newest_pr  \n",
       "0                        362371.0               244449680.0  \n",
       "1                             0.0               235397539.0  \n",
       "2                             0.0               231323482.0  \n",
       "3                        602597.0               231316717.0  \n",
       "4                       1724122.0               225898915.0  \n",
       "...                           ...                       ...  \n",
       "71431                         0.0                 2180744.0  \n",
       "71432                    161954.0                 1890661.0  \n",
       "71433                    615122.0                 1436902.0  \n",
       "71434                         0.0                  437964.0  \n",
       "71435                         0.0                   22315.0  \n",
       "\n",
       "[71436 rows x 35 columns]"
      ]
     },
     "execution_count": 141,
     "metadata": {},
     "output_type": "execute_result"
    }
   ],
   "source": [
    "final_feature_df"
   ]
  },
  {
   "cell_type": "code",
   "execution_count": 101,
   "id": "6235cd77",
   "metadata": {},
   "outputs": [
    {
     "name": "stderr",
     "output_type": "stream",
     "text": [
      "<ipython-input-101-bbc4a6a9c8c1>:3: SettingWithCopyWarning: \n",
      "A value is trying to be set on a copy of a slice from a DataFrame.\n",
      "Try using .loc[row_indexer,col_indexer] = value instead\n",
      "\n",
      "See the caveats in the documentation: https://pandas.pydata.org/pandas-docs/stable/user_guide/indexing.html#returning-a-view-versus-a-copy\n",
      "  df_x[e] = df_x[e].map(lambda x: 1 if x=='YES' else 0)\n"
     ]
    }
   ],
   "source": [
    "emotion = ['anger','fear','joy','love', 'sadness','surprise']\n",
    "for e in emotion:\n",
    "    df_x[e] = df_x[e].map(lambda x: 1 if x=='YES' else 0)"
   ]
  },
  {
   "cell_type": "code",
   "execution_count": 102,
   "id": "70c40c8a",
   "metadata": {},
   "outputs": [
    {
     "name": "stderr",
     "output_type": "stream",
     "text": [
      "<ipython-input-102-44868a44a27f>:1: SettingWithCopyWarning: \n",
      "A value is trying to be set on a copy of a slice from a DataFrame.\n",
      "Try using .loc[row_indexer,col_indexer] = value instead\n",
      "\n",
      "See the caveats in the documentation: https://pandas.pydata.org/pandas-docs/stable/user_guide/indexing.html#returning-a-view-versus-a-copy\n",
      "  df_x['merged'] = df_x['merged'].map(lambda x: 1 if x else 0)\n"
     ]
    }
   ],
   "source": [
    "df_x['merged'] = df_x['merged'].map(lambda x: 1 if x else 0)"
   ]
  },
  {
   "cell_type": "code",
   "execution_count": 103,
   "id": "1a966575",
   "metadata": {},
   "outputs": [
    {
     "name": "stderr",
     "output_type": "stream",
     "text": [
      "<ipython-input-103-6e84456120e5>:1: SettingWithCopyWarning: \n",
      "A value is trying to be set on a copy of a slice from a DataFrame.\n",
      "Try using .loc[row_indexer,col_indexer] = value instead\n",
      "\n",
      "See the caveats in the documentation: https://pandas.pydata.org/pandas-docs/stable/user_guide/indexing.html#returning-a-view-versus-a-copy\n",
      "  df_x['future_contribution'] = df_x['future_contribution'].map(lambda x: 1 if x>0 else 0)\n"
     ]
    }
   ],
   "source": [
    "df_x['future_contribution'] = df_x['future_contribution'].map(lambda x: 1 if x>0 else 0)"
   ]
  },
  {
   "cell_type": "code",
   "execution_count": 104,
   "id": "41af3e8d",
   "metadata": {},
   "outputs": [],
   "source": [
    "# from sklearn.preprocessing import OneHotEncoder\n",
    "# df_x = df_x.reset_index().drop(columns=['index'])\n",
    "# enc = OneHotEncoder(handle_unknown='ignore')\n",
    "# enc_df = pd.DataFrame(enc.fit_transform(df_x[['language']]).toarray())\n",
    "# df_x = df_x.join(enc_df)"
   ]
  },
  {
   "cell_type": "code",
   "execution_count": 105,
   "id": "a0bde2f7",
   "metadata": {},
   "outputs": [],
   "source": [
    "programming_langauge = df_x['language'].unique()\n",
    "programming_langauge_df = pd.DataFrame(programming_langauge, columns=['language'])\n",
    "dum_df = pd.get_dummies(programming_langauge_df, columns=[\"language\"], prefix=[\"language\"] )\n",
    "programming_langauge_df = programming_langauge_df.join(dum_df)\n",
    "df_x = pd.merge(df_x, programming_langauge_df, how='inner', on='language')\n",
    "df_x.drop(columns=['language'],inplace=True)"
   ]
  },
  {
   "cell_type": "code",
   "execution_count": 106,
   "id": "ffb61a00",
   "metadata": {},
   "outputs": [],
   "source": [
    "df_y = list(df_x['future_contribution'])\n",
    "df_x.drop(columns=['future_contribution'],inplace=True)"
   ]
  },
  {
   "cell_type": "markdown",
   "id": "f005e1e0",
   "metadata": {},
   "source": [
    "## train and test"
   ]
  },
  {
   "cell_type": "code",
   "execution_count": 223,
   "id": "0e57eddb",
   "metadata": {},
   "outputs": [],
   "source": [
    "# import autosklearn.classification\n",
    "# import sklearn.model_selection\n",
    "# import sklearn.datasets\n",
    "# import sklearn.metrics\n",
    "\n",
    "# if __name__ == \"__main__\":\n",
    "#     X, y = sklearn.datasets.load_digits(return_X_y=True)\n",
    "#     X_train, X_test, y_train, y_test = \\\n",
    "#         sklearn.model_selection.train_test_split(df_x, df_y, random_state=1)\n",
    "#     automl = autosklearn.classification.AutoSklearnClassifier(time_left_for_this_task=60*60,n_jobs=40,memory_limit=150*1024)\n",
    "#     automl.fit(X_train, y_train)\n",
    "#     y_hat = automl.predict(X_test)\n",
    "#     print(\"AUROC score\", sklearn.metrics.roc_auc_score(y_test, automl.predict_proba(X_test)[:,1]))"
   ]
  },
  {
   "cell_type": "code",
   "execution_count": 224,
   "id": "3a5b26a2",
   "metadata": {},
   "outputs": [],
   "source": [
    "from sklearn.linear_model import LogisticRegression\n",
    "from sklearn.ensemble import RandomForestClassifier\n",
    "from sklearn import svm\n",
    "from sklearn.model_selection import cross_val_score\n"
   ]
  },
  {
   "cell_type": "code",
   "execution_count": 214,
   "id": "6d4e0bd2",
   "metadata": {},
   "outputs": [
    {
     "data": {
      "text/plain": [
       "gh_account_duration      -0.084\n",
       "project_pr               -0.053\n",
       "language_Ruby            -0.052\n",
       "language_JavaScript      -0.035\n",
       "project_commit           -0.011\n",
       "language_PHP             -0.010\n",
       "sentiment                -0.002\n",
       "love                     -0.001\n",
       "responsiveness            0.000\n",
       "toxic                     0.003\n",
       "sadness                   0.005\n",
       "anger                     0.005\n",
       "joy                       0.007\n",
       "fear                      0.010\n",
       "language_C                0.013\n",
       "surprise                  0.018\n",
       "language_Python           0.020\n",
       "other_project_pr          0.020\n",
       "pr_commit                 0.023\n",
       "other_same_language_pr    0.023\n",
       "word_first_response       0.029\n",
       "language_C++              0.029\n",
       "language_Java             0.038\n",
       "merged                    0.049\n",
       "interaction               0.050\n",
       "future_contribution       1.000\n",
       "Name: future_contribution, dtype: float64"
      ]
     },
     "execution_count": 214,
     "metadata": {},
     "output_type": "execute_result"
    }
   ],
   "source": [
    "df_x.corr()['future_contribution'].sort_values().round(3)"
   ]
  },
  {
   "cell_type": "code",
   "execution_count": 225,
   "id": "0d9bff63",
   "metadata": {},
   "outputs": [
    {
     "data": {
      "text/plain": [
       "language_Ruby            -0.102\n",
       "gh_account_duration      -0.079\n",
       "project_pr               -0.065\n",
       "language_PHP             -0.026\n",
       "responsiveness           -0.016\n",
       "love                     -0.014\n",
       "word_first_response      -0.012\n",
       "project_commit           -0.008\n",
       "joy                      -0.007\n",
       "sentiment                -0.005\n",
       "language_JavaScript      -0.004\n",
       "sadness                  -0.003\n",
       "fear                     -0.000\n",
       "anger                     0.002\n",
       "toxic                     0.002\n",
       "language_C                0.009\n",
       "surprise                  0.009\n",
       "language_Python           0.012\n",
       "other_project_pr          0.017\n",
       "other_same_language_pr    0.022\n",
       "language_C++              0.049\n",
       "language_Java             0.049\n",
       "pr_commit                 0.070\n",
       "merged                    0.071\n",
       "interaction               0.082\n",
       "future_contribution       1.000\n",
       "Name: future_contribution, dtype: float64"
      ]
     },
     "execution_count": 225,
     "metadata": {},
     "output_type": "execute_result"
    }
   ],
   "source": [
    "df_x.corr()['future_contribution'].sort_values().round(3)"
   ]
  },
  {
   "cell_type": "code",
   "execution_count": 188,
   "id": "deaf18c0",
   "metadata": {},
   "outputs": [],
   "source": [
    "# from sklearn.feature_selection import SelectKBest\n",
    "# from sklearn.feature_selection import mutual_info_classif\n",
    "\n",
    "# df_x_new = SelectKBest(mutual_info_classif, k=5).fit_transform(df_x, df_y)\n"
   ]
  },
  {
   "cell_type": "code",
   "execution_count": 189,
   "id": "87623982",
   "metadata": {},
   "outputs": [
    {
     "name": "stderr",
     "output_type": "stream",
     "text": [
      "/home/noppadol-a/anaconda3/lib/python3.8/site-packages/sklearn/model_selection/_validation.py:610: FitFailedWarning: Estimator fit failed. The score on this train-test partition for these parameters will be set to nan. Details: \n",
      "Traceback (most recent call last):\n",
      "  File \"/home/noppadol-a/anaconda3/lib/python3.8/site-packages/sklearn/model_selection/_validation.py\", line 593, in _fit_and_score\n",
      "    estimator.fit(X_train, y_train, **fit_params)\n",
      "  File \"/home/noppadol-a/anaconda3/lib/python3.8/site-packages/sklearn/linear_model/_logistic.py\", line 1344, in fit\n",
      "    X, y = self._validate_data(X, y, accept_sparse='csr', dtype=_dtype,\n",
      "  File \"/home/noppadol-a/anaconda3/lib/python3.8/site-packages/sklearn/base.py\", line 433, in _validate_data\n",
      "    X, y = check_X_y(X, y, **check_params)\n",
      "  File \"/home/noppadol-a/anaconda3/lib/python3.8/site-packages/sklearn/utils/validation.py\", line 63, in inner_f\n",
      "    return f(*args, **kwargs)\n",
      "  File \"/home/noppadol-a/anaconda3/lib/python3.8/site-packages/sklearn/utils/validation.py\", line 814, in check_X_y\n",
      "    X = check_array(X, accept_sparse=accept_sparse,\n",
      "  File \"/home/noppadol-a/anaconda3/lib/python3.8/site-packages/sklearn/utils/validation.py\", line 63, in inner_f\n",
      "    return f(*args, **kwargs)\n",
      "  File \"/home/noppadol-a/anaconda3/lib/python3.8/site-packages/sklearn/utils/validation.py\", line 663, in check_array\n",
      "    _assert_all_finite(array,\n",
      "  File \"/home/noppadol-a/anaconda3/lib/python3.8/site-packages/sklearn/utils/validation.py\", line 103, in _assert_all_finite\n",
      "    raise ValueError(\n",
      "ValueError: Input contains NaN, infinity or a value too large for dtype('float64').\n",
      "\n",
      "  warnings.warn(\"Estimator fit failed. The score on this train-test\"\n",
      "/home/noppadol-a/anaconda3/lib/python3.8/site-packages/sklearn/model_selection/_validation.py:610: FitFailedWarning: Estimator fit failed. The score on this train-test partition for these parameters will be set to nan. Details: \n",
      "Traceback (most recent call last):\n",
      "  File \"/home/noppadol-a/anaconda3/lib/python3.8/site-packages/sklearn/model_selection/_validation.py\", line 593, in _fit_and_score\n",
      "    estimator.fit(X_train, y_train, **fit_params)\n",
      "  File \"/home/noppadol-a/anaconda3/lib/python3.8/site-packages/sklearn/linear_model/_logistic.py\", line 1344, in fit\n",
      "    X, y = self._validate_data(X, y, accept_sparse='csr', dtype=_dtype,\n",
      "  File \"/home/noppadol-a/anaconda3/lib/python3.8/site-packages/sklearn/base.py\", line 433, in _validate_data\n",
      "    X, y = check_X_y(X, y, **check_params)\n",
      "  File \"/home/noppadol-a/anaconda3/lib/python3.8/site-packages/sklearn/utils/validation.py\", line 63, in inner_f\n",
      "    return f(*args, **kwargs)\n",
      "  File \"/home/noppadol-a/anaconda3/lib/python3.8/site-packages/sklearn/utils/validation.py\", line 814, in check_X_y\n",
      "    X = check_array(X, accept_sparse=accept_sparse,\n",
      "  File \"/home/noppadol-a/anaconda3/lib/python3.8/site-packages/sklearn/utils/validation.py\", line 63, in inner_f\n",
      "    return f(*args, **kwargs)\n",
      "  File \"/home/noppadol-a/anaconda3/lib/python3.8/site-packages/sklearn/utils/validation.py\", line 663, in check_array\n",
      "    _assert_all_finite(array,\n",
      "  File \"/home/noppadol-a/anaconda3/lib/python3.8/site-packages/sklearn/utils/validation.py\", line 103, in _assert_all_finite\n",
      "    raise ValueError(\n",
      "ValueError: Input contains NaN, infinity or a value too large for dtype('float64').\n",
      "\n",
      "  warnings.warn(\"Estimator fit failed. The score on this train-test\"\n",
      "/home/noppadol-a/anaconda3/lib/python3.8/site-packages/sklearn/model_selection/_validation.py:610: FitFailedWarning: Estimator fit failed. The score on this train-test partition for these parameters will be set to nan. Details: \n",
      "Traceback (most recent call last):\n",
      "  File \"/home/noppadol-a/anaconda3/lib/python3.8/site-packages/sklearn/model_selection/_validation.py\", line 593, in _fit_and_score\n",
      "    estimator.fit(X_train, y_train, **fit_params)\n",
      "  File \"/home/noppadol-a/anaconda3/lib/python3.8/site-packages/sklearn/linear_model/_logistic.py\", line 1344, in fit\n",
      "    X, y = self._validate_data(X, y, accept_sparse='csr', dtype=_dtype,\n",
      "  File \"/home/noppadol-a/anaconda3/lib/python3.8/site-packages/sklearn/base.py\", line 433, in _validate_data\n",
      "    X, y = check_X_y(X, y, **check_params)\n",
      "  File \"/home/noppadol-a/anaconda3/lib/python3.8/site-packages/sklearn/utils/validation.py\", line 63, in inner_f\n",
      "    return f(*args, **kwargs)\n",
      "  File \"/home/noppadol-a/anaconda3/lib/python3.8/site-packages/sklearn/utils/validation.py\", line 814, in check_X_y\n",
      "    X = check_array(X, accept_sparse=accept_sparse,\n",
      "  File \"/home/noppadol-a/anaconda3/lib/python3.8/site-packages/sklearn/utils/validation.py\", line 63, in inner_f\n",
      "    return f(*args, **kwargs)\n",
      "  File \"/home/noppadol-a/anaconda3/lib/python3.8/site-packages/sklearn/utils/validation.py\", line 663, in check_array\n",
      "    _assert_all_finite(array,\n",
      "  File \"/home/noppadol-a/anaconda3/lib/python3.8/site-packages/sklearn/utils/validation.py\", line 103, in _assert_all_finite\n",
      "    raise ValueError(\n",
      "ValueError: Input contains NaN, infinity or a value too large for dtype('float64').\n",
      "\n",
      "  warnings.warn(\"Estimator fit failed. The score on this train-test\"\n",
      "/home/noppadol-a/anaconda3/lib/python3.8/site-packages/sklearn/model_selection/_validation.py:610: FitFailedWarning: Estimator fit failed. The score on this train-test partition for these parameters will be set to nan. Details: \n",
      "Traceback (most recent call last):\n",
      "  File \"/home/noppadol-a/anaconda3/lib/python3.8/site-packages/sklearn/model_selection/_validation.py\", line 593, in _fit_and_score\n",
      "    estimator.fit(X_train, y_train, **fit_params)\n",
      "  File \"/home/noppadol-a/anaconda3/lib/python3.8/site-packages/sklearn/linear_model/_logistic.py\", line 1344, in fit\n",
      "    X, y = self._validate_data(X, y, accept_sparse='csr', dtype=_dtype,\n",
      "  File \"/home/noppadol-a/anaconda3/lib/python3.8/site-packages/sklearn/base.py\", line 433, in _validate_data\n",
      "    X, y = check_X_y(X, y, **check_params)\n",
      "  File \"/home/noppadol-a/anaconda3/lib/python3.8/site-packages/sklearn/utils/validation.py\", line 63, in inner_f\n",
      "    return f(*args, **kwargs)\n",
      "  File \"/home/noppadol-a/anaconda3/lib/python3.8/site-packages/sklearn/utils/validation.py\", line 814, in check_X_y\n",
      "    X = check_array(X, accept_sparse=accept_sparse,\n",
      "  File \"/home/noppadol-a/anaconda3/lib/python3.8/site-packages/sklearn/utils/validation.py\", line 63, in inner_f\n",
      "    return f(*args, **kwargs)\n",
      "  File \"/home/noppadol-a/anaconda3/lib/python3.8/site-packages/sklearn/utils/validation.py\", line 663, in check_array\n",
      "    _assert_all_finite(array,\n",
      "  File \"/home/noppadol-a/anaconda3/lib/python3.8/site-packages/sklearn/utils/validation.py\", line 103, in _assert_all_finite\n",
      "    raise ValueError(\n",
      "ValueError: Input contains NaN, infinity or a value too large for dtype('float64').\n",
      "\n",
      "  warnings.warn(\"Estimator fit failed. The score on this train-test\"\n",
      "/home/noppadol-a/anaconda3/lib/python3.8/site-packages/sklearn/model_selection/_validation.py:610: FitFailedWarning: Estimator fit failed. The score on this train-test partition for these parameters will be set to nan. Details: \n",
      "Traceback (most recent call last):\n",
      "  File \"/home/noppadol-a/anaconda3/lib/python3.8/site-packages/sklearn/model_selection/_validation.py\", line 593, in _fit_and_score\n",
      "    estimator.fit(X_train, y_train, **fit_params)\n",
      "  File \"/home/noppadol-a/anaconda3/lib/python3.8/site-packages/sklearn/linear_model/_logistic.py\", line 1344, in fit\n",
      "    X, y = self._validate_data(X, y, accept_sparse='csr', dtype=_dtype,\n",
      "  File \"/home/noppadol-a/anaconda3/lib/python3.8/site-packages/sklearn/base.py\", line 433, in _validate_data\n",
      "    X, y = check_X_y(X, y, **check_params)\n",
      "  File \"/home/noppadol-a/anaconda3/lib/python3.8/site-packages/sklearn/utils/validation.py\", line 63, in inner_f\n",
      "    return f(*args, **kwargs)\n",
      "  File \"/home/noppadol-a/anaconda3/lib/python3.8/site-packages/sklearn/utils/validation.py\", line 814, in check_X_y\n",
      "    X = check_array(X, accept_sparse=accept_sparse,\n",
      "  File \"/home/noppadol-a/anaconda3/lib/python3.8/site-packages/sklearn/utils/validation.py\", line 63, in inner_f\n",
      "    return f(*args, **kwargs)\n",
      "  File \"/home/noppadol-a/anaconda3/lib/python3.8/site-packages/sklearn/utils/validation.py\", line 663, in check_array\n",
      "    _assert_all_finite(array,\n",
      "  File \"/home/noppadol-a/anaconda3/lib/python3.8/site-packages/sklearn/utils/validation.py\", line 103, in _assert_all_finite\n",
      "    raise ValueError(\n",
      "ValueError: Input contains NaN, infinity or a value too large for dtype('float64').\n",
      "\n",
      "  warnings.warn(\"Estimator fit failed. The score on this train-test\"\n",
      "/home/noppadol-a/anaconda3/lib/python3.8/site-packages/sklearn/model_selection/_validation.py:610: FitFailedWarning: Estimator fit failed. The score on this train-test partition for these parameters will be set to nan. Details: \n",
      "Traceback (most recent call last):\n",
      "  File \"/home/noppadol-a/anaconda3/lib/python3.8/site-packages/sklearn/model_selection/_validation.py\", line 593, in _fit_and_score\n",
      "    estimator.fit(X_train, y_train, **fit_params)\n",
      "  File \"/home/noppadol-a/anaconda3/lib/python3.8/site-packages/sklearn/linear_model/_logistic.py\", line 1344, in fit\n",
      "    X, y = self._validate_data(X, y, accept_sparse='csr', dtype=_dtype,\n",
      "  File \"/home/noppadol-a/anaconda3/lib/python3.8/site-packages/sklearn/base.py\", line 433, in _validate_data\n",
      "    X, y = check_X_y(X, y, **check_params)\n",
      "  File \"/home/noppadol-a/anaconda3/lib/python3.8/site-packages/sklearn/utils/validation.py\", line 63, in inner_f\n",
      "    return f(*args, **kwargs)\n",
      "  File \"/home/noppadol-a/anaconda3/lib/python3.8/site-packages/sklearn/utils/validation.py\", line 814, in check_X_y\n",
      "    X = check_array(X, accept_sparse=accept_sparse,\n",
      "  File \"/home/noppadol-a/anaconda3/lib/python3.8/site-packages/sklearn/utils/validation.py\", line 63, in inner_f\n",
      "    return f(*args, **kwargs)\n",
      "  File \"/home/noppadol-a/anaconda3/lib/python3.8/site-packages/sklearn/utils/validation.py\", line 663, in check_array\n",
      "    _assert_all_finite(array,\n",
      "  File \"/home/noppadol-a/anaconda3/lib/python3.8/site-packages/sklearn/utils/validation.py\", line 103, in _assert_all_finite\n",
      "    raise ValueError(\n",
      "ValueError: Input contains NaN, infinity or a value too large for dtype('float64').\n",
      "\n",
      "  warnings.warn(\"Estimator fit failed. The score on this train-test\"\n"
     ]
    },
    {
     "name": "stderr",
     "output_type": "stream",
     "text": [
      "/home/noppadol-a/anaconda3/lib/python3.8/site-packages/sklearn/model_selection/_validation.py:610: FitFailedWarning: Estimator fit failed. The score on this train-test partition for these parameters will be set to nan. Details: \n",
      "Traceback (most recent call last):\n",
      "  File \"/home/noppadol-a/anaconda3/lib/python3.8/site-packages/sklearn/model_selection/_validation.py\", line 593, in _fit_and_score\n",
      "    estimator.fit(X_train, y_train, **fit_params)\n",
      "  File \"/home/noppadol-a/anaconda3/lib/python3.8/site-packages/sklearn/linear_model/_logistic.py\", line 1344, in fit\n",
      "    X, y = self._validate_data(X, y, accept_sparse='csr', dtype=_dtype,\n",
      "  File \"/home/noppadol-a/anaconda3/lib/python3.8/site-packages/sklearn/base.py\", line 433, in _validate_data\n",
      "    X, y = check_X_y(X, y, **check_params)\n",
      "  File \"/home/noppadol-a/anaconda3/lib/python3.8/site-packages/sklearn/utils/validation.py\", line 63, in inner_f\n",
      "    return f(*args, **kwargs)\n",
      "  File \"/home/noppadol-a/anaconda3/lib/python3.8/site-packages/sklearn/utils/validation.py\", line 814, in check_X_y\n",
      "    X = check_array(X, accept_sparse=accept_sparse,\n",
      "  File \"/home/noppadol-a/anaconda3/lib/python3.8/site-packages/sklearn/utils/validation.py\", line 63, in inner_f\n",
      "    return f(*args, **kwargs)\n",
      "  File \"/home/noppadol-a/anaconda3/lib/python3.8/site-packages/sklearn/utils/validation.py\", line 663, in check_array\n",
      "    _assert_all_finite(array,\n",
      "  File \"/home/noppadol-a/anaconda3/lib/python3.8/site-packages/sklearn/utils/validation.py\", line 103, in _assert_all_finite\n",
      "    raise ValueError(\n",
      "ValueError: Input contains NaN, infinity or a value too large for dtype('float64').\n",
      "\n",
      "  warnings.warn(\"Estimator fit failed. The score on this train-test\"\n",
      "/home/noppadol-a/anaconda3/lib/python3.8/site-packages/sklearn/model_selection/_validation.py:610: FitFailedWarning: Estimator fit failed. The score on this train-test partition for these parameters will be set to nan. Details: \n",
      "Traceback (most recent call last):\n",
      "  File \"/home/noppadol-a/anaconda3/lib/python3.8/site-packages/sklearn/model_selection/_validation.py\", line 593, in _fit_and_score\n",
      "    estimator.fit(X_train, y_train, **fit_params)\n",
      "  File \"/home/noppadol-a/anaconda3/lib/python3.8/site-packages/sklearn/linear_model/_logistic.py\", line 1344, in fit\n",
      "    X, y = self._validate_data(X, y, accept_sparse='csr', dtype=_dtype,\n",
      "  File \"/home/noppadol-a/anaconda3/lib/python3.8/site-packages/sklearn/base.py\", line 433, in _validate_data\n",
      "    X, y = check_X_y(X, y, **check_params)\n",
      "  File \"/home/noppadol-a/anaconda3/lib/python3.8/site-packages/sklearn/utils/validation.py\", line 63, in inner_f\n",
      "    return f(*args, **kwargs)\n",
      "  File \"/home/noppadol-a/anaconda3/lib/python3.8/site-packages/sklearn/utils/validation.py\", line 814, in check_X_y\n",
      "    X = check_array(X, accept_sparse=accept_sparse,\n",
      "  File \"/home/noppadol-a/anaconda3/lib/python3.8/site-packages/sklearn/utils/validation.py\", line 63, in inner_f\n",
      "    return f(*args, **kwargs)\n",
      "  File \"/home/noppadol-a/anaconda3/lib/python3.8/site-packages/sklearn/utils/validation.py\", line 663, in check_array\n",
      "    _assert_all_finite(array,\n",
      "  File \"/home/noppadol-a/anaconda3/lib/python3.8/site-packages/sklearn/utils/validation.py\", line 103, in _assert_all_finite\n",
      "    raise ValueError(\n",
      "ValueError: Input contains NaN, infinity or a value too large for dtype('float64').\n",
      "\n",
      "  warnings.warn(\"Estimator fit failed. The score on this train-test\"\n",
      "/home/noppadol-a/anaconda3/lib/python3.8/site-packages/sklearn/model_selection/_validation.py:610: FitFailedWarning: Estimator fit failed. The score on this train-test partition for these parameters will be set to nan. Details: \n",
      "Traceback (most recent call last):\n",
      "  File \"/home/noppadol-a/anaconda3/lib/python3.8/site-packages/sklearn/model_selection/_validation.py\", line 593, in _fit_and_score\n",
      "    estimator.fit(X_train, y_train, **fit_params)\n",
      "  File \"/home/noppadol-a/anaconda3/lib/python3.8/site-packages/sklearn/linear_model/_logistic.py\", line 1344, in fit\n",
      "    X, y = self._validate_data(X, y, accept_sparse='csr', dtype=_dtype,\n",
      "  File \"/home/noppadol-a/anaconda3/lib/python3.8/site-packages/sklearn/base.py\", line 433, in _validate_data\n",
      "    X, y = check_X_y(X, y, **check_params)\n",
      "  File \"/home/noppadol-a/anaconda3/lib/python3.8/site-packages/sklearn/utils/validation.py\", line 63, in inner_f\n",
      "    return f(*args, **kwargs)\n",
      "  File \"/home/noppadol-a/anaconda3/lib/python3.8/site-packages/sklearn/utils/validation.py\", line 814, in check_X_y\n",
      "    X = check_array(X, accept_sparse=accept_sparse,\n",
      "  File \"/home/noppadol-a/anaconda3/lib/python3.8/site-packages/sklearn/utils/validation.py\", line 63, in inner_f\n",
      "    return f(*args, **kwargs)\n",
      "  File \"/home/noppadol-a/anaconda3/lib/python3.8/site-packages/sklearn/utils/validation.py\", line 663, in check_array\n",
      "    _assert_all_finite(array,\n",
      "  File \"/home/noppadol-a/anaconda3/lib/python3.8/site-packages/sklearn/utils/validation.py\", line 103, in _assert_all_finite\n",
      "    raise ValueError(\n",
      "ValueError: Input contains NaN, infinity or a value too large for dtype('float64').\n",
      "\n",
      "  warnings.warn(\"Estimator fit failed. The score on this train-test\"\n",
      "/home/noppadol-a/anaconda3/lib/python3.8/site-packages/sklearn/model_selection/_validation.py:610: FitFailedWarning: Estimator fit failed. The score on this train-test partition for these parameters will be set to nan. Details: \n",
      "Traceback (most recent call last):\n",
      "  File \"/home/noppadol-a/anaconda3/lib/python3.8/site-packages/sklearn/model_selection/_validation.py\", line 593, in _fit_and_score\n",
      "    estimator.fit(X_train, y_train, **fit_params)\n",
      "  File \"/home/noppadol-a/anaconda3/lib/python3.8/site-packages/sklearn/linear_model/_logistic.py\", line 1344, in fit\n",
      "    X, y = self._validate_data(X, y, accept_sparse='csr', dtype=_dtype,\n",
      "  File \"/home/noppadol-a/anaconda3/lib/python3.8/site-packages/sklearn/base.py\", line 433, in _validate_data\n",
      "    X, y = check_X_y(X, y, **check_params)\n",
      "  File \"/home/noppadol-a/anaconda3/lib/python3.8/site-packages/sklearn/utils/validation.py\", line 63, in inner_f\n",
      "    return f(*args, **kwargs)\n",
      "  File \"/home/noppadol-a/anaconda3/lib/python3.8/site-packages/sklearn/utils/validation.py\", line 814, in check_X_y\n",
      "    X = check_array(X, accept_sparse=accept_sparse,\n",
      "  File \"/home/noppadol-a/anaconda3/lib/python3.8/site-packages/sklearn/utils/validation.py\", line 63, in inner_f\n",
      "    return f(*args, **kwargs)\n",
      "  File \"/home/noppadol-a/anaconda3/lib/python3.8/site-packages/sklearn/utils/validation.py\", line 663, in check_array\n",
      "    _assert_all_finite(array,\n",
      "  File \"/home/noppadol-a/anaconda3/lib/python3.8/site-packages/sklearn/utils/validation.py\", line 103, in _assert_all_finite\n",
      "    raise ValueError(\n",
      "ValueError: Input contains NaN, infinity or a value too large for dtype('float64').\n",
      "\n",
      "  warnings.warn(\"Estimator fit failed. The score on this train-test\"\n",
      "/home/noppadol-a/anaconda3/lib/python3.8/site-packages/sklearn/model_selection/_validation.py:610: FitFailedWarning: Estimator fit failed. The score on this train-test partition for these parameters will be set to nan. Details: \n",
      "Traceback (most recent call last):\n",
      "  File \"/home/noppadol-a/anaconda3/lib/python3.8/site-packages/sklearn/model_selection/_validation.py\", line 593, in _fit_and_score\n",
      "    estimator.fit(X_train, y_train, **fit_params)\n",
      "  File \"/home/noppadol-a/anaconda3/lib/python3.8/site-packages/sklearn/ensemble/_forest.py\", line 304, in fit\n",
      "    X, y = self._validate_data(X, y, multi_output=True,\n",
      "  File \"/home/noppadol-a/anaconda3/lib/python3.8/site-packages/sklearn/base.py\", line 433, in _validate_data\n",
      "    X, y = check_X_y(X, y, **check_params)\n",
      "  File \"/home/noppadol-a/anaconda3/lib/python3.8/site-packages/sklearn/utils/validation.py\", line 63, in inner_f\n",
      "    return f(*args, **kwargs)\n",
      "  File \"/home/noppadol-a/anaconda3/lib/python3.8/site-packages/sklearn/utils/validation.py\", line 814, in check_X_y\n",
      "    X = check_array(X, accept_sparse=accept_sparse,\n",
      "  File \"/home/noppadol-a/anaconda3/lib/python3.8/site-packages/sklearn/utils/validation.py\", line 63, in inner_f\n",
      "    return f(*args, **kwargs)\n",
      "  File \"/home/noppadol-a/anaconda3/lib/python3.8/site-packages/sklearn/utils/validation.py\", line 663, in check_array\n",
      "    _assert_all_finite(array,\n",
      "  File \"/home/noppadol-a/anaconda3/lib/python3.8/site-packages/sklearn/utils/validation.py\", line 103, in _assert_all_finite\n",
      "    raise ValueError(\n",
      "ValueError: Input contains NaN, infinity or a value too large for dtype('float32').\n",
      "\n",
      "  warnings.warn(\"Estimator fit failed. The score on this train-test\"\n",
      "/home/noppadol-a/anaconda3/lib/python3.8/site-packages/sklearn/model_selection/_validation.py:610: FitFailedWarning: Estimator fit failed. The score on this train-test partition for these parameters will be set to nan. Details: \n",
      "Traceback (most recent call last):\n",
      "  File \"/home/noppadol-a/anaconda3/lib/python3.8/site-packages/sklearn/model_selection/_validation.py\", line 593, in _fit_and_score\n",
      "    estimator.fit(X_train, y_train, **fit_params)\n",
      "  File \"/home/noppadol-a/anaconda3/lib/python3.8/site-packages/sklearn/ensemble/_forest.py\", line 304, in fit\n",
      "    X, y = self._validate_data(X, y, multi_output=True,\n",
      "  File \"/home/noppadol-a/anaconda3/lib/python3.8/site-packages/sklearn/base.py\", line 433, in _validate_data\n",
      "    X, y = check_X_y(X, y, **check_params)\n",
      "  File \"/home/noppadol-a/anaconda3/lib/python3.8/site-packages/sklearn/utils/validation.py\", line 63, in inner_f\n",
      "    return f(*args, **kwargs)\n",
      "  File \"/home/noppadol-a/anaconda3/lib/python3.8/site-packages/sklearn/utils/validation.py\", line 814, in check_X_y\n",
      "    X = check_array(X, accept_sparse=accept_sparse,\n",
      "  File \"/home/noppadol-a/anaconda3/lib/python3.8/site-packages/sklearn/utils/validation.py\", line 63, in inner_f\n",
      "    return f(*args, **kwargs)\n",
      "  File \"/home/noppadol-a/anaconda3/lib/python3.8/site-packages/sklearn/utils/validation.py\", line 663, in check_array\n",
      "    _assert_all_finite(array,\n",
      "  File \"/home/noppadol-a/anaconda3/lib/python3.8/site-packages/sklearn/utils/validation.py\", line 103, in _assert_all_finite\n",
      "    raise ValueError(\n",
      "ValueError: Input contains NaN, infinity or a value too large for dtype('float32').\n",
      "\n",
      "  warnings.warn(\"Estimator fit failed. The score on this train-test\"\n",
      "/home/noppadol-a/anaconda3/lib/python3.8/site-packages/sklearn/model_selection/_validation.py:610: FitFailedWarning: Estimator fit failed. The score on this train-test partition for these parameters will be set to nan. Details: \n",
      "Traceback (most recent call last):\n",
      "  File \"/home/noppadol-a/anaconda3/lib/python3.8/site-packages/sklearn/model_selection/_validation.py\", line 593, in _fit_and_score\n",
      "    estimator.fit(X_train, y_train, **fit_params)\n",
      "  File \"/home/noppadol-a/anaconda3/lib/python3.8/site-packages/sklearn/ensemble/_forest.py\", line 304, in fit\n",
      "    X, y = self._validate_data(X, y, multi_output=True,\n",
      "  File \"/home/noppadol-a/anaconda3/lib/python3.8/site-packages/sklearn/base.py\", line 433, in _validate_data\n",
      "    X, y = check_X_y(X, y, **check_params)\n",
      "  File \"/home/noppadol-a/anaconda3/lib/python3.8/site-packages/sklearn/utils/validation.py\", line 63, in inner_f\n",
      "    return f(*args, **kwargs)\n",
      "  File \"/home/noppadol-a/anaconda3/lib/python3.8/site-packages/sklearn/utils/validation.py\", line 814, in check_X_y\n",
      "    X = check_array(X, accept_sparse=accept_sparse,\n",
      "  File \"/home/noppadol-a/anaconda3/lib/python3.8/site-packages/sklearn/utils/validation.py\", line 63, in inner_f\n",
      "    return f(*args, **kwargs)\n",
      "  File \"/home/noppadol-a/anaconda3/lib/python3.8/site-packages/sklearn/utils/validation.py\", line 663, in check_array\n",
      "    _assert_all_finite(array,\n",
      "  File \"/home/noppadol-a/anaconda3/lib/python3.8/site-packages/sklearn/utils/validation.py\", line 103, in _assert_all_finite\n",
      "    raise ValueError(\n",
      "ValueError: Input contains NaN, infinity or a value too large for dtype('float32').\n",
      "\n",
      "  warnings.warn(\"Estimator fit failed. The score on this train-test\"\n"
     ]
    },
    {
     "name": "stderr",
     "output_type": "stream",
     "text": [
      "/home/noppadol-a/anaconda3/lib/python3.8/site-packages/sklearn/model_selection/_validation.py:610: FitFailedWarning: Estimator fit failed. The score on this train-test partition for these parameters will be set to nan. Details: \n",
      "Traceback (most recent call last):\n",
      "  File \"/home/noppadol-a/anaconda3/lib/python3.8/site-packages/sklearn/model_selection/_validation.py\", line 593, in _fit_and_score\n",
      "    estimator.fit(X_train, y_train, **fit_params)\n",
      "  File \"/home/noppadol-a/anaconda3/lib/python3.8/site-packages/sklearn/ensemble/_forest.py\", line 304, in fit\n",
      "    X, y = self._validate_data(X, y, multi_output=True,\n",
      "  File \"/home/noppadol-a/anaconda3/lib/python3.8/site-packages/sklearn/base.py\", line 433, in _validate_data\n",
      "    X, y = check_X_y(X, y, **check_params)\n",
      "  File \"/home/noppadol-a/anaconda3/lib/python3.8/site-packages/sklearn/utils/validation.py\", line 63, in inner_f\n",
      "    return f(*args, **kwargs)\n",
      "  File \"/home/noppadol-a/anaconda3/lib/python3.8/site-packages/sklearn/utils/validation.py\", line 814, in check_X_y\n",
      "    X = check_array(X, accept_sparse=accept_sparse,\n",
      "  File \"/home/noppadol-a/anaconda3/lib/python3.8/site-packages/sklearn/utils/validation.py\", line 63, in inner_f\n",
      "    return f(*args, **kwargs)\n",
      "  File \"/home/noppadol-a/anaconda3/lib/python3.8/site-packages/sklearn/utils/validation.py\", line 663, in check_array\n",
      "    _assert_all_finite(array,\n",
      "  File \"/home/noppadol-a/anaconda3/lib/python3.8/site-packages/sklearn/utils/validation.py\", line 103, in _assert_all_finite\n",
      "    raise ValueError(\n",
      "ValueError: Input contains NaN, infinity or a value too large for dtype('float32').\n",
      "\n",
      "  warnings.warn(\"Estimator fit failed. The score on this train-test\"\n",
      "/home/noppadol-a/anaconda3/lib/python3.8/site-packages/sklearn/model_selection/_validation.py:610: FitFailedWarning: Estimator fit failed. The score on this train-test partition for these parameters will be set to nan. Details: \n",
      "Traceback (most recent call last):\n",
      "  File \"/home/noppadol-a/anaconda3/lib/python3.8/site-packages/sklearn/model_selection/_validation.py\", line 593, in _fit_and_score\n",
      "    estimator.fit(X_train, y_train, **fit_params)\n",
      "  File \"/home/noppadol-a/anaconda3/lib/python3.8/site-packages/sklearn/ensemble/_forest.py\", line 304, in fit\n",
      "    X, y = self._validate_data(X, y, multi_output=True,\n",
      "  File \"/home/noppadol-a/anaconda3/lib/python3.8/site-packages/sklearn/base.py\", line 433, in _validate_data\n",
      "    X, y = check_X_y(X, y, **check_params)\n",
      "  File \"/home/noppadol-a/anaconda3/lib/python3.8/site-packages/sklearn/utils/validation.py\", line 63, in inner_f\n",
      "    return f(*args, **kwargs)\n",
      "  File \"/home/noppadol-a/anaconda3/lib/python3.8/site-packages/sklearn/utils/validation.py\", line 814, in check_X_y\n",
      "    X = check_array(X, accept_sparse=accept_sparse,\n",
      "  File \"/home/noppadol-a/anaconda3/lib/python3.8/site-packages/sklearn/utils/validation.py\", line 63, in inner_f\n",
      "    return f(*args, **kwargs)\n",
      "  File \"/home/noppadol-a/anaconda3/lib/python3.8/site-packages/sklearn/utils/validation.py\", line 663, in check_array\n",
      "    _assert_all_finite(array,\n",
      "  File \"/home/noppadol-a/anaconda3/lib/python3.8/site-packages/sklearn/utils/validation.py\", line 103, in _assert_all_finite\n",
      "    raise ValueError(\n",
      "ValueError: Input contains NaN, infinity or a value too large for dtype('float32').\n",
      "\n",
      "  warnings.warn(\"Estimator fit failed. The score on this train-test\"\n",
      "/home/noppadol-a/anaconda3/lib/python3.8/site-packages/sklearn/model_selection/_validation.py:610: FitFailedWarning: Estimator fit failed. The score on this train-test partition for these parameters will be set to nan. Details: \n",
      "Traceback (most recent call last):\n",
      "  File \"/home/noppadol-a/anaconda3/lib/python3.8/site-packages/sklearn/model_selection/_validation.py\", line 593, in _fit_and_score\n",
      "    estimator.fit(X_train, y_train, **fit_params)\n",
      "  File \"/home/noppadol-a/anaconda3/lib/python3.8/site-packages/sklearn/ensemble/_forest.py\", line 304, in fit\n",
      "    X, y = self._validate_data(X, y, multi_output=True,\n",
      "  File \"/home/noppadol-a/anaconda3/lib/python3.8/site-packages/sklearn/base.py\", line 433, in _validate_data\n",
      "    X, y = check_X_y(X, y, **check_params)\n",
      "  File \"/home/noppadol-a/anaconda3/lib/python3.8/site-packages/sklearn/utils/validation.py\", line 63, in inner_f\n",
      "    return f(*args, **kwargs)\n",
      "  File \"/home/noppadol-a/anaconda3/lib/python3.8/site-packages/sklearn/utils/validation.py\", line 814, in check_X_y\n",
      "    X = check_array(X, accept_sparse=accept_sparse,\n",
      "  File \"/home/noppadol-a/anaconda3/lib/python3.8/site-packages/sklearn/utils/validation.py\", line 63, in inner_f\n",
      "    return f(*args, **kwargs)\n",
      "  File \"/home/noppadol-a/anaconda3/lib/python3.8/site-packages/sklearn/utils/validation.py\", line 663, in check_array\n",
      "    _assert_all_finite(array,\n",
      "  File \"/home/noppadol-a/anaconda3/lib/python3.8/site-packages/sklearn/utils/validation.py\", line 103, in _assert_all_finite\n",
      "    raise ValueError(\n",
      "ValueError: Input contains NaN, infinity or a value too large for dtype('float32').\n",
      "\n",
      "  warnings.warn(\"Estimator fit failed. The score on this train-test\"\n",
      "/home/noppadol-a/anaconda3/lib/python3.8/site-packages/sklearn/model_selection/_validation.py:610: FitFailedWarning: Estimator fit failed. The score on this train-test partition for these parameters will be set to nan. Details: \n",
      "Traceback (most recent call last):\n",
      "  File \"/home/noppadol-a/anaconda3/lib/python3.8/site-packages/sklearn/model_selection/_validation.py\", line 593, in _fit_and_score\n",
      "    estimator.fit(X_train, y_train, **fit_params)\n",
      "  File \"/home/noppadol-a/anaconda3/lib/python3.8/site-packages/sklearn/ensemble/_forest.py\", line 304, in fit\n",
      "    X, y = self._validate_data(X, y, multi_output=True,\n",
      "  File \"/home/noppadol-a/anaconda3/lib/python3.8/site-packages/sklearn/base.py\", line 433, in _validate_data\n",
      "    X, y = check_X_y(X, y, **check_params)\n",
      "  File \"/home/noppadol-a/anaconda3/lib/python3.8/site-packages/sklearn/utils/validation.py\", line 63, in inner_f\n",
      "    return f(*args, **kwargs)\n",
      "  File \"/home/noppadol-a/anaconda3/lib/python3.8/site-packages/sklearn/utils/validation.py\", line 814, in check_X_y\n",
      "    X = check_array(X, accept_sparse=accept_sparse,\n",
      "  File \"/home/noppadol-a/anaconda3/lib/python3.8/site-packages/sklearn/utils/validation.py\", line 63, in inner_f\n",
      "    return f(*args, **kwargs)\n",
      "  File \"/home/noppadol-a/anaconda3/lib/python3.8/site-packages/sklearn/utils/validation.py\", line 663, in check_array\n",
      "    _assert_all_finite(array,\n",
      "  File \"/home/noppadol-a/anaconda3/lib/python3.8/site-packages/sklearn/utils/validation.py\", line 103, in _assert_all_finite\n",
      "    raise ValueError(\n",
      "ValueError: Input contains NaN, infinity or a value too large for dtype('float32').\n",
      "\n",
      "  warnings.warn(\"Estimator fit failed. The score on this train-test\"\n",
      "/home/noppadol-a/anaconda3/lib/python3.8/site-packages/sklearn/model_selection/_validation.py:610: FitFailedWarning: Estimator fit failed. The score on this train-test partition for these parameters will be set to nan. Details: \n",
      "Traceback (most recent call last):\n",
      "  File \"/home/noppadol-a/anaconda3/lib/python3.8/site-packages/sklearn/model_selection/_validation.py\", line 593, in _fit_and_score\n",
      "    estimator.fit(X_train, y_train, **fit_params)\n",
      "  File \"/home/noppadol-a/anaconda3/lib/python3.8/site-packages/sklearn/ensemble/_forest.py\", line 304, in fit\n",
      "    X, y = self._validate_data(X, y, multi_output=True,\n",
      "  File \"/home/noppadol-a/anaconda3/lib/python3.8/site-packages/sklearn/base.py\", line 433, in _validate_data\n",
      "    X, y = check_X_y(X, y, **check_params)\n",
      "  File \"/home/noppadol-a/anaconda3/lib/python3.8/site-packages/sklearn/utils/validation.py\", line 63, in inner_f\n",
      "    return f(*args, **kwargs)\n",
      "  File \"/home/noppadol-a/anaconda3/lib/python3.8/site-packages/sklearn/utils/validation.py\", line 814, in check_X_y\n",
      "    X = check_array(X, accept_sparse=accept_sparse,\n",
      "  File \"/home/noppadol-a/anaconda3/lib/python3.8/site-packages/sklearn/utils/validation.py\", line 63, in inner_f\n",
      "    return f(*args, **kwargs)\n",
      "  File \"/home/noppadol-a/anaconda3/lib/python3.8/site-packages/sklearn/utils/validation.py\", line 663, in check_array\n",
      "    _assert_all_finite(array,\n",
      "  File \"/home/noppadol-a/anaconda3/lib/python3.8/site-packages/sklearn/utils/validation.py\", line 103, in _assert_all_finite\n",
      "    raise ValueError(\n",
      "ValueError: Input contains NaN, infinity or a value too large for dtype('float32').\n",
      "\n",
      "  warnings.warn(\"Estimator fit failed. The score on this train-test\"\n",
      "/home/noppadol-a/anaconda3/lib/python3.8/site-packages/sklearn/model_selection/_validation.py:610: FitFailedWarning: Estimator fit failed. The score on this train-test partition for these parameters will be set to nan. Details: \n",
      "Traceback (most recent call last):\n",
      "  File \"/home/noppadol-a/anaconda3/lib/python3.8/site-packages/sklearn/model_selection/_validation.py\", line 593, in _fit_and_score\n",
      "    estimator.fit(X_train, y_train, **fit_params)\n",
      "  File \"/home/noppadol-a/anaconda3/lib/python3.8/site-packages/sklearn/ensemble/_forest.py\", line 304, in fit\n",
      "    X, y = self._validate_data(X, y, multi_output=True,\n",
      "  File \"/home/noppadol-a/anaconda3/lib/python3.8/site-packages/sklearn/base.py\", line 433, in _validate_data\n",
      "    X, y = check_X_y(X, y, **check_params)\n",
      "  File \"/home/noppadol-a/anaconda3/lib/python3.8/site-packages/sklearn/utils/validation.py\", line 63, in inner_f\n",
      "    return f(*args, **kwargs)\n",
      "  File \"/home/noppadol-a/anaconda3/lib/python3.8/site-packages/sklearn/utils/validation.py\", line 814, in check_X_y\n",
      "    X = check_array(X, accept_sparse=accept_sparse,\n",
      "  File \"/home/noppadol-a/anaconda3/lib/python3.8/site-packages/sklearn/utils/validation.py\", line 63, in inner_f\n",
      "    return f(*args, **kwargs)\n",
      "  File \"/home/noppadol-a/anaconda3/lib/python3.8/site-packages/sklearn/utils/validation.py\", line 663, in check_array\n",
      "    _assert_all_finite(array,\n",
      "  File \"/home/noppadol-a/anaconda3/lib/python3.8/site-packages/sklearn/utils/validation.py\", line 103, in _assert_all_finite\n",
      "    raise ValueError(\n",
      "ValueError: Input contains NaN, infinity or a value too large for dtype('float32').\n",
      "\n",
      "  warnings.warn(\"Estimator fit failed. The score on this train-test\"\n"
     ]
    },
    {
     "name": "stderr",
     "output_type": "stream",
     "text": [
      "/home/noppadol-a/anaconda3/lib/python3.8/site-packages/sklearn/model_selection/_validation.py:610: FitFailedWarning: Estimator fit failed. The score on this train-test partition for these parameters will be set to nan. Details: \n",
      "Traceback (most recent call last):\n",
      "  File \"/home/noppadol-a/anaconda3/lib/python3.8/site-packages/sklearn/model_selection/_validation.py\", line 593, in _fit_and_score\n",
      "    estimator.fit(X_train, y_train, **fit_params)\n",
      "  File \"/home/noppadol-a/anaconda3/lib/python3.8/site-packages/sklearn/ensemble/_forest.py\", line 304, in fit\n",
      "    X, y = self._validate_data(X, y, multi_output=True,\n",
      "  File \"/home/noppadol-a/anaconda3/lib/python3.8/site-packages/sklearn/base.py\", line 433, in _validate_data\n",
      "    X, y = check_X_y(X, y, **check_params)\n",
      "  File \"/home/noppadol-a/anaconda3/lib/python3.8/site-packages/sklearn/utils/validation.py\", line 63, in inner_f\n",
      "    return f(*args, **kwargs)\n",
      "  File \"/home/noppadol-a/anaconda3/lib/python3.8/site-packages/sklearn/utils/validation.py\", line 814, in check_X_y\n",
      "    X = check_array(X, accept_sparse=accept_sparse,\n",
      "  File \"/home/noppadol-a/anaconda3/lib/python3.8/site-packages/sklearn/utils/validation.py\", line 63, in inner_f\n",
      "    return f(*args, **kwargs)\n",
      "  File \"/home/noppadol-a/anaconda3/lib/python3.8/site-packages/sklearn/utils/validation.py\", line 663, in check_array\n",
      "    _assert_all_finite(array,\n",
      "  File \"/home/noppadol-a/anaconda3/lib/python3.8/site-packages/sklearn/utils/validation.py\", line 103, in _assert_all_finite\n",
      "    raise ValueError(\n",
      "ValueError: Input contains NaN, infinity or a value too large for dtype('float32').\n",
      "\n",
      "  warnings.warn(\"Estimator fit failed. The score on this train-test\"\n"
     ]
    }
   ],
   "source": [
    "LR = LogisticRegression(n_jobs=-1)\n",
    "RF = RandomForestClassifier(n_jobs=-1)\n",
    "SVM = svm.SVC()\n",
    "scores_LR = cross_val_score(LR, df_x, df_y, cv=10,scoring= 'roc_auc')\n",
    "scores_RF = cross_val_score(RF, df_x, df_y, cv=10,scoring= 'roc_auc')\n",
    "# scores_SVM = cross_val_score(SVM, df_x, df_y, cv=10,scoring= 'roc_auc')"
   ]
  },
  {
   "cell_type": "code",
   "execution_count": 191,
   "id": "00c08d84",
   "metadata": {},
   "outputs": [
    {
     "data": {
      "text/plain": [
       "array([nan, nan, nan, nan, nan, nan, nan, nan, nan, nan])"
      ]
     },
     "execution_count": 191,
     "metadata": {},
     "output_type": "execute_result"
    }
   ],
   "source": [
    "scores_LR"
   ]
  },
  {
   "cell_type": "code",
   "execution_count": 192,
   "id": "e58ae52c",
   "metadata": {},
   "outputs": [
    {
     "data": {
      "text/plain": [
       "nan"
      ]
     },
     "execution_count": 192,
     "metadata": {},
     "output_type": "execute_result"
    }
   ],
   "source": [
    "scores_RF.mean()"
   ]
  },
  {
   "cell_type": "code",
   "execution_count": 24,
   "id": "2f43b28b",
   "metadata": {},
   "outputs": [],
   "source": [
    "# scores_SVM"
   ]
  },
  {
   "cell_type": "code",
   "execution_count": 58,
   "id": "373c6600",
   "metadata": {},
   "outputs": [
    {
     "name": "stdout",
     "output_type": "stream",
     "text": [
      "Fitting 3 folds for each of 100 candidates, totalling 300 fits\n"
     ]
    },
    {
     "name": "stderr",
     "output_type": "stream",
     "text": [
      "/home/noppadol-a/anaconda3/lib/python3.8/site-packages/joblib/externals/loky/process_executor.py:688: UserWarning: A worker stopped while some jobs were given to the executor. This can be caused by a too short worker timeout or by a memory leak.\n",
      "  warnings.warn(\n"
     ]
    }
   ],
   "source": [
    "from sklearn.model_selection import RandomizedSearchCV\n",
    "if __name__ == \"__main__\":\n",
    "    # Number of trees in random forest\n",
    "    n_estimators = [int(x) for x in np.linspace(start = 200, stop = 2000, num = 10)]\n",
    "    # Number of features to consider at every split\n",
    "    max_features = ['auto', 'sqrt']\n",
    "    # Maximum number of levels in tree\n",
    "    max_depth = [int(x) for x in np.linspace(10, 110, num = 11)]\n",
    "    max_depth.append(None)\n",
    "    # Minimum number of samples required to split a node\n",
    "    min_samples_split = [2, 5, 10]\n",
    "    # Minimum number of samples required at each leaf node\n",
    "    min_samples_leaf = [1, 2, 4]\n",
    "    # Method of selecting samples for training each tree\n",
    "    bootstrap = [True, False]\n",
    "    # Create the random grid\n",
    "    random_grid = {'n_estimators': n_estimators,\n",
    "                   'max_features': max_features,\n",
    "                   'max_depth': max_depth,\n",
    "                   'min_samples_split': min_samples_split,\n",
    "                   'min_samples_leaf': min_samples_leaf,\n",
    "                   'bootstrap': bootstrap}\n",
    "    rf = RandomForestClassifier(n_jobs = -1)\n",
    "    # Random search of parameters, using 3 fold cross validation, \n",
    "    # search across 100 different combinations, and use all available cores\n",
    "    rf_random = RandomizedSearchCV(estimator = rf, param_distributions = random_grid, n_iter = 100, cv = 3, verbose=2, random_state=42, n_jobs = -1)\n",
    "    # Fit the random search model\n",
    "    rf_random.fit(df_x, df_y)\n"
   ]
  },
  {
   "cell_type": "code",
   "execution_count": 59,
   "id": "29cc2a59",
   "metadata": {},
   "outputs": [
    {
     "data": {
      "text/plain": [
       "{'n_estimators': 1800,\n",
       " 'min_samples_split': 2,\n",
       " 'min_samples_leaf': 1,\n",
       " 'max_features': 'auto',\n",
       " 'max_depth': 20,\n",
       " 'bootstrap': False}"
      ]
     },
     "execution_count": 59,
     "metadata": {},
     "output_type": "execute_result"
    }
   ],
   "source": [
    "rf_random.best_params_"
   ]
  },
  {
   "cell_type": "code",
   "execution_count": 83,
   "id": "636e1560",
   "metadata": {},
   "outputs": [],
   "source": [
    "# from sklearn.metrics import roc_auc_score\n",
    "# from sklearn.metrics import f1_score\n",
    "# clf = RandomForestClassifier().fit(df_x, df_y)\n",
    "# roc_auc_score(df_y, clf.predict_proba(df_x)[:, 1])\n",
    "# f1_score(df_y, clf.predict(df_x), average='weighted')"
   ]
  },
  {
   "cell_type": "markdown",
   "id": "f7c28dfe",
   "metadata": {},
   "source": [
    "## Data with no response"
   ]
  },
  {
   "cell_type": "markdown",
   "id": "866e9797",
   "metadata": {},
   "source": [
    "## Merge the sentiment responsiveness toxicity and emotion"
   ]
  },
  {
   "cell_type": "code",
   "execution_count": 21,
   "id": "c3011eed",
   "metadata": {},
   "outputs": [],
   "source": [
    "first_contribution = ks.read_csv(os.path.join(exper_dir,'first_contribution/*.csv'))\n",
    "non_first_contribution = ks.read_csv(os.path.join(exper_dir,'non_first_contribution/*.csv'))"
   ]
  },
  {
   "cell_type": "code",
   "execution_count": 9,
   "id": "8784ebfb",
   "metadata": {},
   "outputs": [],
   "source": [
    "response_data = set(final_feature_df['pull_request_id'])"
   ]
  },
  {
   "cell_type": "code",
   "execution_count": 13,
   "id": "b5083499",
   "metadata": {},
   "outputs": [],
   "source": [
    "feature_df = first_contribution.to_pandas().rename(columns={'id':'pull_request_id','actor_id':'pr_author'})"
   ]
  },
  {
   "cell_type": "code",
   "execution_count": 16,
   "id": "581f6170",
   "metadata": {},
   "outputs": [
    {
     "data": {
      "text/plain": [
       "(292882, 5)"
      ]
     },
     "execution_count": 16,
     "metadata": {},
     "output_type": "execute_result"
    }
   ],
   "source": [
    "feature_df.shape"
   ]
  },
  {
   "cell_type": "markdown",
   "id": "202cc292",
   "metadata": {},
   "source": [
    "## result PR"
   ]
  },
  {
   "cell_type": "code",
   "execution_count": 17,
   "id": "1d4d3afc",
   "metadata": {},
   "outputs": [],
   "source": [
    "header_list = [\"id\",\"pull_request_id\",\"created_at\",\"action\",\"actor_id\"]\n",
    "pull_request_history = ks.read_csv(os.path.join(data_path,'pull_request_history.csv'), header=None, names=header_list)\n",
    "pull_request_history = pull_request_history[pull_request_history['action']=='merged']\n",
    "success_pr = pull_request_history['pull_request_id'].unique()\n",
    "success_pr = set(success_pr.to_numpy())\n",
    "feature_df['action'] = feature_df['pull_request_id'].map(lambda x: 'merged' if x in success_pr else 'closed')\n",
    "feature_df = feature_df.rename(columns={'action':'merged'})\n",
    "feature_df['merged'] = feature_df['merged'].map({'merged':True,'closed':False})\n",
    "feature_df = feature_df.set_index('pull_request_id')"
   ]
  },
  {
   "cell_type": "markdown",
   "id": "cb3d1183",
   "metadata": {},
   "source": [
    "##  pull request created in other project"
   ]
  },
  {
   "cell_type": "code",
   "execution_count": 19,
   "id": "9c97656a",
   "metadata": {},
   "outputs": [],
   "source": [
    "feature_df = feature_df.reset_index()\n",
    "sub_sql = '''\n",
    "    (select f.pull_request_id,f.pr_author,f.base_repo_id,pr.created_at from \n",
    "    {feature_df} f inner join {pull_requests} pr on f.pull_request_id = pr.id)\n",
    "'''\n",
    "sql = '''\n",
    "    select f.pull_request_id, count(distinct(id)) from \n",
    "    %s f inner join {pull_requests} pr on f.pr_author = pr.actor_id\n",
    "    where f.base_repo_id <> pr.base_repo_id and f.created_at > pr.created_at\n",
    "    group by f.pull_request_id\n",
    "'''%(sub_sql)\n",
    "previous_pr = ks.sql(sql)\n",
    "previous_pr = previous_pr.set_index('pull_request_id')\n",
    "feature_df = feature_df.set_index('pull_request_id')\n",
    "feature_df = ks.from_pandas(feature_df).join(previous_pr, how=\"left\")\n",
    "feature_df = feature_df.to_pandas()\n",
    "feature_df = feature_df.rename(columns={'count(DISTINCT id)':'other_project_pr'})\n",
    "feature_df['other_project_pr'] = feature_df['other_project_pr'].fillna(value=0)"
   ]
  },
  {
   "cell_type": "markdown",
   "id": "c714e948",
   "metadata": {},
   "source": [
    "##  pull request created in other project using same langauge"
   ]
  },
  {
   "cell_type": "code",
   "execution_count": 22,
   "id": "aaf622ae",
   "metadata": {},
   "outputs": [],
   "source": [
    "inspect_project = ks.read_csv(os.path.join(exper_dir,'project/*.csv'))"
   ]
  },
  {
   "cell_type": "code",
   "execution_count": 23,
   "id": "4ce2b7f2",
   "metadata": {},
   "outputs": [],
   "source": [
    "feature_df = feature_df.reset_index()\n",
    "sub_sub_sql = '''\n",
    "    (select f.pull_request_id,f.pr_author,f.base_repo_id,pr.created_at from \n",
    "    {feature_df} f inner join {pull_requests} pr on f.pull_request_id = pr.id)\n",
    "'''\n",
    "sub_sql1 = '''\n",
    "    (select * from \n",
    "    %s f inner join {inspect_project} p on f.base_repo_id = p.id)\n",
    "'''%(sub_sub_sql)\n",
    "sub_sql2 = '''\n",
    "    (select base_repo_id,pr.id,actor_id,created_at,pullreq_id,p.language from \n",
    "    {pull_requests} pr inner join {inspect_project} p on pr.base_repo_id = p.id)\n",
    "'''\n",
    "sql ='''\n",
    "    select f.pull_request_id, count(distinct(pr.id)) from \n",
    "    %s f inner join %s pr on f.pr_author = pr.actor_id\n",
    "    where f.base_repo_id <> pr.base_repo_id and f.created_at > pr.created_at and f.language == pr.language\n",
    "    group by f.pull_request_id\n",
    "'''%(sub_sql1,sub_sql2)\n",
    "previous_same_language_pr = ks.sql(sql)\n",
    "previous_same_language_pr = previous_same_language_pr.set_index('pull_request_id')\n",
    "feature_df = feature_df.set_index('pull_request_id')\n",
    "feature_df = ks.from_pandas(feature_df).join(previous_same_language_pr, how=\"left\")\n",
    "feature_df = feature_df.to_pandas()\n",
    "feature_df = feature_df.rename(columns={'count(DISTINCT id)':'other_same_language_pr'})\n",
    "feature_df['other_same_language_pr'] = feature_df['other_same_language_pr'].fillna(value=0)"
   ]
  },
  {
   "cell_type": "markdown",
   "id": "68d92d60",
   "metadata": {},
   "source": [
    "##  How long the Github Account have been created (INT)"
   ]
  },
  {
   "cell_type": "code",
   "execution_count": 24,
   "id": "98b5a2e7",
   "metadata": {},
   "outputs": [],
   "source": [
    "header_list = [\"id\",\"login\",\"company\",\"created_at\",\"type\",\"fake\",\"deleted\",\"long\",\"lat\",\"country_code\",\"state\",\"city\",\"location\"]\n",
    "users = ks.read_csv(os.path.join(data_path,'users.csv'), header=None, names=header_list)\n",
    "users = users[['created_at','id']]\n",
    "\n",
    "feature_df = feature_df.reset_index()\n",
    "sub_sql = '''\n",
    "    (select f.pull_request_id,f.pr_author,f.base_repo_id,pr.created_at from \n",
    "    {feature_df} f inner join {pull_requests} pr on f.pull_request_id = pr.id)\n",
    "'''\n",
    "sql ='''\n",
    "    select f.pull_request_id,f.created_at as pr_created_at,u.created_at as u_created_at from\n",
    "    %s f inner join {users} u on f.pr_author = u.id \n",
    "'''%(sub_sql)\n",
    "gh_account_duration = ks.sql(sql)\n",
    "gh_account_duration = gh_account_duration.to_pandas()\n",
    "\n",
    "gh_account_duration['pr_created_at'] =  pd.to_datetime(gh_account_duration['pr_created_at'], format='%Y-%m-%d %H:%M:%S')\n",
    "gh_account_duration['u_created_at'] =  pd.to_datetime(gh_account_duration['u_created_at'], format='%Y-%m-%d %H:%M:%S')\n",
    "gh_account_duration['gh_account_duration'] = (gh_account_duration['pr_created_at'] - gh_account_duration['u_created_at'])\n",
    "gh_account_duration['gh_account_duration'] = gh_account_duration['gh_account_duration'].map(lambda x: 0 if x.total_seconds()<0 else x.total_seconds())\n",
    "gh_account_duration = gh_account_duration.set_index('pull_request_id')\n",
    "feature_df = feature_df.set_index('pull_request_id')\n",
    "feature_df = feature_df.join(gh_account_duration, how=\"inner\")\n"
   ]
  },
  {
   "cell_type": "markdown",
   "id": "e7248100",
   "metadata": {},
   "source": [
    "## Number of Commit of project at the time of pull request created "
   ]
  },
  {
   "cell_type": "code",
   "execution_count": 25,
   "id": "0bc23da9",
   "metadata": {},
   "outputs": [],
   "source": [
    "header_list = [\"id\",\"sha\",\"author_id\",\"committer_id\",\"project_id\",\"created_at\"]\n",
    "commits = ks.read_csv(os.path.join(data_path,'commits.csv'), header=None, names=header_list)"
   ]
  },
  {
   "cell_type": "code",
   "execution_count": 26,
   "id": "d8708d45",
   "metadata": {},
   "outputs": [],
   "source": [
    "feature_df = feature_df.reset_index()\n",
    "sub_sql = '''\n",
    "    (select f.pull_request_id,f.pr_author,f.base_repo_id,pr.created_at from \n",
    "    {feature_df} f inner join {pull_requests} pr on f.pull_request_id = pr.id)\n",
    "'''\n",
    "sql ='''\n",
    "    select f.pull_request_id,count(distinct c.id) as project_commit from\n",
    "    %s f inner join {commits} c on f.base_repo_id = c.project_id  where f.created_at>c.created_at\n",
    "    group by f.pull_request_id\n",
    "'''%(sub_sql)\n",
    "project_commit = ks.sql(sql)\n",
    "project_commit = project_commit.to_pandas()\n",
    "project_commit = project_commit.set_index('pull_request_id')\n",
    "feature_df = feature_df.set_index('pull_request_id')\n",
    "feature_df = feature_df.join(project_commit, how=\"left\")\n",
    "feature_df['project_commit'] = feature_df['project_commit'].fillna(value=0)"
   ]
  },
  {
   "cell_type": "markdown",
   "id": "0325ee15",
   "metadata": {},
   "source": [
    "## Number of Pull request at the time of pull request created"
   ]
  },
  {
   "cell_type": "code",
   "execution_count": 27,
   "id": "297bf0c0",
   "metadata": {},
   "outputs": [],
   "source": [
    "feature_df = feature_df.reset_index()\n",
    "sub_sql = '''\n",
    "    (select f.pull_request_id,f.pr_author,f.base_repo_id,pr.created_at from \n",
    "    {feature_df} f inner join {pull_requests} pr on f.pull_request_id = pr.id)\n",
    "'''\n",
    "sql = '''\n",
    "    select f.pull_request_id, count(distinct(pr.id)) as project_pr from \n",
    "    %s f inner join {pull_requests} pr on f.base_repo_id = pr.base_repo_id\n",
    "    where f.created_at > pr.created_at\n",
    "    group by f.pull_request_id\n",
    "'''%(sub_sql)\n",
    "project_pr = ks.sql(sql)\n",
    "project_pr = project_pr.to_pandas()\n",
    "project_pr = project_pr.set_index('pull_request_id')\n",
    "feature_df = feature_df.set_index('pull_request_id')\n",
    "feature_df = feature_df.join(project_pr, how=\"left\")\n",
    "feature_df['project_pr'] = feature_df['project_pr'].fillna(value=0)"
   ]
  },
  {
   "cell_type": "markdown",
   "id": "16390945",
   "metadata": {},
   "source": [
    "## Programming Languages"
   ]
  },
  {
   "cell_type": "code",
   "execution_count": 28,
   "id": "d2a1b273",
   "metadata": {},
   "outputs": [],
   "source": [
    "feature_df = feature_df.reset_index()\n",
    "sql = '''\n",
    "    select f.pull_request_id,p.language from \n",
    "    {feature_df} f inner join {inspect_project} p on f.base_repo_id = p.id\n",
    "'''\n",
    "language = ks.sql(sql)\n",
    "language = language.to_pandas()\n",
    "language = language.set_index('pull_request_id')\n",
    "feature_df = feature_df.set_index('pull_request_id')\n",
    "feature_df = feature_df.join(language, how=\"inner\")"
   ]
  },
  {
   "cell_type": "markdown",
   "id": "0ca9fe0d",
   "metadata": {},
   "source": [
    "## Number of Commit in pr"
   ]
  },
  {
   "cell_type": "code",
   "execution_count": 29,
   "id": "03a504c6",
   "metadata": {},
   "outputs": [],
   "source": [
    "header_list = [\"pull_request_id\",\"commit_id\"]\n",
    "pull_request_commits = ks.read_csv(os.path.join(data_path,'pull_request_commits.csv'), header=None, names=header_list)"
   ]
  },
  {
   "cell_type": "code",
   "execution_count": 30,
   "id": "42ce7ac6",
   "metadata": {},
   "outputs": [],
   "source": [
    "feature_df = feature_df.reset_index()\n",
    "sql = '''\n",
    "    select pull_request_id, count(commit_id) as pr_commit from\n",
    "    {pull_request_commits} group by pull_request_id\n",
    "'''\n",
    "pr_commit = ks.sql(sql)\n",
    "pr_commit = pr_commit.set_index('pull_request_id')\n",
    "feature_df = feature_df.set_index('pull_request_id')\n",
    "feature_df = ks.from_pandas(feature_df).join(pr_commit, how=\"left\")\n",
    "feature_df = feature_df.to_pandas()\n",
    "feature_df['pr_commit'] = feature_df['pr_commit'].fillna(value=0)"
   ]
  },
  {
   "cell_type": "markdown",
   "id": "f33a5a60",
   "metadata": {},
   "source": [
    "## Continue contributed or not"
   ]
  },
  {
   "cell_type": "code",
   "execution_count": 34,
   "id": "9f0f85f1",
   "metadata": {},
   "outputs": [],
   "source": [
    "feature_df = feature_df.reset_index()\n",
    "sql = '''\n",
    "    select pull_request_id,count(distinct nfc.id) as future_contribution, min(nfc.created_at) as next_contribution_created_at\n",
    "    from {feature_df} f inner join {non_first_contribution} nfc on f.pr_author = nfc.actor_id\n",
    "    where f.base_repo_id == nfc.base_repo_id and f.pr_created_at < nfc.created_at\n",
    "    group by pull_request_id\n",
    "'''\n",
    "future_contribution = ks.sql(sql)\n",
    "future_contribution = future_contribution.to_pandas()\n",
    "feature_df = feature_df.set_index('pull_request_id')\n",
    "future_contribution = future_contribution.set_index('pull_request_id')\n",
    "feature_df = feature_df.join(future_contribution, how=\"left\")\n",
    "feature_df['future_contribution'] = feature_df['future_contribution'].fillna(value=0)\n",
    "feature_df['next_contribution_created_at'] = feature_df['next_contribution_created_at'].fillna(value=0)"
   ]
  },
  {
   "cell_type": "code",
   "execution_count": 35,
   "id": "8cb5c4da",
   "metadata": {},
   "outputs": [
    {
     "name": "stderr",
     "output_type": "stream",
     "text": [
      "<ipython-input-35-510d010bd8f1>:2: SettingWithCopyWarning: \n",
      "A value is trying to be set on a copy of a slice from a DataFrame.\n",
      "Try using .loc[row_indexer,col_indexer] = value instead\n",
      "\n",
      "See the caveats in the documentation: https://pandas.pydata.org/pandas-docs/stable/user_guide/indexing.html#returning-a-view-versus-a-copy\n",
      "  calculated_waiting_duration['pr_created_at'] =  pd.to_datetime(calculated_waiting_duration['pr_created_at'], format='%Y-%m-%d %H:%M:%S')\n",
      "<ipython-input-35-510d010bd8f1>:3: SettingWithCopyWarning: \n",
      "A value is trying to be set on a copy of a slice from a DataFrame.\n",
      "Try using .loc[row_indexer,col_indexer] = value instead\n",
      "\n",
      "See the caveats in the documentation: https://pandas.pydata.org/pandas-docs/stable/user_guide/indexing.html#returning-a-view-versus-a-copy\n",
      "  calculated_waiting_duration['next_contribution_created_at'] =  pd.to_datetime(calculated_waiting_duration['next_contribution_created_at'], format='%Y-%m-%d %H:%M:%S')\n",
      "<ipython-input-35-510d010bd8f1>:4: SettingWithCopyWarning: \n",
      "A value is trying to be set on a copy of a slice from a DataFrame.\n",
      "Try using .loc[row_indexer,col_indexer] = value instead\n",
      "\n",
      "See the caveats in the documentation: https://pandas.pydata.org/pandas-docs/stable/user_guide/indexing.html#returning-a-view-versus-a-copy\n",
      "  calculated_waiting_duration['duration_next_contribution'] = (calculated_waiting_duration['next_contribution_created_at'] - calculated_waiting_duration['pr_created_at'])\n",
      "<ipython-input-35-510d010bd8f1>:5: SettingWithCopyWarning: \n",
      "A value is trying to be set on a copy of a slice from a DataFrame.\n",
      "Try using .loc[row_indexer,col_indexer] = value instead\n",
      "\n",
      "See the caveats in the documentation: https://pandas.pydata.org/pandas-docs/stable/user_guide/indexing.html#returning-a-view-versus-a-copy\n",
      "  calculated_waiting_duration['duration_next_contribution'] = calculated_waiting_duration['duration_next_contribution'].map(lambda x: 0 if x.total_seconds()<0 else x.total_seconds())\n"
     ]
    }
   ],
   "source": [
    "calculated_waiting_duration = feature_df[feature_df['next_contribution_created_at']!=0]\n",
    "calculated_waiting_duration['pr_created_at'] =  pd.to_datetime(calculated_waiting_duration['pr_created_at'], format='%Y-%m-%d %H:%M:%S')\n",
    "calculated_waiting_duration['next_contribution_created_at'] =  pd.to_datetime(calculated_waiting_duration['next_contribution_created_at'], format='%Y-%m-%d %H:%M:%S')\n",
    "calculated_waiting_duration['duration_next_contribution'] = (calculated_waiting_duration['next_contribution_created_at'] - calculated_waiting_duration['pr_created_at'])\n",
    "calculated_waiting_duration['duration_next_contribution'] = calculated_waiting_duration['duration_next_contribution'].map(lambda x: 0 if x.total_seconds()<0 else x.total_seconds())\n",
    "calculated_waiting_duration = calculated_waiting_duration[['duration_next_contribution']]"
   ]
  },
  {
   "cell_type": "code",
   "execution_count": 36,
   "id": "864d317a",
   "metadata": {},
   "outputs": [],
   "source": [
    "feature_df = feature_df.join(calculated_waiting_duration, how=\"left\")\n",
    "feature_df['duration_next_contribution'] = feature_df['duration_next_contribution'].fillna(value=0)"
   ]
  },
  {
   "cell_type": "code",
   "execution_count": 37,
   "id": "9a34405c",
   "metadata": {},
   "outputs": [],
   "source": [
    "max_duration_next_contribution = feature_df['duration_next_contribution'].max()"
   ]
  },
  {
   "cell_type": "code",
   "execution_count": 38,
   "id": "e2e1f415",
   "metadata": {},
   "outputs": [],
   "source": [
    "newest_pr = pd.to_datetime(pull_requests['created_at'].max(), format='%Y-%m-%d %H:%M:%S')"
   ]
  },
  {
   "cell_type": "code",
   "execution_count": 39,
   "id": "7fb3ce09",
   "metadata": {},
   "outputs": [],
   "source": [
    "feature_df['duration_until_newest_pr'] = feature_df['pr_created_at'].map(lambda x: (newest_pr-x).total_seconds())"
   ]
  },
  {
   "cell_type": "code",
   "execution_count": 40,
   "id": "c64e65b3",
   "metadata": {},
   "outputs": [],
   "source": [
    "not_valid_assumption_future_contrib = feature_df[feature_df['duration_until_newest_pr']>max_duration_next_contribution]\n",
    "not_valid_assumption_future_contrib = not_valid_assumption_future_contrib[not_valid_assumption_future_contrib['future_contribution']==0]\n",
    "not_valid_assumption_future_contrib = set(not_valid_assumption_future_contrib.reset_index()['pull_request_id'])"
   ]
  },
  {
   "cell_type": "code",
   "execution_count": 41,
   "id": "0c948fc6",
   "metadata": {},
   "outputs": [],
   "source": [
    "feature_df = feature_df.reset_index()\n",
    "final_feature_df = feature_df[~feature_df['pull_request_id'].isin(not_valid_assumption_future_contrib)]"
   ]
  },
  {
   "cell_type": "code",
   "execution_count": 42,
   "id": "8e217360",
   "metadata": {},
   "outputs": [],
   "source": [
    "final_feature_df.to_csv(os.path.join(exper_dir,'final_feature_df_non_response.csv'))"
   ]
  },
  {
   "cell_type": "code",
   "execution_count": 133,
   "id": "53253849",
   "metadata": {},
   "outputs": [
    {
     "data": {
      "text/plain": [
       "(289349, 20)"
      ]
     },
     "execution_count": 133,
     "metadata": {},
     "output_type": "execute_result"
    }
   ],
   "source": [
    "pd.read_csv(os.path.join(exper_dir,'final_feature_df_non_response.csv')).shape"
   ]
  },
  {
   "cell_type": "markdown",
   "id": "f1e0e6dc",
   "metadata": {},
   "source": [
    "# Qualitative analysis RQ2"
   ]
  },
  {
   "cell_type": "code",
   "execution_count": 329,
   "id": "1c1622ee",
   "metadata": {},
   "outputs": [],
   "source": [
    "r2_df = pd.read_csv('Qualitative_381.csv')\n",
    "r2_df = r2_df.drop([374,376,326,272,152])\n",
    "r2_df = r2_df.sample(n=353,random_state=42)"
   ]
  },
  {
   "cell_type": "code",
   "execution_count": 330,
   "id": "a6167e1a",
   "metadata": {},
   "outputs": [],
   "source": [
    "r2_df['Message'] = r2_df['Message'].apply(lambda x: x.replace('-','No Content'))\n",
    "r2_df = r2_df.rename(columns = {'Why Detect':'Reason'})\n",
    "r2_df['Reason'] = r2_df['Reason'].apply(lambda x: x.replace('Appologetic','Apologetic'))\n"
   ]
  },
  {
   "cell_type": "code",
   "execution_count": 331,
   "id": "d27aabef",
   "metadata": {},
   "outputs": [],
   "source": [
    "r2_df = r2_df.rename(columns={'Reason': 'Attribute','Message':'Content'})"
   ]
  },
  {
   "cell_type": "code",
   "execution_count": 332,
   "id": "8301c930",
   "metadata": {},
   "outputs": [],
   "source": [
    "r2_df.drop(columns=['Unnamed: 0','pullreq_id','Unnamed: 7','Unnamed: 8']).to_csv('d3.csv')"
   ]
  },
  {
   "cell_type": "code",
   "execution_count": 333,
   "id": "a0630ed3",
   "metadata": {},
   "outputs": [],
   "source": [
    "r2_df.to_csv('d3.csv')"
   ]
  },
  {
   "cell_type": "code",
   "execution_count": 334,
   "id": "52e65867",
   "metadata": {},
   "outputs": [
    {
     "data": {
      "image/png": "[encoded data removed]",
      "text/plain": [
       "<Figure size 432x288 with 1 Axes>"
      ]
     },
     "metadata": {},
     "output_type": "display_data"
    }
   ],
   "source": [
    "sns.set(style=\"ticks\", font_scale=1.1)\n",
    "sns.countplot(x='Content', data = r2_df)\n",
    "plt.savefig('fig/R2/Message.pdf', bbox_inches=\"tight\")"
   ]
  },
  {
   "cell_type": "code",
   "execution_count": 335,
   "id": "bd8ff810",
   "metadata": {},
   "outputs": [
    {
     "data": {
      "image/png": "[encoded data removed]",
      "text/plain": [
       "<Figure size 432x288 with 1 Axes>"
      ]
     },
     "metadata": {},
     "output_type": "display_data"
    }
   ],
   "source": [
    "sns.countplot(x='Attribute', data = r2_df)\n",
    "plt.savefig('fig/R2/Reason.pdf', bbox_inches=\"tight\")"
   ]
  },
  {
   "cell_type": "markdown",
   "id": "35e34da0",
   "metadata": {},
   "source": [
    "# RQ3 significant of each model compared to RF"
   ]
  },
  {
   "cell_type": "code",
   "execution_count": 19,
   "id": "4c4edd16",
   "metadata": {},
   "outputs": [],
   "source": [
    "lr_p = [0.58562939,0.592543975,0.57022319,0.578878062,0.580305424,0.588785047,0.590021692,0.587862069,0.601649814,0.58720774]\n",
    "lr_r = [0.602724493,0.617341357,0.586013986,0.612256267,0.611373093,0.608275862,0.61209564,0.604539007,0.614235262,0.601265823]\n",
    "lr_f1 = [0.59405398,0.604688547,0.57801076,0.595099499,0.595434283,0.598371777,0.600855999,0.596083916,0.607877403,0.594153637]\n",
    "lr_auroc = [0.61765737,0.616460798,0.598512913,0.612774652,0.60883204,0.612449305,0.630877421,0.622751177,0.621723243,0.609837774]\n",
    "dt_p = [0.559695174,0.553802817,0.557724958,0.555301515,0.561651747,0.559287383,0.559292549,0.551801173,0.56344025,0.560906516]\n",
    "dt_r = [0.551292744,0.537746171,0.551328671,0.541225627,0.539528433,0.528275862,0.542616034,0.560567376,0.539255637,0.544854155]\n",
    "dt_f1 = [0.555462185,0.545656397,0.55450837,0.548173226,0.550367855,0.543339481,0.550828098,0.556149733,0.551082732,0.552763819]\n",
    "dt_auroc = [0.582455824,0.566656836,0.580147815,0.572011332,0.574386301,0.573527903,0.583608787,0.574821284,0.571716424,0.570701716]\n",
    "rf_p = [0.619367478,0.631179775,0.614040034,0.615168539,0.611020185,0.626091857,0.618009751,0.617971178,0.63888104,0.620592384]\n",
    "rf_r = [0.615234918,0.614606127,0.609230769,0.610027855,0.621359223,0.612965517,0.606188467,0.620425532,0.614235262,0.605393506]\n",
    "rf_f1 = [0.617294282,0.622782705,0.611625948,0.612587413,0.616146335,0.619459158,0.612042034,0.619195923,0.626315789,0.612898732]\n",
    "rf_auroc = [0.669302779,0.664313595,0.66216938,0.660766087,0.65958562,0.672963675,0.675715112,0.673084459,0.672629885,0.661573518]\n",
    "svm_p = [0.572028952,0.572280534,0.557067813,0.569025929,0.566015533,0.58062201,0.574074074,0.566857689,0.583556312,0.578348268]\n",
    "svm_r = [0.681123158,0.656181619,0.652587413,0.678551532,0.667128988,0.669517241,0.680168776,0.673475177,0.651725075,0.657127133]\n",
    "svm_f1 = [0.621827411,0.611365953,0.601056293,0.61898107,0.612426789,0.621909033,0.622634222,0.615584079,0.615759754,0.615226072]\n",
    "svm_auroc = [0.620906601,0.610914821,0.603919689,0.616064758,0.606658204,0.615761257,0.629108946,0.621723024,0.618820379,0.613014055]\n",
    "nb_p = [0.636648395,0.643367752,0.628793774,0.628065395,0.620216606,0.623538012,0.680751174,0.636363636,0.626935711,0.628897338]\n",
    "nb_r = [0.226021685,0.221553611,0.226013986,0.256824513,0.238280166,0.235310345,0.163150492,0.238297872,0.362944852,0.227572922]\n",
    "nb_f1 = [0.333606894,0.329603255,0.332510288,0.364570977,0.344288577,0.34167835,0.263217608,0.346749226,0.459738472,0.334208931]\n",
    "nb_auroc = [0.597526727,0.598281518,0.588577044,0.603516458,0.591753275,0.597642473,0.615290576,0.609125688,0.605222048,0.597124847]\n",
    "qda_p = [0.598055105,0.587112172,0.615144418,0.623635196,0.603341584,0.583417085,0.581278027,0.609243697,0.622959184,0.637880275]\n",
    "qda_r = [0.410341952,0.403719912,0.22041958,0.270473538,0.270457698,0.320275862,0.291701828,0.370212766,0.331703341,0.178866263]\n",
    "qda_f1 = [0.486727123,0.478444084,0.324546952,0.377307169,0.373491668,0.413535174,0.388462259,0.460561143,0.432901968,0.279389641]\n",
    "qda_auroc = [0.592502492,0.587143103,0.575781976,0.596452308,0.573122084,0.586302692,0.582928875,0.602182507,0.592468452,0.583199534]\n",
    "knn_p = [0.552092109,0.567606035,0.548340548,0.562091503,0.552009119,0.563278309,0.541607092,0.554573953,0.564044306,0.560745065]\n",
    "knn_r = [0.546566583,0.545404814,0.531468531,0.55097493,0.537309293,0.536551724,0.532770745,0.552056738,0.539527302,0.555035773]\n",
    "knn_f1 = [0.549315451,0.556284001,0.539772727,0.556477704,0.544560022,0.54959028,0.537152581,0.553312482,0.551513468,0.557875812]\n",
    "knn_auroc = [0.56817302,0.573699111,0.563184885,0.573698708,0.56508797,0.570872485,0.566815232,0.58218141,0.568991453,0.570539699]\n",
    "nn_p = [0.554309587,0.575225806,0.546289915,0.562076749,0.547015536,0.574614537,0.568716781,0.553571429,0.578253297,0.569992061]\n",
    "nn_r = [0.700861829,0.609682713,0.665174825,0.624233983,0.742302358,0.575724138,0.632067511,0.703546099,0.631350177,0.592735278]\n",
    "nn_f1 = [0.61903008,0.59195326,0.599899092,0.59152699,0.629869366,0.575168803,0.598721023,0.619612742,0.603636364,0.581141238]\n",
    "nn_auroc = [0.597146041,0.595599182,0.575477725,0.595715213,0.591768755,0.593459976,0.609431187,0.600672445,0.59865743,0.591807637]\n",
    "dm_p = [0.50330033,0.513633834,0.505277778,0.508855777,0.503941441,0.506740028,0.498347107,0.484257453,0.509782309,0.506942477]\n",
    "dm_r = [0.508757298,0.504923414,0.508811189,0.504178273,0.496532594,0.508137931,0.508860759,0.493049645,0.50258082,0.492294992]\n",
    "dm_f1 = [0.506014102,0.509241379,0.507038328,0.506506226,0.500209585,0.507438017,0.503549061,0.488614001,0.506155951,0.499511378]\n",
    "dm_auroc = [0.5,0.5,0.5,0.5,0.5,0.5,0.5,0.5,0.5,0.5]"
   ]
  },
  {
   "cell_type": "code",
   "execution_count": 23,
   "id": "c1555ced",
   "metadata": {},
   "outputs": [
    {
     "name": "stdout",
     "output_type": "stream",
     "text": [
      "p lr\n",
      "MannwhitneyuResult(statistic=100.0, pvalue=0.00018267179110955002) (1.0, 'large')\n",
      "p dt\n",
      "MannwhitneyuResult(statistic=100.0, pvalue=0.00018267179110955002) (1.0, 'large')\n",
      "p svm\n",
      "MannwhitneyuResult(statistic=100.0, pvalue=0.00018267179110955002) (1.0, 'large')\n",
      "p nb\n",
      "MannwhitneyuResult(statistic=17.0, pvalue=0.014019277113959953) (-0.66, 'large')\n",
      "p qda\n",
      "MannwhitneyuResult(statistic=75.0, pvalue=0.06402210128302689) (0.5, 'large')\n",
      "p knn\n",
      "MannwhitneyuResult(statistic=100.0, pvalue=0.00018267179110955002) (1.0, 'large')\n",
      "p nn\n",
      "MannwhitneyuResult(statistic=100.0, pvalue=0.00018267179110955002) (1.0, 'large')\n",
      "p dm\n",
      "MannwhitneyuResult(statistic=100.0, pvalue=0.00018267179110955002) (1.0, 'large')\n",
      "r lr\n",
      "MannwhitneyuResult(statistic=72.5, pvalue=0.09617854690583334) (0.45, 'medium')\n",
      "r dt\n",
      "MannwhitneyuResult(statistic=100.0, pvalue=0.00018267179110955002) (1.0, 'large')\n",
      "r svm\n",
      "MannwhitneyuResult(statistic=0.0, pvalue=0.00018267179110955002) (-1.0, 'large')\n",
      "r nb\n",
      "MannwhitneyuResult(statistic=100.0, pvalue=0.00018267179110955002) (1.0, 'large')\n",
      "r qda\n",
      "MannwhitneyuResult(statistic=100.0, pvalue=0.00018267179110955002) (1.0, 'large')\n",
      "r knn\n",
      "MannwhitneyuResult(statistic=100.0, pvalue=0.00018267179110955002) (1.0, 'large')\n",
      "r nn\n",
      "MannwhitneyuResult(statistic=27.0, pvalue=0.08897301170181328) (-0.46, 'medium')\n",
      "r dm\n",
      "MannwhitneyuResult(statistic=100.0, pvalue=0.00018267179110955002) (1.0, 'large')\n",
      "f1 lr\n",
      "MannwhitneyuResult(statistic=100.0, pvalue=0.00018267179110955002) (1.0, 'large')\n",
      "f1 dt\n",
      "MannwhitneyuResult(statistic=100.0, pvalue=0.00018267179110955002) (1.0, 'large')\n",
      "f1 svm\n",
      "MannwhitneyuResult(statistic=56.0, pvalue=0.6775849579524755) (0.12, 'negligible')\n",
      "f1 nb\n",
      "MannwhitneyuResult(statistic=100.0, pvalue=0.00018267179110955002) (1.0, 'large')\n",
      "f1 qda\n",
      "MannwhitneyuResult(statistic=100.0, pvalue=0.00018267179110955002) (1.0, 'large')\n",
      "f1 knn\n",
      "MannwhitneyuResult(statistic=100.0, pvalue=0.00018267179110955002) (1.0, 'large')\n",
      "f1 nn\n",
      "MannwhitneyuResult(statistic=76.0, pvalue=0.053902557169387175) (0.52, 'large')\n",
      "f1 dm\n",
      "MannwhitneyuResult(statistic=100.0, pvalue=0.00018267179110955002) (1.0, 'large')\n",
      "auroc lr\n",
      "MannwhitneyuResult(statistic=100.0, pvalue=0.00018267179110955002) (1.0, 'large')\n",
      "auroc dt\n",
      "MannwhitneyuResult(statistic=100.0, pvalue=0.00018267179110955002) (1.0, 'large')\n",
      "auroc svm\n",
      "MannwhitneyuResult(statistic=100.0, pvalue=0.00018267179110955002) (1.0, 'large')\n",
      "auroc nb\n",
      "MannwhitneyuResult(statistic=100.0, pvalue=0.00018267179110955002) (1.0, 'large')\n",
      "auroc qda\n",
      "MannwhitneyuResult(statistic=100.0, pvalue=0.00018267179110955002) (1.0, 'large')\n",
      "auroc knn\n",
      "MannwhitneyuResult(statistic=100.0, pvalue=0.00018267179110955002) (1.0, 'large')\n",
      "auroc nn\n",
      "MannwhitneyuResult(statistic=100.0, pvalue=0.00018267179110955002) (1.0, 'large')\n",
      "auroc dm\n",
      "MannwhitneyuResult(statistic=100.0, pvalue=6.386444750436982e-05) (1.0, 'large')\n"
     ]
    }
   ],
   "source": [
    "model_target = 'rf'\n",
    "models = ['lr','dt','svm','nb','qda','knn','nn','dm']\n",
    "metrics = ['p','r','f1','auroc']\n",
    "for me in metrics:\n",
    "    for mo in models:\n",
    "        print(me,mo)\n",
    "        pvalue = eval('mannwhitneyu('+model_target+'_'+me+','+mo+'_'+me+')')\n",
    "        effsize = eval('cliffsDelta('+model_target+'_'+me+','+mo+'_'+me+')')\n",
    "        print(pvalue,effsize)"
   ]
  },
  {
   "cell_type": "markdown",
   "id": "988e999d",
   "metadata": {},
   "source": [
    "# Feature Importance"
   ]
  },
  {
   "cell_type": "code",
   "execution_count": 59,
   "id": "b3eb3b9a",
   "metadata": {},
   "outputs": [
    {
     "name": "stderr",
     "output_type": "stream",
     "text": [
      "<ipython-input-59-6bdd35aabff6>:10: SettingWithCopyWarning: \n",
      "A value is trying to be set on a copy of a slice from a DataFrame.\n",
      "Try using .loc[row_indexer,col_indexer] = value instead\n",
      "\n",
      "See the caveats in the documentation: https://pandas.pydata.org/pandas-docs/stable/user_guide/indexing.html#returning-a-view-versus-a-copy\n",
      "  df_x[e] = df_x[e].map(lambda x: 1 if x=='YES' else 0)\n",
      "<ipython-input-59-6bdd35aabff6>:12: SettingWithCopyWarning: \n",
      "A value is trying to be set on a copy of a slice from a DataFrame.\n",
      "Try using .loc[row_indexer,col_indexer] = value instead\n",
      "\n",
      "See the caveats in the documentation: https://pandas.pydata.org/pandas-docs/stable/user_guide/indexing.html#returning-a-view-versus-a-copy\n",
      "  df_x['merged'] = df_x['merged'].map(lambda x: 1 if x else 0)\n",
      "<ipython-input-59-6bdd35aabff6>:14: SettingWithCopyWarning: \n",
      "A value is trying to be set on a copy of a slice from a DataFrame.\n",
      "Try using .loc[row_indexer,col_indexer] = value instead\n",
      "\n",
      "See the caveats in the documentation: https://pandas.pydata.org/pandas-docs/stable/user_guide/indexing.html#returning-a-view-versus-a-copy\n",
      "  df_x['future_contribution'] = df_x['future_contribution'].map(lambda x: 1 if x>0 else 0)\n"
     ]
    },
    {
     "name": "stdout",
     "output_type": "stream",
     "text": [
      "sentiment \t -4 \t 3\n",
      "responsiveness \t 1.0 \t 161647217.0\n",
      "interaction \t 0 \t 1599\n",
      "word_first_response \t 1 \t 167\n",
      "other_project_pr \t 0.0 \t 7949.0\n",
      "other_same_language_pr \t 0.0 \t 1893.0\n",
      "gh_account_duration \t 0.0 \t 408721859.0\n",
      "project_commit \t 0.0 \t 219752.0\n",
      "project_pr \t 0.0 \t 45416.0\n",
      "pr_commit \t 0.0 \t 643.0\n"
     ]
    },
    {
     "data": {
      "text/plain": [
       "{'sentiment': {'max': 3, 'min': -4},\n",
       " 'responsiveness': {'max': 161647217.0, 'min': 1.0},\n",
       " 'interaction': {'max': 1599, 'min': 0},\n",
       " 'word_first_response': {'max': 167, 'min': 1},\n",
       " 'other_project_pr': {'max': 7949.0, 'min': 0.0},\n",
       " 'other_same_language_pr': {'max': 1893.0, 'min': 0.0},\n",
       " 'gh_account_duration': {'max': 408721859.0, 'min': 0.0},\n",
       " 'project_commit': {'max': 219752.0, 'min': 0.0},\n",
       " 'project_pr': {'max': 45416.0, 'min': 0.0},\n",
       " 'pr_commit': {'max': 643.0, 'min': 0.0}}"
      ]
     },
     "execution_count": 59,
     "metadata": {},
     "output_type": "execute_result"
    }
   ],
   "source": [
    "final_feature_df = pd.read_csv(os.path.join(exper_dir,'final_feature_df.csv'))\n",
    "df_x = final_feature_df[['toxic','anger','fear','joy','love', 'sadness', 'surprise', 'sentiment',\n",
    "       'responsiveness', 'interaction', 'word_first_response', 'merged',\n",
    "       'other_project_pr', 'other_same_language_pr', 'gh_account_duration', 'project_commit', 'project_pr',\n",
    "       'language', 'pr_commit','future_contribution']]\n",
    "\n",
    "\n",
    "emotion = ['anger','fear','joy','love', 'sadness','surprise']\n",
    "for e in emotion:\n",
    "    df_x[e] = df_x[e].map(lambda x: 1 if x=='YES' else 0)\n",
    "\n",
    "df_x['merged'] = df_x['merged'].map(lambda x: 1 if x else 0)\n",
    "\n",
    "df_x['future_contribution'] = df_x['future_contribution'].map(lambda x: 1 if x>0 else 0)\n",
    "\n",
    "# from sklearn.preprocessing import OneHotEncoder\n",
    "# df_x = df_x.reset_index().drop(columns=['index'])\n",
    "# enc = OneHotEncoder(handle_unknown='ignore')\n",
    "# enc_df = pd.DataFrame(enc.fit_transform(df_x[['language']]).toarray())\n",
    "# df_x = df_x.join(enc_df)\n",
    "\n",
    "programming_langauge = df_x['language'].unique()\n",
    "programming_langauge_df = pd.DataFrame(programming_langauge, columns=['language'])\n",
    "dum_df = pd.get_dummies(programming_langauge_df, columns=[\"language\"], prefix=[\"language\"] )\n",
    "programming_langauge_df = programming_langauge_df.join(dum_df)\n",
    "df_x = pd.merge(df_x, programming_langauge_df, how='inner', on='language')\n",
    "df_x.drop(columns=['language'],inplace=True)\n",
    "\n",
    "df_y = list(df_x['future_contribution'])\n",
    "df_x.drop(columns=['future_contribution'],inplace=True)\n",
    "csvdf = df_x\n",
    "dict_normalize = {}\n",
    "tempcsv=csvdf.select_dtypes(exclude='object')\n",
    "for column in tempcsv:\n",
    "    if tempcsv[column].min() != 0 or tempcsv[column].max() != 1:\n",
    "        dict_normalize[column] = {}\n",
    "        dict_normalize[column]['max'] = tempcsv[column].max()\n",
    "        dict_normalize[column]['min'] = tempcsv[column].min()\n",
    "        print(column,\"\\t\", tempcsv[column].min(),\"\\t\",tempcsv[column].max())\n",
    "        csvdf[column] = (csvdf[column] - csvdf[column].min())/(csvdf[column].max()-csvdf[column].min())\n",
    "dict_normalize\n",
    "# pickle.dump(dict_normalize, open(outputfilename['norm'], 'wb')) # # # # # # @@@ CHANGE OUTPUT @@@ # # # # # #\n",
    "\n",
    "# x_df = csvdf.drop(['future_contribution'], axis=1)\n",
    "# y_df = csvdf['future_contribution']\n",
    "# pd.to_numeric(y_df)\n",
    "# y_df = y_df.astype(np.float16)\n"
   ]
  },
  {
   "cell_type": "code",
   "execution_count": 60,
   "id": "3332a6e0",
   "metadata": {},
   "outputs": [
    {
     "ename": "NameError",
     "evalue": "name 'y_df' is not defined",
     "output_type": "error",
     "traceback": [
      "\u001b[0;31m---------------------------------------------------------------------------\u001b[0m",
      "\u001b[0;31mNameError\u001b[0m                                 Traceback (most recent call last)",
      "\u001b[0;32m<ipython-input-60-27be77278625>\u001b[0m in \u001b[0;36m<module>\u001b[0;34m\u001b[0m\n\u001b[0;32m----> 1\u001b[0;31m \u001b[0my_df\u001b[0m\u001b[0;34m.\u001b[0m\u001b[0mvalue_counts\u001b[0m\u001b[0;34m(\u001b[0m\u001b[0;34m)\u001b[0m\u001b[0;34m\u001b[0m\u001b[0;34m\u001b[0m\u001b[0m\n\u001b[0m",
      "\u001b[0;31mNameError\u001b[0m: name 'y_df' is not defined"
     ]
    }
   ],
   "source": [
    "y_df.value_counts()"
   ]
  },
  {
   "cell_type": "code",
   "execution_count": 61,
   "id": "0ef88127",
   "metadata": {},
   "outputs": [
    {
     "data": {
      "text/plain": [
       "Interact        41887\n",
       "Not-Interact    29549\n",
       "Name: type2, dtype: int64"
      ]
     },
     "execution_count": 61,
     "metadata": {},
     "output_type": "execute_result"
    }
   ],
   "source": [
    "final_feature_df['type2'].value_counts()"
   ]
  },
  {
   "cell_type": "code",
   "execution_count": 62,
   "id": "a3d33176",
   "metadata": {},
   "outputs": [],
   "source": [
    "import matplotlib.pyplot as plt\n",
    "import numpy as np\n",
    "\n",
    "from sklearn.datasets import fetch_openml\n",
    "from sklearn.ensemble import RandomForestClassifier\n",
    "from sklearn.impute import SimpleImputer\n",
    "from sklearn.inspection import permutation_importance\n",
    "from sklearn.compose import ColumnTransformer\n",
    "from sklearn.model_selection import train_test_split\n",
    "from sklearn.pipeline import Pipeline\n",
    "from sklearn.preprocessing import OneHotEncoder"
   ]
  },
  {
   "cell_type": "code",
   "execution_count": 63,
   "id": "4e855fb2",
   "metadata": {},
   "outputs": [],
   "source": [
    "X_train, X_val, y_train, y_val = train_test_split(df_x, df_y, random_state=42)"
   ]
  },
  {
   "cell_type": "code",
   "execution_count": 64,
   "id": "75c52e51",
   "metadata": {},
   "outputs": [
    {
     "data": {
      "text/plain": [
       "Pipeline(steps=[('classifier',\n",
       "                 RandomForestClassifier(bootstrap=False, max_depth=20,\n",
       "                                        n_estimators=1800, n_jobs=-1))])"
      ]
     },
     "execution_count": 64,
     "metadata": {},
     "output_type": "execute_result"
    }
   ],
   "source": [
    "# categorical_encoder = OneHotEncoder(handle_unknown=\"ignore\")\n",
    "# numerical_pipe = Pipeline([(\"imputer\", SimpleImputer(strategy=\"mean\"))])\n",
    "# categorical_columns = ['language']\n",
    "# # numerical_columns = ['toxic','anger','fear','joy','love', 'sadness', 'surprise', 'sentiment',\n",
    "# #        'responsiveness', 'interaction', 'word_first_response', 'merged',\n",
    "# #        'other_project_pr', 'other_same_language_pr', 'gh_account_duration', 'project_commit', 'project_pr', 'pr_commit']\n",
    "# # preprocessing = ColumnTransformer(\n",
    "# #     [\n",
    "# #         (\"language\", categorical_encoder, categorical_columns),\n",
    "# #         (\"num\", numerical_pipe, numerical_columns)\n",
    "# #     ]\n",
    "# # )\n",
    "\n",
    "rf = Pipeline(\n",
    "    [\n",
    "#         (\"preprocess\", preprocessing),\n",
    "        (\"classifier\", RandomForestClassifier(**{'n_estimators': 1800,'min_samples_split': 2,'min_samples_leaf': 1,'max_features': 'auto','max_depth': 20,'bootstrap': False,'n_jobs':-1})),\n",
    "    ]\n",
    ")\n",
    "rf.fit(df_x,df_y)"
   ]
  },
  {
   "cell_type": "code",
   "execution_count": 34,
   "id": "fe7623d5",
   "metadata": {},
   "outputs": [],
   "source": [
    "# rf.named_steps[\"classifier\"].feature_importances_"
   ]
  },
  {
   "cell_type": "code",
   "execution_count": 35,
   "id": "d1f69dbd",
   "metadata": {},
   "outputs": [],
   "source": [
    "# ohe = rf.named_steps[\"preprocess\"].named_transformers_[\"language\"]\n",
    "# feature_names = ohe.get_feature_names(categorical_columns)\n",
    "# feature_names = np.r_[feature_names, numerical_columns]\n",
    "\n",
    "# tree_feature_importances = rf.named_steps[\"classifier\"].feature_importances_\n",
    "# sorted_idx = tree_feature_importances.argsort()\n",
    "\n",
    "# y_ticks = np.arange(0, len(feature_names))\n",
    "# fig, ax = plt.subplots()\n",
    "# ax.barh(y_ticks, tree_feature_importances[sorted_idx])\n",
    "# ax.set_yticks(y_ticks)\n",
    "# ax.set_yticklabels(feature_names[sorted_idx])\n",
    "# ax.set_title(\"Random Forest Feature Importances (MDI)\")\n",
    "# fig.tight_layout()\n",
    "# plt.show()"
   ]
  },
  {
   "cell_type": "code",
   "execution_count": 14,
   "id": "d17cbfa6",
   "metadata": {},
   "outputs": [
    {
     "ename": "NameError",
     "evalue": "name 'x_df' is not defined",
     "output_type": "error",
     "traceback": [
      "\u001b[0;31m---------------------------------------------------------------------------\u001b[0m",
      "\u001b[0;31mNameError\u001b[0m                                 Traceback (most recent call last)",
      "\u001b[0;32m<ipython-input-14-d5b61476d8dc>\u001b[0m in \u001b[0;36m<module>\u001b[0;34m\u001b[0m\n\u001b[1;32m      7\u001b[0m \u001b[0mplt\u001b[0m\u001b[0;34m.\u001b[0m\u001b[0mrcParams\u001b[0m\u001b[0;34m[\u001b[0m\u001b[0;34m'font.size'\u001b[0m\u001b[0;34m]\u001b[0m \u001b[0;34m=\u001b[0m \u001b[0;34m'20'\u001b[0m\u001b[0;34m\u001b[0m\u001b[0;34m\u001b[0m\u001b[0m\n\u001b[1;32m      8\u001b[0m ax.boxplot(\n\u001b[0;32m----> 9\u001b[0;31m     \u001b[0mresult\u001b[0m\u001b[0;34m.\u001b[0m\u001b[0mimportances\u001b[0m\u001b[0;34m[\u001b[0m\u001b[0msorted_idx\u001b[0m\u001b[0;34m]\u001b[0m\u001b[0;34m.\u001b[0m\u001b[0mT\u001b[0m\u001b[0;34m,\u001b[0m \u001b[0mvert\u001b[0m\u001b[0;34m=\u001b[0m\u001b[0;32mFalse\u001b[0m\u001b[0;34m,\u001b[0m \u001b[0mlabels\u001b[0m\u001b[0;34m=\u001b[0m\u001b[0mx_df\u001b[0m\u001b[0;34m.\u001b[0m\u001b[0mcolumns\u001b[0m\u001b[0;34m[\u001b[0m\u001b[0msorted_idx\u001b[0m\u001b[0;34m]\u001b[0m\u001b[0;34m\u001b[0m\u001b[0;34m\u001b[0m\u001b[0m\n\u001b[0m\u001b[1;32m     10\u001b[0m )\n\u001b[1;32m     11\u001b[0m \u001b[0;31m# ax.set_title(\"Feature Permutation Importances\")\u001b[0m\u001b[0;34m\u001b[0m\u001b[0;34m\u001b[0m\u001b[0;34m\u001b[0m\u001b[0m\n",
      "\u001b[0;31mNameError\u001b[0m: name 'x_df' is not defined"
     ]
    },
    {
     "data": {
      "image/png": "[encoded data removed]",
      "text/plain": [
       "<Figure size 792x648 with 1 Axes>"
      ]
     },
     "metadata": {
      "needs_background": "light"
     },
     "output_type": "display_data"
    }
   ],
   "source": [
    "result = permutation_importance(\n",
    "    rf, X_val,y_val, n_repeats=10, random_state=42\n",
    ")\n",
    "sorted_idx = result.importances_mean.argsort()\n",
    "\n",
    "fig, ax = plt.subplots(figsize=(11, 9))\n",
    "plt.rcParams['font.size'] = '20'\n",
    "ax.boxplot(\n",
    "    result.importances[sorted_idx].T, vert=False, labels=x_df.columns[sorted_idx]\n",
    ")\n",
    "# ax.set_title(\"Feature Permutation Importances\")\n",
    "fig.tight_layout()\n",
    "plt.savefig('fig/R3/feature_permutation_importances.pdf')\n",
    "plt.show()\n"
   ]
  },
  {
   "cell_type": "markdown",
   "id": "feb9bce6",
   "metadata": {},
   "source": [
    "# pairwise correlation"
   ]
  },
  {
   "cell_type": "code",
   "execution_count": 37,
   "id": "a5ef2b25",
   "metadata": {},
   "outputs": [
    {
     "data": {
      "image/png": "[encoded data removed]",
      "text/plain": [
       "<Figure size 792x648 with 2 Axes>"
      ]
     },
     "metadata": {
      "needs_background": "light"
     },
     "output_type": "display_data"
    }
   ],
   "source": [
    "d = df_x.copy(deep=True)\n",
    "d['future_contribution'] = df_y\n",
    "corr = d.corr()\n",
    "\n",
    "# Generate a mask for the upper triangle\n",
    "mask = np.triu(np.ones_like(corr, dtype=bool))\n",
    "\n",
    "# Set up the matplotlib figure\n",
    "f, ax = plt.subplots(figsize=(11, 9))\n",
    "\n",
    "# Generate a custom diverging colormap\n",
    "cmap = sns.diverging_palette(20, 230, as_cmap=True)\n",
    "\n",
    "# Draw the heatmap with the mask and correct aspect ratio\n",
    "sns.heatmap(corr, mask=mask, cmap=cmap, vmax=.3, center=0,\n",
    "            square=True, linewidths=.5, cbar_kws={\"shrink\": .5})\n",
    "plt.savefig('fig/R3/pairwise_correlation.pdf',bbox_inches=\"tight\")"
   ]
  },
  {
   "cell_type": "code",
   "execution_count": 303,
   "id": "6cc885df",
   "metadata": {},
   "outputs": [
    {
     "data": {
      "text/plain": [
       "NO     61903\n",
       "YES     9533\n",
       "Name: surprise, dtype: int64"
      ]
     },
     "execution_count": 303,
     "metadata": {},
     "output_type": "execute_result"
    }
   ],
   "source": [
    "final_feature_df['surprise'].value_counts()"
   ]
  },
  {
   "cell_type": "markdown",
   "id": "ccaec462",
   "metadata": {},
   "source": [
    "# Partial Independent Plot"
   ]
  },
  {
   "cell_type": "code",
   "execution_count": 65,
   "id": "0e07286e",
   "metadata": {},
   "outputs": [],
   "source": [
    "from sklearn.inspection import PartialDependenceDisplay"
   ]
  },
  {
   "cell_type": "code",
   "execution_count": 73,
   "id": "9c7443e1",
   "metadata": {},
   "outputs": [
    {
     "data": {
      "image/png": "[encoded data removed]",
      "text/plain": [
       "<Figure size 936x936 with 11 Axes>"
      ]
     },
     "metadata": {
      "needs_background": "light"
     },
     "output_type": "display_data"
    }
   ],
   "source": [
    "fig, ax = plt.subplots(figsize=(13, 13))\n",
    "pdp = PartialDependenceDisplay.from_estimator(rf, X_val, ['project_pr','language_Ruby','gh_account_duration','pr_commit','project_commit','interaction','merged','responsiveness','language_C++','other_same_language_pr'],ax=ax)\n"
   ]
  },
  {
   "cell_type": "code",
   "execution_count": 74,
   "id": "293f26a8",
   "metadata": {},
   "outputs": [],
   "source": [
    "fig.savefig('fig/R3/pdp.pdf',bbox_inches=\"tight\")"
   ]
  }
 ],
 "metadata": {
  "kernelspec": {
   "display_name": "Python 3",
   "language": "python",
   "name": "python3"
  },
  "language_info": {
   "codemirror_mode": {
    "name": "ipython",
    "version": 3
   },
   "file_extension": ".py",
   "mimetype": "text/x-python",
   "name": "python",
   "nbconvert_exporter": "python",
   "pygments_lexer": "ipython3",
   "version": "3.8.8"
  }
 },
 "nbformat": 4,
 "nbformat_minor": 5
}
